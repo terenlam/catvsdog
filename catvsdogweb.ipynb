{
  "cells": [
    {
      "cell_type": "code",
      "execution_count": null,
      "metadata": {
        "_kg_hide-input": true,
        "_kg_hide-output": true,
        "execution": {
          "iopub.execute_input": "2025-05-30T23:12:24.502524Z",
          "iopub.status.busy": "2025-05-30T23:12:24.502069Z",
          "iopub.status.idle": "2025-05-30T23:12:43.966768Z",
          "shell.execute_reply": "2025-05-30T23:12:43.965142Z"
        },
        "id": "5c8a77e8",
        "papermill": {
          "duration": 19.477201,
          "end_time": "2025-05-30T23:12:43.969425",
          "exception": false,
          "start_time": "2025-05-30T23:12:24.492224",
          "status": "completed"
        },
        "tags": []
      },
      "outputs": [],
      "source": [
        "!pip install -Uqq fastai"
      ],
      "id": "5c8a77e8"
    },
    {
      "cell_type": "code",
      "execution_count": null,
      "metadata": {
        "execution": {
          "iopub.execute_input": "2025-05-30T23:12:44.007387Z",
          "iopub.status.busy": "2025-05-30T23:12:44.007002Z",
          "iopub.status.idle": "2025-05-30T23:12:47.111042Z",
          "shell.execute_reply": "2025-05-30T23:12:47.110492Z"
        },
        "id": "c6f20a7e",
        "papermill": {
          "duration": 3.116091,
          "end_time": "2025-05-30T23:12:47.113076",
          "exception": false,
          "start_time": "2025-05-30T23:12:43.996985",
          "status": "completed"
        },
        "tags": []
      },
      "outputs": [],
      "source": [
        "from fastai.vision.all import *\n",
        "from fastai.vision.widgets import *\n",
        "import shutil"
      ],
      "id": "c6f20a7e"
    },
    {
      "cell_type": "code",
      "execution_count": null,
      "metadata": {
        "execution": {
          "iopub.execute_input": "2025-05-30T23:12:47.150054Z",
          "iopub.status.busy": "2025-05-30T23:12:47.149463Z",
          "iopub.status.idle": "2025-05-30T23:13:14.661888Z",
          "shell.execute_reply": "2025-05-30T23:13:14.661340Z"
        },
        "papermill": {
          "duration": 27.52408,
          "end_time": "2025-05-30T23:13:14.663821",
          "exception": false,
          "start_time": "2025-05-30T23:12:47.139741",
          "status": "completed"
        },
        "tags": [],
        "id": "d4ef34ca"
      },
      "outputs": [],
      "source": [
        "path = untar_data(URLs.PETS)/'images'"
      ],
      "id": "d4ef34ca"
    },
    {
      "cell_type": "code",
      "source": [
        "def is_cat(filename):\n",
        "    return filename[0].isupper()\n",
        "catdog_path = Path('cat_or_dog')\n",
        "pet_type = 'cat','dog'\n",
        "for i in pet_type:\n",
        "    (catdog_path / i).mkdir(parents=True, exist_ok=True)\n",
        "for file in path.iterdir():\n",
        "    if is_cat(file.name):\n",
        "        dest = catdog_path/pet_type[0]\n",
        "    else:\n",
        "        dest = catdog_path/pet_type[1]\n",
        "    shutil.copy(file, dest/file.name)"
      ],
      "metadata": {
        "id": "bqsSL_OaBYsl"
      },
      "execution_count": null,
      "outputs": [],
      "id": "bqsSL_OaBYsl"
    },
    {
      "cell_type": "code",
      "execution_count": null,
      "metadata": {
        "execution": {
          "iopub.execute_input": "2025-05-30T23:13:14.747603Z",
          "iopub.status.busy": "2025-05-30T23:13:14.746997Z",
          "iopub.status.idle": "2025-05-30T23:13:18.355517Z",
          "shell.execute_reply": "2025-05-30T23:13:18.354712Z"
        },
        "id": "72f33e24",
        "papermill": {
          "duration": 3.620641,
          "end_time": "2025-05-30T23:13:18.357521",
          "exception": false,
          "start_time": "2025-05-30T23:13:14.736880",
          "status": "completed"
        },
        "tags": []
      },
      "outputs": [],
      "source": [
        "dls = DataBlock(\n",
        "    blocks=(ImageBlock, CategoryBlock),\n",
        "    get_items=get_image_files,\n",
        "    splitter=RandomSplitter(valid_pct=0.2, seed=42),\n",
        "    get_y=parent_label,\n",
        "    item_tfms=RandomResizedCrop(224, min_scale=0.5),\n",
        "    batch_tfms=aug_transforms(mult=2)).dataloaders(catdog_path, bs=32)"
      ],
      "id": "72f33e24"
    },
    {
      "cell_type": "code",
      "execution_count": null,
      "metadata": {
        "execution": {
          "iopub.execute_input": "2025-05-30T23:13:18.396312Z",
          "iopub.status.busy": "2025-05-30T23:13:18.395686Z",
          "iopub.status.idle": "2025-05-30T23:15:06.878929Z",
          "shell.execute_reply": "2025-05-30T23:15:06.878040Z"
        },
        "id": "6bb0a052",
        "papermill": {
          "duration": 108.495783,
          "end_time": "2025-05-30T23:15:06.881024",
          "exception": false,
          "start_time": "2025-05-30T23:13:18.385241",
          "status": "completed"
        },
        "tags": [],
        "colab": {
          "base_uri": "https://localhost:8080/"
        },
        "outputId": "9934b38f-5777-4634-b9fb-86976071beb2"
      },
      "outputs": [
        {
          "output_type": "stream",
          "name": "stderr",
          "text": [
            "/usr/local/lib/python3.11/dist-packages/fastai/learner.py:67: UserWarning: Saved file doesn't contain an optimizer state.\n",
            "  elif with_opt: warn(\"Saved file doesn't contain an optimizer state.\")\n"
          ]
        },
        {
          "output_type": "execute_result",
          "data": {
            "text/plain": [
              "<fastai.learner.Learner at 0x7f31ce454650>"
            ]
          },
          "metadata": {},
          "execution_count": 6
        }
      ],
      "source": [
        "learn = vision_learner(dls, resnet18, metrics=error_rate)\n",
        "learn.load('model')"
      ],
      "id": "6bb0a052"
    },
    {
      "cell_type": "code",
      "source": [
        "labels = learn.dls.vocab\n",
        "def predict(img):\n",
        "    img = PILImage.create(img)\n",
        "    pred,pred_idx,probs = learn.predict(img)\n",
        "    label_str = f'Prediction: {pred}; Probability: {probs[pred_idx]:.04f}'\n",
        "    probs_dict = {labels[i]: float(probs[i]) for i in range(len(labels))}\n",
        "    return label_str, probs_dict"
      ],
      "metadata": {
        "id": "44TD-IkBhSCJ"
      },
      "id": "44TD-IkBhSCJ",
      "execution_count": null,
      "outputs": []
    },
    {
      "cell_type": "code",
      "source": [
        "import gradio as gr\n",
        "\n",
        "gr.Interface(\n",
        "    fn=predict,\n",
        "    title = \"Is it a cat?\",\n",
        "    description = \"A cat vs dog classifier trained on the Oxford Pets dataset with fastai. Created as a demo for Gradio and HuggingFace Spaces.\",\n",
        "    inputs=gr.Image(height=512, width=512),\n",
        "    outputs=[\n",
        "        gr.Textbox(label=\"Prediction Summary\"),\n",
        "        gr.Label(num_top_classes=3)\n",
        "    ],\n",
        "    examples = ['siamese.webp'],\n",
        "    article=\"<p style='text-align: center'><a href='https://tmabraham.github.io/blog/gradio_hf_spaces_tutorial' target='_blank'>Blog post</a></p>\"\n",
        ").launch(share=True)"
      ],
      "metadata": {
        "colab": {
          "base_uri": "https://localhost:8080/",
          "height": 611
        },
        "id": "JdgeYCdwbCos",
        "outputId": "32f5d74a-d81e-4537-98c3-8e5033d3e4a2"
      },
      "id": "JdgeYCdwbCos",
      "execution_count": null,
      "outputs": [
        {
          "output_type": "stream",
          "name": "stdout",
          "text": [
            "Colab notebook detected. To show errors in colab notebook, set debug=True in launch()\n",
            "* Running on public URL: https://1a36f06e004ac2c109.gradio.live\n",
            "\n",
            "This share link expires in 1 week. For free permanent hosting and GPU upgrades, run `gradio deploy` from the terminal in the working directory to deploy to Hugging Face Spaces (https://huggingface.co/spaces)\n"
          ]
        },
        {
          "output_type": "display_data",
          "data": {
            "text/plain": [
              "<IPython.core.display.HTML object>"
            ],
            "text/html": [
              "<div><iframe src=\"https://1a36f06e004ac2c109.gradio.live\" width=\"100%\" height=\"500\" allow=\"autoplay; camera; microphone; clipboard-read; clipboard-write;\" frameborder=\"0\" allowfullscreen></iframe></div>"
            ]
          },
          "metadata": {}
        },
        {
          "output_type": "execute_result",
          "data": {
            "text/plain": []
          },
          "metadata": {},
          "execution_count": 8
        }
      ]
    }
  ],
  "metadata": {
    "kaggle": {
      "accelerator": "gpu",
      "dataSources": [],
      "dockerImageVersionId": 30185,
      "isGpuEnabled": true,
      "isInternetEnabled": true,
      "language": "python",
      "sourceType": "notebook"
    },
    "kernelspec": {
      "display_name": "Python 3",
      "name": "python3"
    },
    "language_info": {
      "codemirror_mode": {
        "name": "ipython",
        "version": 3
      },
      "file_extension": ".py",
      "mimetype": "text/x-python",
      "name": "python",
      "nbconvert_exporter": "python",
      "pygments_lexer": "ipython3",
      "version": "3.7.12"
    },
    "papermill": {
      "default_parameters": {},
      "duration": 172.392635,
      "end_time": "2025-05-30T23:15:09.532044",
      "environment_variables": {},
      "exception": null,
      "input_path": "__notebook__.ipynb",
      "output_path": "__notebook__.ipynb",
      "parameters": {},
      "start_time": "2025-05-30T23:12:17.139409",
      "version": "2.3.4"
    },
    "colab": {
      "provenance": [],
      "gpuType": "T4"
    },
    "accelerator": "GPU"
  },
  "nbformat": 4,
  "nbformat_minor": 5
}