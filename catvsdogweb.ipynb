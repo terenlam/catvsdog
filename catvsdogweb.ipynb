{
  "cells": [
    {
      "cell_type": "code",
      "execution_count": null,
      "id": "5c8a77e8",
      "metadata": {
        "_kg_hide-input": true,
        "_kg_hide-output": true,
        "execution": {
          "iopub.execute_input": "2025-05-30T23:12:24.502524Z",
          "iopub.status.busy": "2025-05-30T23:12:24.502069Z",
          "iopub.status.idle": "2025-05-30T23:12:43.966768Z",
          "shell.execute_reply": "2025-05-30T23:12:43.965142Z"
        },
        "id": "5c8a77e8",
        "papermill": {
          "duration": 19.477201,
          "end_time": "2025-05-30T23:12:43.969425",
          "exception": false,
          "start_time": "2025-05-30T23:12:24.492224",
          "status": "completed"
        },
        "tags": [],
        "colab": {
          "base_uri": "https://localhost:8080/"
        },
        "outputId": "02cb9d97-c776-4bd2-b749-bcfd321b7703"
      },
      "outputs": [
        {
          "output_type": "stream",
          "name": "stdout",
          "text": [
            "\u001b[?25l   \u001b[90m━━━━━━━━━━━━━━━━━━━━━━━━━━━━━━━━━━━━━━━━\u001b[0m \u001b[32m0.0/235.3 kB\u001b[0m \u001b[31m?\u001b[0m eta \u001b[36m-:--:--\u001b[0m\r\u001b[2K   \u001b[90m━━━━━━━━━━━━━━━━━━━━━━━━━━━━━━━━━━━━━━━━\u001b[0m \u001b[32m235.3/235.3 kB\u001b[0m \u001b[31m8.9 MB/s\u001b[0m eta \u001b[36m0:00:00\u001b[0m\n",
            "\u001b[2K   \u001b[90m━━━━━━━━━━━━━━━━━━━━━━━━━━━━━━━━━━━━━━━━\u001b[0m \u001b[32m78.2/78.2 kB\u001b[0m \u001b[31m7.6 MB/s\u001b[0m eta \u001b[36m0:00:00\u001b[0m\n",
            "\u001b[2K   \u001b[90m━━━━━━━━━━━━━━━━━━━━━━━━━━━━━━━━━━━━━━━━\u001b[0m \u001b[32m363.4/363.4 MB\u001b[0m \u001b[31m4.0 MB/s\u001b[0m eta \u001b[36m0:00:00\u001b[0m\n",
            "\u001b[2K   \u001b[90m━━━━━━━━━━━━━━━━━━━━━━━━━━━━━━━━━━━━━━━━\u001b[0m \u001b[32m13.8/13.8 MB\u001b[0m \u001b[31m18.4 MB/s\u001b[0m eta \u001b[36m0:00:00\u001b[0m\n",
            "\u001b[2K   \u001b[90m━━━━━━━━━━━━━━━━━━━━━━━━━━━━━━━━━━━━━━━━\u001b[0m \u001b[32m24.6/24.6 MB\u001b[0m \u001b[31m24.0 MB/s\u001b[0m eta \u001b[36m0:00:00\u001b[0m\n",
            "\u001b[2K   \u001b[90m━━━━━━━━━━━━━━━━━━━━━━━━━━━━━━━━━━━━━━━━\u001b[0m \u001b[32m883.7/883.7 kB\u001b[0m \u001b[31m33.1 MB/s\u001b[0m eta \u001b[36m0:00:00\u001b[0m\n",
            "\u001b[2K   \u001b[90m━━━━━━━━━━━━━━━━━━━━━━━━━━━━━━━━━━━━━━━━\u001b[0m \u001b[32m664.8/664.8 MB\u001b[0m \u001b[31m2.2 MB/s\u001b[0m eta \u001b[36m0:00:00\u001b[0m\n",
            "\u001b[2K   \u001b[90m━━━━━━━━━━━━━━━━━━━━━━━━━━━━━━━━━━━━━━━━\u001b[0m \u001b[32m211.5/211.5 MB\u001b[0m \u001b[31m6.2 MB/s\u001b[0m eta \u001b[36m0:00:00\u001b[0m\n",
            "\u001b[2K   \u001b[90m━━━━━━━━━━━━━━━━━━━━━━━━━━━━━━━━━━━━━━━━\u001b[0m \u001b[32m56.3/56.3 MB\u001b[0m \u001b[31m11.4 MB/s\u001b[0m eta \u001b[36m0:00:00\u001b[0m\n",
            "\u001b[2K   \u001b[90m━━━━━━━━━━━━━━━━━━━━━━━━━━━━━━━━━━━━━━━━\u001b[0m \u001b[32m127.9/127.9 MB\u001b[0m \u001b[31m7.8 MB/s\u001b[0m eta \u001b[36m0:00:00\u001b[0m\n",
            "\u001b[2K   \u001b[90m━━━━━━━━━━━━━━━━━━━━━━━━━━━━━━━━━━━━━━━━\u001b[0m \u001b[32m207.5/207.5 MB\u001b[0m \u001b[31m6.1 MB/s\u001b[0m eta \u001b[36m0:00:00\u001b[0m\n",
            "\u001b[2K   \u001b[90m━━━━━━━━━━━━━━━━━━━━━━━━━━━━━━━━━━━━━━━━\u001b[0m \u001b[32m21.1/21.1 MB\u001b[0m \u001b[31m61.9 MB/s\u001b[0m eta \u001b[36m0:00:00\u001b[0m\n",
            "\u001b[2K   \u001b[90m━━━━━━━━━━━━━━━━━━━━━━━━━━━━━━━━━━━━━━━━\u001b[0m \u001b[32m42.6/42.6 kB\u001b[0m \u001b[31m3.9 MB/s\u001b[0m eta \u001b[36m0:00:00\u001b[0m\n",
            "\u001b[2K   \u001b[90m━━━━━━━━━━━━━━━━━━━━━━━━━━━━━━━━━━━━━━━━\u001b[0m \u001b[32m1.2/1.2 MB\u001b[0m \u001b[31m51.7 MB/s\u001b[0m eta \u001b[36m0:00:00\u001b[0m\n",
            "\u001b[?25h"
          ]
        }
      ],
      "source": [
        "# Make sure we've got the latest version of fastai:\n",
        "!pip install -Uqq fastai"
      ]
    },
    {
      "cell_type": "markdown",
      "id": "179e2496",
      "metadata": {
        "papermill": {
          "duration": 0.008684,
          "end_time": "2025-05-30T23:12:43.987961",
          "exception": false,
          "start_time": "2025-05-30T23:12:43.979277",
          "status": "completed"
        },
        "tags": [],
        "id": "179e2496"
      },
      "source": [
        "First, import all the stuff we need from fastai:"
      ]
    },
    {
      "cell_type": "code",
      "execution_count": null,
      "id": "c6f20a7e",
      "metadata": {
        "execution": {
          "iopub.execute_input": "2025-05-30T23:12:44.007387Z",
          "iopub.status.busy": "2025-05-30T23:12:44.007002Z",
          "iopub.status.idle": "2025-05-30T23:12:47.111042Z",
          "shell.execute_reply": "2025-05-30T23:12:47.110492Z"
        },
        "id": "c6f20a7e",
        "papermill": {
          "duration": 3.116091,
          "end_time": "2025-05-30T23:12:47.113076",
          "exception": false,
          "start_time": "2025-05-30T23:12:43.996985",
          "status": "completed"
        },
        "tags": []
      },
      "outputs": [],
      "source": [
        "from fastai.vision.all import *\n",
        "from fastai.vision.widgets import *"
      ]
    },
    {
      "cell_type": "markdown",
      "id": "c6a14a3a",
      "metadata": {
        "papermill": {
          "duration": 0.00855,
          "end_time": "2025-05-30T23:12:47.131087",
          "exception": false,
          "start_time": "2025-05-30T23:12:47.122537",
          "status": "completed"
        },
        "tags": [],
        "id": "c6a14a3a"
      },
      "source": [
        "Download and decompress our dataset, which is pictures of dogs and cats"
      ]
    },
    {
      "cell_type": "code",
      "source": [
        "path = Path()\n",
        "learn = load_learner(path/'model.pkl')"
      ],
      "metadata": {
        "id": "w603UkAnf5iN",
        "colab": {
          "base_uri": "https://localhost:8080/",
          "height": 301
        },
        "outputId": "d3367f49-8f51-40ee-e56c-476c570e6e08"
      },
      "id": "w603UkAnf5iN",
      "execution_count": null,
      "outputs": [
        {
          "output_type": "error",
          "ename": "FileNotFoundError",
          "evalue": "[Errno 2] No such file or directory: 'model.pkl'",
          "traceback": [
            "\u001b[0;31m---------------------------------------------------------------------------\u001b[0m",
            "\u001b[0;31mFileNotFoundError\u001b[0m                         Traceback (most recent call last)",
            "\u001b[0;32m<ipython-input-8-e74d8a276412>\u001b[0m in \u001b[0;36m<cell line: 0>\u001b[0;34m()\u001b[0m\n\u001b[0;32m----> 1\u001b[0;31m \u001b[0mlearn\u001b[0m \u001b[0;34m=\u001b[0m \u001b[0mload_learner\u001b[0m\u001b[0;34m(\u001b[0m\u001b[0;34m'model.pkl'\u001b[0m\u001b[0;34m)\u001b[0m\u001b[0;34m\u001b[0m\u001b[0;34m\u001b[0m\u001b[0m\n\u001b[0m",
            "\u001b[0;32m/usr/local/lib/python3.11/dist-packages/fastai/learner.py\u001b[0m in \u001b[0;36mload_learner\u001b[0;34m(fname, cpu, pickle_module)\u001b[0m\n\u001b[1;32m    455\u001b[0m         \u001b[0mwarn\u001b[0m\u001b[0;34m(\u001b[0m\u001b[0;34m\"load_learner` uses Python's insecure pickle module, which can execute malicious arbitrary code when loading. Only load files you trust.\\nIf you only need to load model weights and optimizer state, use the safe `Learner.load` instead.\"\u001b[0m\u001b[0;34m)\u001b[0m\u001b[0;34m\u001b[0m\u001b[0;34m\u001b[0m\u001b[0m\n\u001b[1;32m    456\u001b[0m         \u001b[0mload_kwargs\u001b[0m \u001b[0;34m=\u001b[0m \u001b[0;34m{\u001b[0m\u001b[0;34m\"weights_only\"\u001b[0m\u001b[0;34m:\u001b[0m \u001b[0;32mFalse\u001b[0m\u001b[0;34m}\u001b[0m \u001b[0;32mif\u001b[0m \u001b[0mismin_torch\u001b[0m\u001b[0;34m(\u001b[0m\u001b[0;34m\"2.6\"\u001b[0m\u001b[0;34m)\u001b[0m \u001b[0;32melse\u001b[0m \u001b[0;34m{\u001b[0m\u001b[0;34m}\u001b[0m\u001b[0;34m\u001b[0m\u001b[0;34m\u001b[0m\u001b[0m\n\u001b[0;32m--> 457\u001b[0;31m         \u001b[0mres\u001b[0m \u001b[0;34m=\u001b[0m \u001b[0mtorch\u001b[0m\u001b[0;34m.\u001b[0m\u001b[0mload\u001b[0m\u001b[0;34m(\u001b[0m\u001b[0mfname\u001b[0m\u001b[0;34m,\u001b[0m \u001b[0mmap_location\u001b[0m\u001b[0;34m=\u001b[0m\u001b[0mmap_loc\u001b[0m\u001b[0;34m,\u001b[0m \u001b[0mpickle_module\u001b[0m\u001b[0;34m=\u001b[0m\u001b[0mpickle_module\u001b[0m\u001b[0;34m,\u001b[0m \u001b[0;34m**\u001b[0m\u001b[0mload_kwargs\u001b[0m\u001b[0;34m)\u001b[0m\u001b[0;34m\u001b[0m\u001b[0;34m\u001b[0m\u001b[0m\n\u001b[0m\u001b[1;32m    458\u001b[0m     \u001b[0;32mexcept\u001b[0m \u001b[0mImportError\u001b[0m \u001b[0;32mas\u001b[0m \u001b[0me\u001b[0m\u001b[0;34m:\u001b[0m\u001b[0;34m\u001b[0m\u001b[0;34m\u001b[0m\u001b[0m\n\u001b[1;32m    459\u001b[0m         \u001b[0;32mif\u001b[0m \u001b[0many\u001b[0m\u001b[0;34m(\u001b[0m\u001b[0mo\u001b[0m \u001b[0;32min\u001b[0m \u001b[0mstr\u001b[0m\u001b[0;34m(\u001b[0m\u001b[0me\u001b[0m\u001b[0;34m)\u001b[0m \u001b[0;32mfor\u001b[0m \u001b[0mo\u001b[0m \u001b[0;32min\u001b[0m \u001b[0;34m(\u001b[0m\u001b[0;34m\"fastcore.transform\"\u001b[0m\u001b[0;34m,\u001b[0m\u001b[0;34m\"fastcore.dispatch\"\u001b[0m\u001b[0;34m)\u001b[0m\u001b[0;34m)\u001b[0m\u001b[0;34m:\u001b[0m\u001b[0;34m\u001b[0m\u001b[0;34m\u001b[0m\u001b[0m\n",
            "\u001b[0;32m/usr/local/lib/python3.11/dist-packages/torch/serialization.py\u001b[0m in \u001b[0;36mload\u001b[0;34m(f, map_location, pickle_module, weights_only, mmap, **pickle_load_args)\u001b[0m\n\u001b[1;32m   1423\u001b[0m         \u001b[0mpickle_load_args\u001b[0m\u001b[0;34m[\u001b[0m\u001b[0;34m\"encoding\"\u001b[0m\u001b[0;34m]\u001b[0m \u001b[0;34m=\u001b[0m \u001b[0;34m\"utf-8\"\u001b[0m\u001b[0;34m\u001b[0m\u001b[0;34m\u001b[0m\u001b[0m\n\u001b[1;32m   1424\u001b[0m \u001b[0;34m\u001b[0m\u001b[0m\n\u001b[0;32m-> 1425\u001b[0;31m     \u001b[0;32mwith\u001b[0m \u001b[0m_open_file_like\u001b[0m\u001b[0;34m(\u001b[0m\u001b[0mf\u001b[0m\u001b[0;34m,\u001b[0m \u001b[0;34m\"rb\"\u001b[0m\u001b[0;34m)\u001b[0m \u001b[0;32mas\u001b[0m \u001b[0mopened_file\u001b[0m\u001b[0;34m:\u001b[0m\u001b[0;34m\u001b[0m\u001b[0;34m\u001b[0m\u001b[0m\n\u001b[0m\u001b[1;32m   1426\u001b[0m         \u001b[0;32mif\u001b[0m \u001b[0m_is_zipfile\u001b[0m\u001b[0;34m(\u001b[0m\u001b[0mopened_file\u001b[0m\u001b[0;34m)\u001b[0m\u001b[0;34m:\u001b[0m\u001b[0;34m\u001b[0m\u001b[0;34m\u001b[0m\u001b[0m\n\u001b[1;32m   1427\u001b[0m             \u001b[0;31m# The zipfile reader is going to advance the current file position.\u001b[0m\u001b[0;34m\u001b[0m\u001b[0;34m\u001b[0m\u001b[0m\n",
            "\u001b[0;32m/usr/local/lib/python3.11/dist-packages/torch/serialization.py\u001b[0m in \u001b[0;36m_open_file_like\u001b[0;34m(name_or_buffer, mode)\u001b[0m\n\u001b[1;32m    749\u001b[0m \u001b[0;32mdef\u001b[0m \u001b[0m_open_file_like\u001b[0m\u001b[0;34m(\u001b[0m\u001b[0mname_or_buffer\u001b[0m\u001b[0;34m,\u001b[0m \u001b[0mmode\u001b[0m\u001b[0;34m)\u001b[0m\u001b[0;34m:\u001b[0m\u001b[0;34m\u001b[0m\u001b[0;34m\u001b[0m\u001b[0m\n\u001b[1;32m    750\u001b[0m     \u001b[0;32mif\u001b[0m \u001b[0m_is_path\u001b[0m\u001b[0;34m(\u001b[0m\u001b[0mname_or_buffer\u001b[0m\u001b[0;34m)\u001b[0m\u001b[0;34m:\u001b[0m\u001b[0;34m\u001b[0m\u001b[0;34m\u001b[0m\u001b[0m\n\u001b[0;32m--> 751\u001b[0;31m         \u001b[0;32mreturn\u001b[0m \u001b[0m_open_file\u001b[0m\u001b[0;34m(\u001b[0m\u001b[0mname_or_buffer\u001b[0m\u001b[0;34m,\u001b[0m \u001b[0mmode\u001b[0m\u001b[0;34m)\u001b[0m\u001b[0;34m\u001b[0m\u001b[0;34m\u001b[0m\u001b[0m\n\u001b[0m\u001b[1;32m    752\u001b[0m     \u001b[0;32melse\u001b[0m\u001b[0;34m:\u001b[0m\u001b[0;34m\u001b[0m\u001b[0;34m\u001b[0m\u001b[0m\n\u001b[1;32m    753\u001b[0m         \u001b[0;32mif\u001b[0m \u001b[0;34m\"w\"\u001b[0m \u001b[0;32min\u001b[0m \u001b[0mmode\u001b[0m\u001b[0;34m:\u001b[0m\u001b[0;34m\u001b[0m\u001b[0;34m\u001b[0m\u001b[0m\n",
            "\u001b[0;32m/usr/local/lib/python3.11/dist-packages/torch/serialization.py\u001b[0m in \u001b[0;36m__init__\u001b[0;34m(self, name, mode)\u001b[0m\n\u001b[1;32m    730\u001b[0m \u001b[0;32mclass\u001b[0m \u001b[0m_open_file\u001b[0m\u001b[0;34m(\u001b[0m\u001b[0m_opener\u001b[0m\u001b[0;34m)\u001b[0m\u001b[0;34m:\u001b[0m\u001b[0;34m\u001b[0m\u001b[0;34m\u001b[0m\u001b[0m\n\u001b[1;32m    731\u001b[0m     \u001b[0;32mdef\u001b[0m \u001b[0m__init__\u001b[0m\u001b[0;34m(\u001b[0m\u001b[0mself\u001b[0m\u001b[0;34m,\u001b[0m \u001b[0mname\u001b[0m\u001b[0;34m,\u001b[0m \u001b[0mmode\u001b[0m\u001b[0;34m)\u001b[0m\u001b[0;34m:\u001b[0m\u001b[0;34m\u001b[0m\u001b[0;34m\u001b[0m\u001b[0m\n\u001b[0;32m--> 732\u001b[0;31m         \u001b[0msuper\u001b[0m\u001b[0;34m(\u001b[0m\u001b[0;34m)\u001b[0m\u001b[0;34m.\u001b[0m\u001b[0m__init__\u001b[0m\u001b[0;34m(\u001b[0m\u001b[0mopen\u001b[0m\u001b[0;34m(\u001b[0m\u001b[0mname\u001b[0m\u001b[0;34m,\u001b[0m \u001b[0mmode\u001b[0m\u001b[0;34m)\u001b[0m\u001b[0;34m)\u001b[0m\u001b[0;34m\u001b[0m\u001b[0;34m\u001b[0m\u001b[0m\n\u001b[0m\u001b[1;32m    733\u001b[0m \u001b[0;34m\u001b[0m\u001b[0m\n\u001b[1;32m    734\u001b[0m     \u001b[0;32mdef\u001b[0m \u001b[0m__exit__\u001b[0m\u001b[0;34m(\u001b[0m\u001b[0mself\u001b[0m\u001b[0;34m,\u001b[0m \u001b[0;34m*\u001b[0m\u001b[0margs\u001b[0m\u001b[0;34m)\u001b[0m\u001b[0;34m:\u001b[0m\u001b[0;34m\u001b[0m\u001b[0;34m\u001b[0m\u001b[0m\n",
            "\u001b[0;31mFileNotFoundError\u001b[0m: [Errno 2] No such file or directory: 'model.pkl'"
          ]
        }
      ]
    },
    {
      "cell_type": "code",
      "source": [
        "btn_upload = widgets.FileUpload()\n",
        "btn_run = widgets.Button(description='Classify')\n",
        "out_pl = widgets.Output()\n",
        "lbl_pred = widgets.Label()\n",
        "def on_click_classify(change):\n",
        "    img = PILImage.create(btn_upload.data[-1])\n",
        "    out_pl.clear_output()\n",
        "    with out_pl: display(img.to_thumb(128,128))\n",
        "    pred,pred_idx,probs = learn.predict(img)\n",
        "    lbl_pred.value = f'Prediction: {pred}; Probability: {probs[pred_idx]:.04f}'\n",
        "\n",
        "btn_run.on_click(on_click_classify)\n",
        "VBox([widgets.Label('Select a cat or a dog!'),\n",
        "      btn_upload, btn_run, out_pl, lbl_pred])"
      ],
      "metadata": {
        "colab": {
          "base_uri": "https://localhost:8080/",
          "height": 217,
          "referenced_widgets": [
            "6688be921b61486f8437c62f5cd4a017",
            "fe90bbd5fb684807a5e61818d8594185",
            "14000d3dbba74718abec373212e4d4ca",
            "dcfe028b948b48a4b4a01697c14d0906",
            "3922f420761644ea91ae907fe4cb3f6c",
            "8241d03af69141098f5dc63fe0c3aac7",
            "49c1c943db3d4e0984ba80eee05301b9",
            "def97aa550124428aba54386e7bcddb5",
            "b58f2a7643b340e7b7868f06b3524b4b",
            "f39be83967d7457ead0688dde95c539a",
            "67e0de3ce2134e5eb585042e35c6a89c",
            "b67102253be84d099ea218740dc6eb4c",
            "92280398a7c94138af3ec4f751ef77d8",
            "66ca6fc003134f5ea4fc630c9430ca93",
            "a22a882cbb724d57ac70bf076905f7bf",
            "f270fe63237e4a06bfcdf36f17bd5a0c"
          ]
        },
        "id": "HRAI2ASViAzE",
        "outputId": "1d1eb628-fb39-41e2-9343-1ab1421befc7"
      },
      "id": "HRAI2ASViAzE",
      "execution_count": null,
      "outputs": [
        {
          "output_type": "display_data",
          "data": {
            "text/plain": [
              "VBox(children=(Label(value='Select a cat or a dog!'), FileUpload(value={}, description='Upload'), Button(descr…"
            ],
            "application/vnd.jupyter.widget-view+json": {
              "version_major": 2,
              "version_minor": 0,
              "model_id": "6688be921b61486f8437c62f5cd4a017"
            }
          },
          "metadata": {}
        },
        {
          "output_type": "display_data",
          "data": {
            "text/plain": [
              "<IPython.core.display.HTML object>"
            ],
            "text/html": [
              "\n",
              "<style>\n",
              "    /* Turns off some styling */\n",
              "    progress {\n",
              "        /* gets rid of default border in Firefox and Opera. */\n",
              "        border: none;\n",
              "        /* Needs to be in here for Safari polyfill so background images work as expected. */\n",
              "        background-size: auto;\n",
              "    }\n",
              "    progress:not([value]), progress:not([value])::-webkit-progress-bar {\n",
              "        background: repeating-linear-gradient(45deg, #7e7e7e, #7e7e7e 10px, #5c5c5c 10px, #5c5c5c 20px);\n",
              "    }\n",
              "    .progress-bar-interrupted, .progress-bar-interrupted::-webkit-progress-bar {\n",
              "        background: #F44336;\n",
              "    }\n",
              "</style>\n"
            ]
          },
          "metadata": {}
        },
        {
          "output_type": "display_data",
          "data": {
            "text/plain": [
              "<IPython.core.display.HTML object>"
            ],
            "text/html": []
          },
          "metadata": {}
        }
      ]
    }
  ],
  "metadata": {
    "kaggle": {
      "accelerator": "gpu",
      "dataSources": [],
      "dockerImageVersionId": 30185,
      "isGpuEnabled": true,
      "isInternetEnabled": true,
      "language": "python",
      "sourceType": "notebook"
    },
    "kernelspec": {
      "display_name": "Python 3",
      "name": "python3"
    },
    "language_info": {
      "codemirror_mode": {
        "name": "ipython",
        "version": 3
      },
      "file_extension": ".py",
      "mimetype": "text/x-python",
      "name": "python",
      "nbconvert_exporter": "python",
      "pygments_lexer": "ipython3",
      "version": "3.7.12"
    },
    "papermill": {
      "default_parameters": {},
      "duration": 172.392635,
      "end_time": "2025-05-30T23:15:09.532044",
      "environment_variables": {},
      "exception": null,
      "input_path": "__notebook__.ipynb",
      "output_path": "__notebook__.ipynb",
      "parameters": {},
      "start_time": "2025-05-30T23:12:17.139409",
      "version": "2.3.4"
    },
    "widgets": {
      "application/vnd.jupyter.widget-state+json": {
        "6688be921b61486f8437c62f5cd4a017": {
          "model_module": "@jupyter-widgets/controls",
          "model_name": "VBoxModel",
          "model_module_version": "1.5.0",
          "state": {
            "_dom_classes": [],
            "_model_module": "@jupyter-widgets/controls",
            "_model_module_version": "1.5.0",
            "_model_name": "VBoxModel",
            "_view_count": null,
            "_view_module": "@jupyter-widgets/controls",
            "_view_module_version": "1.5.0",
            "_view_name": "VBoxView",
            "box_style": "",
            "children": [
              "IPY_MODEL_fe90bbd5fb684807a5e61818d8594185",
              "IPY_MODEL_14000d3dbba74718abec373212e4d4ca",
              "IPY_MODEL_dcfe028b948b48a4b4a01697c14d0906",
              "IPY_MODEL_3922f420761644ea91ae907fe4cb3f6c",
              "IPY_MODEL_8241d03af69141098f5dc63fe0c3aac7"
            ],
            "layout": "IPY_MODEL_49c1c943db3d4e0984ba80eee05301b9"
          }
        },
        "fe90bbd5fb684807a5e61818d8594185": {
          "model_module": "@jupyter-widgets/controls",
          "model_name": "LabelModel",
          "model_module_version": "1.5.0",
          "state": {
            "_dom_classes": [],
            "_model_module": "@jupyter-widgets/controls",
            "_model_module_version": "1.5.0",
            "_model_name": "LabelModel",
            "_view_count": null,
            "_view_module": "@jupyter-widgets/controls",
            "_view_module_version": "1.5.0",
            "_view_name": "LabelView",
            "description": "",
            "description_tooltip": null,
            "layout": "IPY_MODEL_def97aa550124428aba54386e7bcddb5",
            "placeholder": "​",
            "style": "IPY_MODEL_b58f2a7643b340e7b7868f06b3524b4b",
            "value": "Select a cat or a dog!"
          }
        },
        "14000d3dbba74718abec373212e4d4ca": {
          "model_module": "@jupyter-widgets/controls",
          "model_name": "FileUploadModel",
          "model_module_version": "1.5.0",
          "state": {
            "_counter": 1,
            "_dom_classes": [],
            "_model_module": "@jupyter-widgets/controls",
            "_model_module_version": "1.5.0",
            "_model_name": "FileUploadModel",
            "_view_count": null,
            "_view_module": "@jupyter-widgets/controls",
            "_view_module_version": "1.5.0",
            "_view_name": "FileUploadView",
            "accept": "",
            "button_style": "",
            "data": [
              null
            ],
            "description": "Upload",
            "description_tooltip": null,
            "disabled": false,
            "error": "",
            "icon": "upload",
            "layout": "IPY_MODEL_f39be83967d7457ead0688dde95c539a",
            "metadata": [
              {
                "name": "cat-close-up-of-side-profile.webp",
                "type": "image/webp",
                "size": 311440,
                "lastModified": 1749169168922
              }
            ],
            "multiple": false,
            "style": "IPY_MODEL_67e0de3ce2134e5eb585042e35c6a89c"
          }
        },
        "dcfe028b948b48a4b4a01697c14d0906": {
          "model_module": "@jupyter-widgets/controls",
          "model_name": "ButtonModel",
          "model_module_version": "1.5.0",
          "state": {
            "_dom_classes": [],
            "_model_module": "@jupyter-widgets/controls",
            "_model_module_version": "1.5.0",
            "_model_name": "ButtonModel",
            "_view_count": null,
            "_view_module": "@jupyter-widgets/controls",
            "_view_module_version": "1.5.0",
            "_view_name": "ButtonView",
            "button_style": "",
            "description": "Classify",
            "disabled": false,
            "icon": "",
            "layout": "IPY_MODEL_b67102253be84d099ea218740dc6eb4c",
            "style": "IPY_MODEL_92280398a7c94138af3ec4f751ef77d8",
            "tooltip": ""
          }
        },
        "3922f420761644ea91ae907fe4cb3f6c": {
          "model_module": "@jupyter-widgets/output",
          "model_name": "OutputModel",
          "model_module_version": "1.0.0",
          "state": {
            "_dom_classes": [],
            "_model_module": "@jupyter-widgets/output",
            "_model_module_version": "1.0.0",
            "_model_name": "OutputModel",
            "_view_count": null,
            "_view_module": "@jupyter-widgets/output",
            "_view_module_version": "1.0.0",
            "_view_name": "OutputView",
            "layout": "IPY_MODEL_f270fe63237e4a06bfcdf36f17bd5a0c",
            "msg_id": "",
            "outputs": [
              {
                "output_type": "display_data",
                "data": {
                  "text/plain": "<PIL.Image.Image image mode=RGB size=128x72>",
                  "image/png": "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\n",
                  "image/jpeg": "/9j/4AAQSkZJRgABAQAAAQABAAD/2wBDAAgGBgcGBQgHBwcJCQgKDBQNDAsLDBkSEw8UHRofHh0aHBwgJC4nICIsIxwcKDcpLDAxNDQ0Hyc5PTgyPC4zNDL/2wBDAQkJCQwLDBgNDRgyIRwhMjIyMjIyMjIyMjIyMjIyMjIyMjIyMjIyMjIyMjIyMjIyMjIyMjIyMjIyMjIyMjIyMjL/wAARCABIAIADASIAAhEBAxEB/8QAHwAAAQUBAQEBAQEAAAAAAAAAAAECAwQFBgcICQoL/8QAtRAAAgEDAwIEAwUFBAQAAAF9AQIDAAQRBRIhMUEGE1FhByJxFDKBkaEII0KxwRVS0fAkM2JyggkKFhcYGRolJicoKSo0NTY3ODk6Q0RFRkdISUpTVFVWV1hZWmNkZWZnaGlqc3R1dnd4eXqDhIWGh4iJipKTlJWWl5iZmqKjpKWmp6ipqrKztLW2t7i5usLDxMXGx8jJytLT1NXW19jZ2uHi4+Tl5ufo6erx8vP09fb3+Pn6/8QAHwEAAwEBAQEBAQEBAQAAAAAAAAECAwQFBgcICQoL/8QAtREAAgECBAQDBAcFBAQAAQJ3AAECAxEEBSExBhJBUQdhcRMiMoEIFEKRobHBCSMzUvAVYnLRChYkNOEl8RcYGRomJygpKjU2Nzg5OkNERUZHSElKU1RVVldYWVpjZGVmZ2hpanN0dXZ3eHl6goOEhYaHiImKkpOUlZaXmJmaoqOkpaanqKmqsrO0tba3uLm6wsPExcbHyMnK0tPU1dbX2Nna4uPk5ebn6Onq8vP09fb3+Pn6/9oADAMBAAIRAxEAPwCS+tC1mBgg9TVmyhaLTcHAq/qrxLEQo6d6xoL0ujKDz6V8/Zuj8ynHSxYjEkjbVHFXH0weQXcDpnmpNKdBjcOvWqXi7XktLF7SDImkQk47L/iazpXc0olU6abRg2kovLu6iC8KpkiPqB1H5c/hWlp8y28hZyFQckntXJWGupYx2c7RrvMvYnc6YwwA9MGrl3dzQa1bXUiSvo8Miudg/wDQx2we3TivTcXKLizepCN/d2PTVuEms5S0e0LhQc9Tjn+lcBYWe/xFJOV/i4rtH1axvNBgmspUljCksVPesWwt/MLTge+a41FU1KxzVLJuxsS695ZESsABxU0eqR3Ee0uM1yF0jtdMFBPPSr9lYztg7SAawlSja5ztnU2U8ayAtjFWbjV7eD5QeayRYTCMbWI9aRNEkkcFySe9ZrDqUrmiq2Vh8urI7NjOT0NQPqRAA3ZOOasTaasMWSOBWc1sGfIGMUOikwVZsDPI7ck47Umc/jUUm5OMfjURlKjGa2jZEOTY3Vbg+U4NUtFh86dsVPqS74n56Unh6RI3dT1rdP8AdspTe5txRJb7nkOFUZJrhvEcobxBcywxtJaRjMpYnI6DI9+eK7q6dtqiMDezDG48ADkk/SuD8VWdzb3N9LKzOko85VU7Tt78d6rDQVuY6qEtHI5i1KKEmiR/MUbQzZ6cjpWlFbXsIadCZJCMiMHJP51lWl/qF1aG5tLT5V4DsflTnuOpqe0u5ob2VtXNxIZF+TycIAAefl9fY13NMu6Z0+hGcxb0jGwgfaYlXGVIOXAHcEHOPSvSNHsY/spUFWGeoPWuL+Fum3Eevm5WAT6Y+5kmU8QtjGCPVueBXostp/ZNxJCMeS3zREelcmNTVNTt1MKqTKY0iITbmUc+1WfJigAAxSfaQw4OarNKXkxnivJlWb2OflsWy6kdKsQTrjGOax57gQHG7mmwXxMlKNSSYtLmpcorLyetZBZImZMip7q6PVTWTMWLlqtSaYN9iWULIxA6VQliTd9Ka8zKetVJ7pucGtYtMBbtiVY7flIqLTIczblGK1JWg+zAEZNYVzqj2shsrKMtdyj5emEHrWlPmqNUo7sfL0R6ZoWjSl472QK0fllQp56//qql4w8Ox6oI54iIL2EFY5OzL3VvatnwG1wfCsAu2cybmHznJ61rX9tHPGRt/WvbVJQgorobwdtDw61+HVqGle6YxtIfuwMcKf0rTg+Hmjwpl1Kg8MUGM+5FdndWJhlPJz2NX9Es0uLnZON0Y/hNZWbdje6SuZVte2nhzSFstKjjcKuFVmwGPv3qrbjUBD5d5dyTykliHOfLz/APp61c1WKPT9SkRYQJEb5Se3uKqJcMgLt1PeuDFYlSi4GEqsbWQxCyS4Y0x3YS/KaikuS7Ftpz6VNCyyx5xz79q89I5ua4GAyyhnNPMAT7vNJNIYVzUQv0WMj+KiUUmNSS0ZadVZQOM1XnUCI7utZ7XbrLvLZ9qSa6edDzilB3L9orFW4Uq2e1ViyEYxTJLktL5WakwNp6VokrmbZzuqeLDlo7NOP+ejdvwqnoXi1LdmluJAJS2N5UF2z1AOKxYJ7ZU8qWEtnq5NYmpRmzulmTmFjlcHpX0NOnCnpBWOvlSWh7vofxDd4ZGJUxIcLGzfMB/ntXV6J4wsdYdlWUK6nG1jgk+wr5qt9ZkWxIRflc8kDvWna6xMpAhmfeQPujBzjtV37icex9M3CJODyDnoRTtLgMNyDXknhHx5eNqCQX1yrQnCkOu0qOg5r1+2nDbWUg55BqLK9x62MLxnCw1CN1HzOgrnnhlAySQMciur8ZPOq28iRFht6+/pXKiWaa3KujAn0rwMepQrNxRzS0Y61kjU4cAk96W8uRAMgYFVki8gK75yDxmobu7WV8Mpz2Fc83LRbE+RJNcyzW2/AH1rGna68wEA/hWuYnNuvGAfSsq4kmtbkEjK1s0vhE0i1bWtzIu6QUrptO08VYi1ZHhIC/NiqJuPPZnIwoqbPoVJLSxE1uocuuKjlkjjTLHFV7nUVVtsI3seBioY7Ga4Ky3Um1V525rRK2rM5NnBBEZhuO7sVrMvpcq0Mg6cru7UUV9GtzuexDC5EKqvbqKt2uoRxgrOoBxgEcH86KKVhmja61ZWkMk8224uSuEBXqe2fyr3Lwf4guNT0eDzoRBLGqqQOh4ooqJKwLU3fENzKUtrcscFd3IzzXM3Fy1gvmGZGHoaKK8rGu0mZWVrlC71+K4h2qmXHpWdNegujkH3xRRWCgpPUiyepeTV1ihVQ2SfWo7i7F91QZHFFFck04uUbiauVZYjFcquNqY9ahuYp7gGKE+XH/ABGiitqcFe76AkRQ28FswRPndR9/sKqyTz6hOyQ5WJTy3rRRW9lZmckf/9k=\n"
                },
                "metadata": {}
              }
            ]
          }
        },
        "8241d03af69141098f5dc63fe0c3aac7": {
          "model_module": "@jupyter-widgets/controls",
          "model_name": "LabelModel",
          "model_module_version": "1.5.0",
          "state": {
            "_dom_classes": [],
            "_model_module": "@jupyter-widgets/controls",
            "_model_module_version": "1.5.0",
            "_model_name": "LabelModel",
            "_view_count": null,
            "_view_module": "@jupyter-widgets/controls",
            "_view_module_version": "1.5.0",
            "_view_name": "LabelView",
            "description": "",
            "description_tooltip": null,
            "layout": "IPY_MODEL_66ca6fc003134f5ea4fc630c9430ca93",
            "placeholder": "​",
            "style": "IPY_MODEL_a22a882cbb724d57ac70bf076905f7bf",
            "value": "Prediction: True; Probability: 1.0000"
          }
        },
        "49c1c943db3d4e0984ba80eee05301b9": {
          "model_module": "@jupyter-widgets/base",
          "model_name": "LayoutModel",
          "model_module_version": "1.2.0",
          "state": {
            "_model_module": "@jupyter-widgets/base",
            "_model_module_version": "1.2.0",
            "_model_name": "LayoutModel",
            "_view_count": null,
            "_view_module": "@jupyter-widgets/base",
            "_view_module_version": "1.2.0",
            "_view_name": "LayoutView",
            "align_content": null,
            "align_items": null,
            "align_self": null,
            "border": null,
            "bottom": null,
            "display": null,
            "flex": null,
            "flex_flow": null,
            "grid_area": null,
            "grid_auto_columns": null,
            "grid_auto_flow": null,
            "grid_auto_rows": null,
            "grid_column": null,
            "grid_gap": null,
            "grid_row": null,
            "grid_template_areas": null,
            "grid_template_columns": null,
            "grid_template_rows": null,
            "height": null,
            "justify_content": null,
            "justify_items": null,
            "left": null,
            "margin": null,
            "max_height": null,
            "max_width": null,
            "min_height": null,
            "min_width": null,
            "object_fit": null,
            "object_position": null,
            "order": null,
            "overflow": null,
            "overflow_x": null,
            "overflow_y": null,
            "padding": null,
            "right": null,
            "top": null,
            "visibility": null,
            "width": null
          }
        },
        "def97aa550124428aba54386e7bcddb5": {
          "model_module": "@jupyter-widgets/base",
          "model_name": "LayoutModel",
          "model_module_version": "1.2.0",
          "state": {
            "_model_module": "@jupyter-widgets/base",
            "_model_module_version": "1.2.0",
            "_model_name": "LayoutModel",
            "_view_count": null,
            "_view_module": "@jupyter-widgets/base",
            "_view_module_version": "1.2.0",
            "_view_name": "LayoutView",
            "align_content": null,
            "align_items": null,
            "align_self": null,
            "border": null,
            "bottom": null,
            "display": null,
            "flex": null,
            "flex_flow": null,
            "grid_area": null,
            "grid_auto_columns": null,
            "grid_auto_flow": null,
            "grid_auto_rows": null,
            "grid_column": null,
            "grid_gap": null,
            "grid_row": null,
            "grid_template_areas": null,
            "grid_template_columns": null,
            "grid_template_rows": null,
            "height": null,
            "justify_content": null,
            "justify_items": null,
            "left": null,
            "margin": null,
            "max_height": null,
            "max_width": null,
            "min_height": null,
            "min_width": null,
            "object_fit": null,
            "object_position": null,
            "order": null,
            "overflow": null,
            "overflow_x": null,
            "overflow_y": null,
            "padding": null,
            "right": null,
            "top": null,
            "visibility": null,
            "width": null
          }
        },
        "b58f2a7643b340e7b7868f06b3524b4b": {
          "model_module": "@jupyter-widgets/controls",
          "model_name": "DescriptionStyleModel",
          "model_module_version": "1.5.0",
          "state": {
            "_model_module": "@jupyter-widgets/controls",
            "_model_module_version": "1.5.0",
            "_model_name": "DescriptionStyleModel",
            "_view_count": null,
            "_view_module": "@jupyter-widgets/base",
            "_view_module_version": "1.2.0",
            "_view_name": "StyleView",
            "description_width": ""
          }
        },
        "f39be83967d7457ead0688dde95c539a": {
          "model_module": "@jupyter-widgets/base",
          "model_name": "LayoutModel",
          "model_module_version": "1.2.0",
          "state": {
            "_model_module": "@jupyter-widgets/base",
            "_model_module_version": "1.2.0",
            "_model_name": "LayoutModel",
            "_view_count": null,
            "_view_module": "@jupyter-widgets/base",
            "_view_module_version": "1.2.0",
            "_view_name": "LayoutView",
            "align_content": null,
            "align_items": null,
            "align_self": null,
            "border": null,
            "bottom": null,
            "display": null,
            "flex": null,
            "flex_flow": null,
            "grid_area": null,
            "grid_auto_columns": null,
            "grid_auto_flow": null,
            "grid_auto_rows": null,
            "grid_column": null,
            "grid_gap": null,
            "grid_row": null,
            "grid_template_areas": null,
            "grid_template_columns": null,
            "grid_template_rows": null,
            "height": null,
            "justify_content": null,
            "justify_items": null,
            "left": null,
            "margin": null,
            "max_height": null,
            "max_width": null,
            "min_height": null,
            "min_width": null,
            "object_fit": null,
            "object_position": null,
            "order": null,
            "overflow": null,
            "overflow_x": null,
            "overflow_y": null,
            "padding": null,
            "right": null,
            "top": null,
            "visibility": null,
            "width": null
          }
        },
        "67e0de3ce2134e5eb585042e35c6a89c": {
          "model_module": "@jupyter-widgets/controls",
          "model_name": "ButtonStyleModel",
          "model_module_version": "1.5.0",
          "state": {
            "_model_module": "@jupyter-widgets/controls",
            "_model_module_version": "1.5.0",
            "_model_name": "ButtonStyleModel",
            "_view_count": null,
            "_view_module": "@jupyter-widgets/base",
            "_view_module_version": "1.2.0",
            "_view_name": "StyleView",
            "button_color": null,
            "font_weight": ""
          }
        },
        "b67102253be84d099ea218740dc6eb4c": {
          "model_module": "@jupyter-widgets/base",
          "model_name": "LayoutModel",
          "model_module_version": "1.2.0",
          "state": {
            "_model_module": "@jupyter-widgets/base",
            "_model_module_version": "1.2.0",
            "_model_name": "LayoutModel",
            "_view_count": null,
            "_view_module": "@jupyter-widgets/base",
            "_view_module_version": "1.2.0",
            "_view_name": "LayoutView",
            "align_content": null,
            "align_items": null,
            "align_self": null,
            "border": null,
            "bottom": null,
            "display": null,
            "flex": null,
            "flex_flow": null,
            "grid_area": null,
            "grid_auto_columns": null,
            "grid_auto_flow": null,
            "grid_auto_rows": null,
            "grid_column": null,
            "grid_gap": null,
            "grid_row": null,
            "grid_template_areas": null,
            "grid_template_columns": null,
            "grid_template_rows": null,
            "height": null,
            "justify_content": null,
            "justify_items": null,
            "left": null,
            "margin": null,
            "max_height": null,
            "max_width": null,
            "min_height": null,
            "min_width": null,
            "object_fit": null,
            "object_position": null,
            "order": null,
            "overflow": null,
            "overflow_x": null,
            "overflow_y": null,
            "padding": null,
            "right": null,
            "top": null,
            "visibility": null,
            "width": null
          }
        },
        "92280398a7c94138af3ec4f751ef77d8": {
          "model_module": "@jupyter-widgets/controls",
          "model_name": "ButtonStyleModel",
          "model_module_version": "1.5.0",
          "state": {
            "_model_module": "@jupyter-widgets/controls",
            "_model_module_version": "1.5.0",
            "_model_name": "ButtonStyleModel",
            "_view_count": null,
            "_view_module": "@jupyter-widgets/base",
            "_view_module_version": "1.2.0",
            "_view_name": "StyleView",
            "button_color": null,
            "font_weight": ""
          }
        },
        "66ca6fc003134f5ea4fc630c9430ca93": {
          "model_module": "@jupyter-widgets/base",
          "model_name": "LayoutModel",
          "model_module_version": "1.2.0",
          "state": {
            "_model_module": "@jupyter-widgets/base",
            "_model_module_version": "1.2.0",
            "_model_name": "LayoutModel",
            "_view_count": null,
            "_view_module": "@jupyter-widgets/base",
            "_view_module_version": "1.2.0",
            "_view_name": "LayoutView",
            "align_content": null,
            "align_items": null,
            "align_self": null,
            "border": null,
            "bottom": null,
            "display": null,
            "flex": null,
            "flex_flow": null,
            "grid_area": null,
            "grid_auto_columns": null,
            "grid_auto_flow": null,
            "grid_auto_rows": null,
            "grid_column": null,
            "grid_gap": null,
            "grid_row": null,
            "grid_template_areas": null,
            "grid_template_columns": null,
            "grid_template_rows": null,
            "height": null,
            "justify_content": null,
            "justify_items": null,
            "left": null,
            "margin": null,
            "max_height": null,
            "max_width": null,
            "min_height": null,
            "min_width": null,
            "object_fit": null,
            "object_position": null,
            "order": null,
            "overflow": null,
            "overflow_x": null,
            "overflow_y": null,
            "padding": null,
            "right": null,
            "top": null,
            "visibility": null,
            "width": null
          }
        },
        "a22a882cbb724d57ac70bf076905f7bf": {
          "model_module": "@jupyter-widgets/controls",
          "model_name": "DescriptionStyleModel",
          "model_module_version": "1.5.0",
          "state": {
            "_model_module": "@jupyter-widgets/controls",
            "_model_module_version": "1.5.0",
            "_model_name": "DescriptionStyleModel",
            "_view_count": null,
            "_view_module": "@jupyter-widgets/base",
            "_view_module_version": "1.2.0",
            "_view_name": "StyleView",
            "description_width": ""
          }
        },
        "f270fe63237e4a06bfcdf36f17bd5a0c": {
          "model_module": "@jupyter-widgets/base",
          "model_name": "LayoutModel",
          "model_module_version": "1.2.0",
          "state": {
            "_model_module": "@jupyter-widgets/base",
            "_model_module_version": "1.2.0",
            "_model_name": "LayoutModel",
            "_view_count": null,
            "_view_module": "@jupyter-widgets/base",
            "_view_module_version": "1.2.0",
            "_view_name": "LayoutView",
            "align_content": null,
            "align_items": null,
            "align_self": null,
            "border": null,
            "bottom": null,
            "display": null,
            "flex": null,
            "flex_flow": null,
            "grid_area": null,
            "grid_auto_columns": null,
            "grid_auto_flow": null,
            "grid_auto_rows": null,
            "grid_column": null,
            "grid_gap": null,
            "grid_row": null,
            "grid_template_areas": null,
            "grid_template_columns": null,
            "grid_template_rows": null,
            "height": null,
            "justify_content": null,
            "justify_items": null,
            "left": null,
            "margin": null,
            "max_height": null,
            "max_width": null,
            "min_height": null,
            "min_width": null,
            "object_fit": null,
            "object_position": null,
            "order": null,
            "overflow": null,
            "overflow_x": null,
            "overflow_y": null,
            "padding": null,
            "right": null,
            "top": null,
            "visibility": null,
            "width": null
          }
        }
      }
    },
    "colab": {
      "provenance": [],
      "gpuType": "T4"
    },
    "accelerator": "GPU"
  },
  "nbformat": 4,
  "nbformat_minor": 5
}