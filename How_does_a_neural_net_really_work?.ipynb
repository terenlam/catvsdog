{
  "metadata": {
    "kernelspec": {
      "language": "python",
      "display_name": "Python 3",
      "name": "python3"
    },
    "language_info": {
      "pygments_lexer": "ipython3",
      "nbconvert_exporter": "python",
      "version": "3.6.4",
      "file_extension": ".py",
      "codemirror_mode": {
        "name": "ipython",
        "version": 3
      },
      "name": "python",
      "mimetype": "text/x-python"
    },
    "colab": {
      "name": "How does a neural net really work?",
      "provenance": []
    },
    "widgets": {
      "application/vnd.jupyter.widget-state+json": {
        "e6fa7b4ad3a94c0fa577bf17df8af043": {
          "model_module": "@jupyter-widgets/controls",
          "model_name": "VBoxModel",
          "model_module_version": "1.5.0",
          "state": {
            "_dom_classes": [
              "widget-interact"
            ],
            "_model_module": "@jupyter-widgets/controls",
            "_model_module_version": "1.5.0",
            "_model_name": "VBoxModel",
            "_view_count": null,
            "_view_module": "@jupyter-widgets/controls",
            "_view_module_version": "1.5.0",
            "_view_name": "VBoxView",
            "box_style": "",
            "children": [
              "IPY_MODEL_fe46d8472d244fe99a1e25a81eccaa13",
              "IPY_MODEL_f9712fe0e2b343afa8e42b5342c4fbbc",
              "IPY_MODEL_0603cc1b0fed4c65aa7cb32aaca27cdb",
              "IPY_MODEL_20bd59377e274abd827183053f9be831"
            ],
            "layout": "IPY_MODEL_8bcc2bfcbbeb47ce904136c31adfc36c"
          }
        },
        "fe46d8472d244fe99a1e25a81eccaa13": {
          "model_module": "@jupyter-widgets/controls",
          "model_name": "FloatSliderModel",
          "model_module_version": "1.5.0",
          "state": {
            "_dom_classes": [],
            "_model_module": "@jupyter-widgets/controls",
            "_model_module_version": "1.5.0",
            "_model_name": "FloatSliderModel",
            "_view_count": null,
            "_view_module": "@jupyter-widgets/controls",
            "_view_module_version": "1.5.0",
            "_view_name": "FloatSliderView",
            "continuous_update": true,
            "description": "a",
            "description_tooltip": null,
            "disabled": false,
            "layout": "IPY_MODEL_5aa0fc9f51e348db944c1faad3d27342",
            "max": 3.3000000000000003,
            "min": -1.1,
            "orientation": "horizontal",
            "readout": true,
            "readout_format": ".2f",
            "step": 0.1,
            "style": "IPY_MODEL_d0ee963a6fc84cf2b74a1cc8cc7a05e2",
            "value": 3
          }
        },
        "f9712fe0e2b343afa8e42b5342c4fbbc": {
          "model_module": "@jupyter-widgets/controls",
          "model_name": "FloatSliderModel",
          "model_module_version": "1.5.0",
          "state": {
            "_dom_classes": [],
            "_model_module": "@jupyter-widgets/controls",
            "_model_module_version": "1.5.0",
            "_model_name": "FloatSliderModel",
            "_view_count": null,
            "_view_module": "@jupyter-widgets/controls",
            "_view_module_version": "1.5.0",
            "_view_name": "FloatSliderView",
            "continuous_update": true,
            "description": "b",
            "description_tooltip": null,
            "disabled": false,
            "layout": "IPY_MODEL_b4915fc992334d9fbbb7f5b90c0ea1c9",
            "max": 3.3000000000000003,
            "min": -1.1,
            "orientation": "horizontal",
            "readout": true,
            "readout_format": ".2f",
            "step": 0.1,
            "style": "IPY_MODEL_b80c474effd6430c94bee2efde6bc0dc",
            "value": 2
          }
        },
        "0603cc1b0fed4c65aa7cb32aaca27cdb": {
          "model_module": "@jupyter-widgets/controls",
          "model_name": "FloatSliderModel",
          "model_module_version": "1.5.0",
          "state": {
            "_dom_classes": [],
            "_model_module": "@jupyter-widgets/controls",
            "_model_module_version": "1.5.0",
            "_model_name": "FloatSliderModel",
            "_view_count": null,
            "_view_module": "@jupyter-widgets/controls",
            "_view_module_version": "1.5.0",
            "_view_name": "FloatSliderView",
            "continuous_update": true,
            "description": "c",
            "description_tooltip": null,
            "disabled": false,
            "layout": "IPY_MODEL_75d72e9f99ef481fb6f03a97ae14f97c",
            "max": 3.3000000000000003,
            "min": -1.1,
            "orientation": "horizontal",
            "readout": true,
            "readout_format": ".2f",
            "step": 0.1,
            "style": "IPY_MODEL_7c6b5cd6a4884a5182df36417af425d9",
            "value": 1
          }
        },
        "20bd59377e274abd827183053f9be831": {
          "model_module": "@jupyter-widgets/output",
          "model_name": "OutputModel",
          "model_module_version": "1.0.0",
          "state": {
            "_dom_classes": [],
            "_model_module": "@jupyter-widgets/output",
            "_model_module_version": "1.0.0",
            "_model_name": "OutputModel",
            "_view_count": null,
            "_view_module": "@jupyter-widgets/output",
            "_view_module_version": "1.0.0",
            "_view_name": "OutputView",
            "layout": "IPY_MODEL_14674847ea7e4705aa2ee6aa48157f94",
            "msg_id": "",
            "outputs": [
              {
                "output_type": "display_data",
                "data": {
                  "text/plain": "<Figure size 576x432 with 1 Axes>",
                  "image/png": "iVBORw0KGgoAAAANSUhEUgAAAesAAAF0CAYAAAADwxE3AAAAOnRFWHRTb2Z0d2FyZQBNYXRwbG90bGliIHZlcnNpb24zLjEwLjAsIGh0dHBzOi8vbWF0cGxvdGxpYi5vcmcvlHJYcgAAAAlwSFlzAAAN1wAADdcBQiibeAAAOC5JREFUeJzt3Xtc1FX+x/HXDF4C0UDNC6CYmmlWiGulWXaz1m5GXleT3VwvlYpdtFzLikzNtsxaL91L19I2c1fNyl9pWWqom7dc7KKpKJBYCpLKRZj5/XEUNUG5zMz3OzPv5+MxDybA+X4S4c0533M+x+F2u92IiIiIbTmtLkBERETOTGEtIiJicwprERERm1NYi4iI2JzCWkRExOYU1iIiIjansBYREbE5hbWIiIjNVbO6gN9zOBxWlyAiIuJzZ+pRZruwhjMXLCIiAezWW+Hjj2HxYrj9dqur8ZmzDVQddms36nA4FNYiIsEoIwOaNoUGDWDPHqhmy/GkV5wt+3TPWkRE7OGf/wSXCxITgyqoy0MjaxERsZ7bDa1awfbtsHUrtGljdUU+pZG1iIjY31dfmaDu3Dnogro8FNYiImK9N94wbwcNsrYOm9I0uIiIWCs7G6KioHp1yMyE8HCrK/I5TYOLiIi9zZ0L+fnQr19QBnV5KKxFRMRab75p3g4ebG0dNqawFhER62zYABs3wqWXQocOVldjWwprERGxzskLy9RuukxaYCYiItY4cgQaN4aCArOwrG5dqyuyjBaYiYiIPX3wAeTmQo8eQR3U5aGwFhERaxyfAtfCsrPSNLiIiPje99+bTmXNm8O2beAM7rGjpsFFRMR+Xn/dvB0yJOiDujwq9Tc0ffp0OnToQM2aNUlISCh5/759+7jrrruIiYmhTp06xMfHs3jxYk/VKiIigSA/H2bPNidr3X231dX4hUqFdVRUFOPGjWPIkCGnvP/QoUPEx8ezZs0acnJyGD9+PP369WPr1q0eKVZERALAf/4D+/fDHXdAo0ZWV+MXKnVgaI8ePQDYtGkT6enpJe9v3rw5o0ePLvnv22+/nQsvvJA1a9Zw0UUXVbFUz3O53CzenMmclF2k5+QRExFKYqdmdI+LwunUfj8REa947TXzduhQa+vwI169UbBv3z6+++47Lr300jI/Jzk5GYfDUfLwFZfLTdK8DYyav5kNu3PIyi1gw+4cRs3fTNK8DbhcWuQmIuJxP/4IK1ZAs2bQtavV1fgNr4V1YWEhf/rTn+jTpw8dztBCLjk5GbfbXfLwlcWbM1mamkWxy83xq7qBYpebpalZLN6c6bNaRESChhaWVYpX/qYKCwvp1asXYWFhvH78C2Mzc1J2lTl6drnczFmT5uOKREQCXEEBzJoFISEwcKDV1fiVSt2zPpPCwkJ69+5NYWEhixYtokaNGp6+hEek5+RR1jjeDWRkH/FlOSIigW/RIvj1V0hIMG1GpdwqFdZFRUUlD5fLRX5+Pk6nE4fDQZ8+fTh8+DBLliyhZs2anq7XY2IiQtmXW1BqYDuA6MgwX5ckIhLYtLCs0io1DT5hwgRCQ0OZOHEiH374IaGhodx00018/fXXLFq0iNWrV1O/fn3Cw8MJDw9n0qRJnq67yhI7NStzxbfT6SCxY6yPKxIRCWA//gjLl0PTpnDTTVZX43eCtt3o8dXgS1OzcB1bZObABHW3tg2Z1q+9tm+JiHjK6NEwZQpMnAiPPmp1NbZztuwL2rCGk/ZZr0kjI/sI0ZFhJHaM1T5rERFPys+H6GhzwtaePWqEUgqFtYiIWOuddyAxEXr3hvfft7oaW9JBHiIiYq2XXzZv773X2jr8mEbWIiLiPd9+C3Fx0KqVORbTh50q/YlG1iIiYp1XXzVv77lHQV0FGlmLiIh3HDoEUVFQWAiZmVC3rtUV2ZZG1iIiYo158+C336BvXwV1FSmsRUTE89xuLSzzIIW1iIh43tq1sHEjXHopdOxodTV+T2EtIiKeN3OmeTt8uBaWeYAWmImIiGf98gvExMA550BGBoSHW12R7WmBmYiI+Nabb5oV4HffraD2EI2sRUTEc4qLoUULSEuD776D1q2trsgvaGQtIiK+8/HHJqhvuEFB7UEKaxER8ZzjC8uGDbO2jgCjaXAREfGM7dvhggvM4rKdO6FaNasr8huaBhcREd843gTlnnsU1B6mkbWIiFTdkSNmRH3oEOzeDY0aWV2RX9HIWkREvG/uXMjOhp49FdReoLAWEZGqcbth2jTzPCnJ2loClMJaRESqZuVK+PZbaN8eOnWyupqApLAWEZGqOXlUrT7gXqEFZiIiUnl79sD550NkpHl+zjlWV+SXtMBMRES855VXTIvRoUMV1F6kkbWIiFROfj40aWJWge/aZbZuSaVoZC0iIt7xr3/Br7/CnXcqqL1MLWZERKTiLNqu5XK5Wbw5kzkpu0jPySMmIpTETs3oHheF0xm4i9s0DS4iIhX39dfQuTNceils2uSTVeAul5ukeRtYmpqFy+XGDTgAp9NBt7YNmdavvd8GtqbBRUTE8156yby9/36fbddavDmTpalZFB8LagA3UOxyszQ1i8WbM31ShxUU1iIiUjG7d8OCBVC/PvTv77PLzknZhctV+ujT5XIzZ02az2rxNYW1iIhUzIwZZrvWvff6dLtWek4eZU0Uu4GM7CM+q8XXKhXW06dPp0OHDtSsWZOEhIRTPpabm0v//v2pU6cODRs25Omnn/ZEnSIiYgeHD8Prr0P16nDffT69dExEKGVNuDuA6MgwX5bjU5VaDR4VFcW4ceNYtmwZ6enpp3wsKSmJAwcOsHv3bvbt20fXrl2JjY3lz3/+s0cKFhERC82ZY/ZVDxgAUVE+vXRip2ZsSt9McSlT4U6ng8SOsT6tx5cqNbLu0aMHCQkJ1K9f/5T3HzlyhPfee48JEyYQERFBq1atSEpK4s033/RIsRW2YgV07w5ZWdZcX0QkkLhcpy4s87HucVF0a9uQEKejZITtAEKOrQbvHufbXx58yaP3rH/44QcKCwtp165dyfvatWvHt99+68nLlN+SJfDhh/Dyy9ZcX0QkkHz6KXz/vdmy1aGDzy/vdDqY1q89U3rH0T42kkZ1atI+NpIpveP8ettWeXg0rA8dOkStWrWoVu3E7HpERAS//fZbmX8mOTkZh8NR8vCopCRwOmHmTMjL8+xri4gEGwtH1cc5nQ4S4qNZcN+VrHm0Kwvuu5KE+OiADmrwcFiHh4dz5MgRioqKSt538OBBateuXeafSU5Oxu12lzw8KjYWevWCX36Bd9/17GuLiAST776DpUtNL/A777S6mqDj0bC+8MILqV69Ops3by5536ZNm7jkkks8eZmKeegh83bqVNMeT0REKu7FF83bESOgmjpV+1qlwrqoqIj8/HyKiopwuVzk5+dTWFhIWFgYffv25fHHH+fgwYNs27aNadOmMXjwYE/XXX5XXAGdOsHWreZ+i4iIVMwvv8A//wnh4eYoTPG5SoX1hAkTCA0NZeLEiXz44YeEhoZy0003AWYP9rnnnktMTAydO3dm0KBB1m/bOj66fuEFa+sQEfFHL79sjsMcNAgiIqyuJigFx0EeRUXQsiWkpcGWLXDxxZ59fRGRQJWfb9b//PorbNsGzZtbXVFA0kEeYO6vHF+9ePy+i4iInN3cubBvn1lUpqC2THCMrAFyc83h6IWFZoTdsKHnryEiEkjcbrjkEkhNNUdidupkdUUBSyPr4+rUgcGDoaDA7LsWEZEz+/RTE9QdOyqoLRY8I2swI+oWLcwCid27ISxwm76LiFTZH/9oAnv+fNOzQrxGI+uTxcZCnz6wfz/Mnm11NSIi9rVliwnqZs3gd6criu8FV1gDjBpl3k6ZYs5jFRGR002ZYt7ef7+aoNhAcE2DH3f99fDFF7BgAfTo4d1riYj4m/R0OP980wRlzx7ztpJcLjeLN2cyJ2UX6Tl5xESEktipGd3jogK+n3dFaBq8NA8/bN4+/7y1dYiI2NFLL5n+FPfdV+WgTpq3gVHzN7Nhdw5ZuQVs2J3DqPmbSZq3AVcp51JL6YJzZH3ydoRVq8xxbyIiAgcPmsM6CgrMotxGjSr9Ugs3ZjBq/maKSwnlEKeDKb3jSIiPrkq1AUMj69I4HDB6tHmu0bWIyAmvvgq//QZ//nOVghpgTsquMkfPLpebOWvSqvT6wSQ4wxqgXz9o3BgWLYIff7S6GhER6xUWnjiz+vhi3CpIz8mjrLGiG8jIPlLlawSL4A3rmjXNKke3+8SqRxGRYDZ3LmRmQvfu0Lp1lV8uJiKUspaQOYDoSPW6KK/gDWuAe+6B2rVh1iz4+WerqxERsY7LBc89Z54/8ohHXjKxU7MyV3w7nQ4SO8Z65DrBILjDOiIC7r331KkfEZFg9MknsHWraSvqoUW33eOi6Na2ISFOR8kI24FZXNatbUO6x0V55DrBIDhXg58sM9PsJzznHNOC9NxzfXdtERG76NIFVq6Ef//bnLDlISX7rNekkZF9hOjIMBI7xmqf9e+cLfsU1gBDhsAbb8DkyTBmjG+vLSJitdWr4aqrzH3q1FRwBvekqxW0das8Hn7YbOd68UVz0LqISDCZPNm8HTNGQW1T+qoAtGpl2o7u3Qv//KfV1YiI+M6WLbBkCcTEQP/+VlcjZVBYH3d8+vu553TAh4gEj7//3bwdPRpq1LC2FimT7lmf7IYb4PPP4f33oXdva2oQEfGVnTvhggvMwtrdu6FWLasrClq6Z10Rx0fXzzxjmqWIiASy40cFjxypoLY5jaxP5nbDZZfB+vVmz2G3btbUISLibfv2QWwshISYAzvq1bO6oqCmkXVFOBzw6KPm+cSJ1tYiIuJNL71kdr8MHaqg9gMaWf+eywUXXwzffQdffQVXX21dLSIi3pCTY0bVeXmwY4dZCS6W0si6opxOGDvWPNfoWkQC0fTpkJsLAwcqqP2ERtalKSoyKyR37YJvvoE//MHaekREPOXQIWjWzIyuf/wRmje3uiJBI+vKqVbtxMrwSZOsrUVExJNeew3274d+/UoNapfLzcKNGfScuZorJi2j58zVLNyYgctlq3Fd0NHIuiz5+eYf8s8/m165F11kdUUiIlWTn28OLsrKgv/977Sfay6Xm6R5G1iamoXL5caNOSXLeeyUrGn92uvwDS/RyLqyzjkHRo0yz595xtpaREQ84e23TVvlHj1KHYAs3pzJ0tQsio8FNYAbKHa5WZqaxeLNmT4tV07QyPpMTr638/330LKl1RWJiFTO0aNmLU5aGmzYAPHxp31Kz5mr2bA7h9J+AjuA9rGRLLjvSq+XGow0sq6K8HB46CHT4UejaxHxZ+++a4L6lltKDWqA9Jy8UoMazAg7I/uI18qTM1NYn82IERARYU7j2rnT6mpERCquqOjEVtTHHivz02IiQinrjrQDiI4M83hpUj5eCeuMjAwSEhKoV68e9evXp0+fPvzyyy/euJT31akDDz5o/rEfP/NVRMSfzJsH27ebw4quLHsaO7FTszIXkDmdDhI7xnqrQjkLr4T18OHDAUhLS2Pnzp3k5+czcuRIb1zKN0aONKH99tvmZBoREX9RXAwTJpjnTz55xk/tHhdFt7YNCXE6SkbYDiDk2Grw7nFRXi1VyuaVsN6xYwd9+vQhPDyc2rVr07dvX7Zs2eKNS/lGRATcf79ZoHH87FcREX/w3num+cl11521fbLT6WBav/ZM6R1H+9hIGtWpSfvYSKb0jtO2LYt5ZTX4rFmzWLRoEbNmzcLtdjNgwAAuueQSninHIi1brQY/2YEDppduYaHppRsdbXVFIiJnVlwMbdvCDz/AihVwzTVWVyRlsGQ1eOfOndm3bx+RkZHUrVuX7Oxsxh7vt/07ycnJOByOkodt1a1rFpsVFmp0LSL+Yf58E9TXXKOg9nMeH1m7XC6aN29Onz59SE5OBkwgf/XVV6xZs+bsBdl1ZA3wyy9m37XLZUbXjRtbXZGISOlcLrjkEti6FT7/3EyDi235fGR94MAB0tLSGDlyJGFhYYSFhZGUlMTatWv59ddfPX053zrvPEhKMi37tDJcROzsgw9MUF91FVx7rdXVSBV5PKzr169Py5YtmTFjBvn5+eTn5zNjxgxiYmKoX7++py/ne6NHm2Ypr74KGRlWVyMicrriYhg/3jx/8kmw8y1GKRev3LNetGgRGzZsIDo6msaNG7Nu3ToWL17sjUv5Xv36ZnRdUKCuZiJiT/PnmwOIOnc2e6vF76k3eGXs329OrikoMI0GmjSxuiIREePkFeC6V+031BvcG+rVM/uuCwt13rWI2MvcuSaor71WQR1ANLKurOxsszI8Lw+2bTN7sEVErFRUBK1bw08/wVdfnbUJitiHRtbeEhkJDzxgupodb5AvImKlOXNMUN94o4I6wGhkXRU5OWZ0ffiwmXZq3tzqikQkWBUWwoUXwq5dkJICHTtaXZFUgEbW3hQRYbZyFRXBsQYwIiKWmDXLBPUttyioA5BG1lX1229mRL1/P/zvf3DRRVZXJCLBJj8fWrWCPXvgv/+FDh2srkgqSCNrb6tdG8aOBbcbnnjC6mpEJBi9+qoJ6jvuUFAHKI2sPSEvD1q2hMxMWL8e2re3uiIRCRaHDpnZvV9/hW+/hYsvtroiqQSNrH0hNBQef9w8HzfO2lpEJLi89JI5ZOiuuxTUAUwja08pLDT7G3fuhJUrTfN8ERFvOnDAjKoPH4bvv4cWLayuSCpJI2tfqVHjxIrwxx4z97BFRLzpuefg4EEYPFhBHeA0svak4mJzfux338Enn0C3blZXJCKBau9eM6p2u80ZBdHRVlckVaCRtS+FhJzoZva3v5nD30VEvGHCBLO4NSlJQR0ENLL2NLcbrrwS1qyBd9+F/v2trkhEAs2OHWaNzDnnmHUy9epZXZFUkUbWvuZwwOTJ5vnjj5uFZyIinvT44+ZcgkceUVAHCY2sveWWW8x962nTYMQIq6sRkUCxcaPp5dCwoTm0o1YtqysSD9DI2irPPGNG2U8/bZoWiIh4wpgx5m1ysoI6iCisvSUuztyv3rcPpk61uhoRCQSffWYeF1wAgwZZXY34kKbBvWnnTnNk3TnnmOmq886zuiIR8VcuF1x2GWzYAPPnQ69eVlckHqRpcCudfz7cd585mWv8eKurERF/9v77Jqgvvxx69rS6GvExjaw9yOVys3hzJnNSdpGek0dMRCiDWtfh5juvwnHkCKSmmmPsREQqorAQ2rQxW7a++AKuvdbqisTDzpZ9CmsPcbncJM3bwNLULFwuN27AATidDqb89AkJ70+HHj1gwQKrSxURf/Pii/Dgg3DzzfDxx1ZXI16gsPaRhRszGDV/M8Wu02sPKy7km3dGELY3E1atgs6dLahQRPxSdrbp+33wIGzerJO1ApTuWfvInJRduEoJaoC8kBq88cdjKzcffliHfIhI+U2caAJ70CAFdRBTWHtIek4eZUWwG5jX8iqIj4eUFE2Fi0j57NhhGivVqqVFqkFOYe0hMRGhOMr4mAOIqhdujrMDc8iH2pCKyNmMHWt+VowZA40aWV2NWEhh7SGJnZrhdJYe106ng8SOsXDDDWaByE8/wcyZPq5QRPxKSorZrhUVBQ89ZHU1YjGFtYd0j4uiW9uGhDgdJSNsBxDidNCtbUO6x0WZdz73nDlK86mnYP9+q8oVETtzu2H0aPN84kS1FRWtBvekkn3Wa9LIyD5CdGQYiR1j6R4Xdeqoe/hwM7IeMcLcjxIROdn770PfvqZt8fr15hd8CWjaumVHv/4KLVuaAz62bDHNDkREAPLyzM+EtDRYvhyuv97qisQHtHXLjurXhyeegOJiGDXK6mpExE5eeMEEdUKCglpKaGRtlcJCaNsWtm83515362Z1RSJitcxM05K4sBC++840Q5GgYNnIevHixbRr145atWoRFRXFK6+84q1L+acaNU5s5Ro1CoqKSv00l8vNwo0Z9Jy5mismLaPnzNUs3JhRZgMWEfFjY8fC4cPwwAMKajmFV0bWS5cuZfDgwbzzzjtcffXV5ObmkpWVRevWrc9eULCMrMGs+Lz+elixAv7xD0hKOuXDZ+o33q1tQ6b1a1/mdjER8TPr1sEVV0CDBrBtG9SpY3VF4kOWLDC77LLLGDJkCEOHDq3wnw2qsAbT67d9e/ONuW2buZ99zJn6jYc4HUzpHUdCfLQvqxURb3C7zZkBKSnw+usweLDVFYmP+Xwa/PDhw6xfv56MjAxatWpFo0aN6N27Nz///HOpn5+cnIzD4Sh5BJ24OLj3XsjJgXHjTvnQmfqNu1xu5qxJ80GBIuJ1c+eaoG7XDgYOtLoasSGPh3V2djZut5uFCxfy2WefsX37dmrWrMmAAQNK/fzk5GTcbnfJIyiNHw9168Jrr8HGjSXvPlu/8YzsIz4pT0S86LffzAE/AC+9pD3VUiqPh3V4eDgAI0eOJDY2lvDwcJ566im++OILDh8+7OnLBYZ69UyXIrfb3Lc+9kvL2fqNR0eG+axEEfGSCRPg55+hf3/o0sXqasSmPB7WERERNG3atNSPBe3IuTyGDDFT4qtXw7x5QDn7jYuI//rhB5g61bQT/fvfra5GbMwrW7eGDh3KtGnTyMjIIC8vj/Hjx3PDDTeUjLqlFCEhJ1qPPvwwHDpU/n7jIuJ/3G4YORKOHjVNkqK1WFTK5pXV4MXFxTzyyCPMnj0bgOuuu45p06bRqBxHvAXdavDf69/fjKwfeQSefbb8/cZFxL8sXAh33mmaoGzZYnovSNBSb3B/k5EBrVtDfr7Z1nXRRVZXJCKelpdnvrd37YKlS+GPf7S6IrGYeoP7m+hoSE42Hc2GDy9ZbCYiAWTyZBPUd9yhoJZy0cjajo4ehfh4SE2Fd981U+MiEhi2bYOLLzbrVFJT4fzzra5IbEAja39Uvbo57xpM3/CDB62tR0Q8wlXsYt+fB0NhITOv+hM9P8lUr38pF4W1XXXpAomJsHcvPPmk1dWISBW5XG7efuBZGqz5iu11Y5ga150Nu3MYNX8zSfM2KLDljDQNbmdZWXDhhabD0YYNZh+2iPilJSu/57JbOtPw0AH6/WkiKbEnvp/V6180De7PGjY03Y1cLtM/3OWyuiIRqawnn6DhoQP856JrTwlqUK9/OTuFtd3ddx906ABr1sCrr1pdjYhUxqZN3LxiAbk1azHpukGnfVi9/uVsFNZ2FxJiDvhwOuFvfzM9hEXEfxQXw5AhhLhdPN8lkV/CI0/7FPX6l7NRWPuD+Hh44AHIzYX777e6GhGpiBkz4JtvOHBxPPPa31Lqp6jXv5yNFpj5i0OHoG1b2L0bliyBW2+1uiIROZvdu02nsoICXP/9hqTUIpamZuFyuXFjRtTOY73+p/VrrxbCQUztRgPJkiVw++0QG2uaKdSqZXVFIlIWtxu6dzfft2PHwqRJ6vUvZVJYB5pevWDBAnjoIZgyxepqRKQsH3wAvXtDixbmoI7QUKsrEhtTWAeazExo08ZMi6ekwOWXW12RiPxeTo75Pt27F5Ytgxtu8MplSkbqKbtIz8kjJiKUxE7NNFL3QwrrQPT66zB0qOkvvH69jtYTsZuhQ8336V/+ArNmeeUSLpebpHkbdA88QKgpSiAaPBiuuw7+9z9zeo+I2Mfy5SaozzsPnn/ea5dZvDmTpalZFB8LajD7tYtdbpamZrF4c6bXri2+p7D2Rw6H+WEQGmo6nKWmWl2RiAAcPgxDhpjnM2ZA/fpeu9SclF1l9hNXR7TAo7D2Vy1amKA+ehQGDTKNF0TEWo89Bjt3Qo8eZjGoF6Xn5FHWpKk6ogUehbU/u/9+s8Bs7Vr4xz+srkYkuK1ebb4PIyPNqNrh3fvFMRGhlHUFdUQLPAprfxYSAm++ac6/fuwx+PFHqysSCU55efDXv5q91S++CI0aef2SiZ2albmATB3RAo/C2t9dfLE57zovDwYO1HS4+A2Xy83CjRn0nLmaKyYto+fM1SzcmOGf5zonJ5tflm++2ZxD7wPd46Lo1rYhIU5HyQjbgTlus1vbhnSPi/JJHeIb2roVCIqKoGNHs43r+edh1CirKxI5o4DadvT113D11RAebnZoNGnis0urI1rg0D7rYJGaCu3bm/tkmzZB69ZWVyRSpoUbMxg1fzPFpYyiQ5wOpvSOIyE+2oLKKujwYWjXDrZvh7ffhrvvtroi8VPaZx0s2raF8eOhoMA0YigqsroikTIFzLajsWNNUN9+u/m+E/EShXUgGTUKrrgC1q3zajMGkaoKiG1Hn38O06ZB3brmzHkvr/6W4KawDiTVqpnWhuecA088YabDRWzI77cd5eaaBZ0AL7/sk9XfEtwU1oGmdWvTgvToURgwAPLzra5I5DR+v+3owQfNWdV9+0KfPlZXI0FAYR2IkpKga1ez6OzRR62uRuQ0fr3t6D//gbfeMqPpGTOsrkaChFaDB6qMDLjkEsjO9uoRfSKV5ZfbjjIzzffVgQOwdCn88Y9WVyQBQlu3gtn775tpuuho2LLFtEEUkcpxuaBbN/jsMxg5El56yeqKJIBo61Yw69PH3LfOyIBhw0wrRBGpnH/8wwR127Y6mlZ8TiPrQJeTA3FxZjHMrFnaCypSGVu2wGWXmV94160z31MiHmTpyDovL4+WLVsSERHhzcvImUREwLvvgtMJw4frsA+RisrLg/79TcOhSZMU1GIJr4b1E088QWyszbdgBIOrrjKHfRw+DH/6k/mhIyLl89BDpud3165my5aIBbwW1uvXr2fp0qWMGTPGW5eQinjsMejSBTZu1HYukfL64AN45RVo0ADmzDEzVCIW8Mq/vKKiIoYMGcKMGTOoUaOGNy4hFRUSAu+8Y1aEv/ACfPKJ1RWJ2NuuXTB4sHn+z3+qS5lYyith/dxzzxEfH0+XLl3O+rnJyck4HI6Sh3hRkybwxhvm+V/+YvaMisjpjh6Ffv3g4EF45BHtpxbLeXw1+Pbt27nhhhvYuHEjdevWZcWKFSQkJJCTk1O+grQa3PuGDTP9jLt0geXLTU9xETlh7FizPeuKK2DlSqhe3eqKJMD5fDX4qlWryMrKolWrVtSvX5877riD3Nxc6tevz9q1az19OamMF14wZ19/9ZU58ENETvjoIxPUderAvHkKarEFj4+sjxw5woEDB0r+OyUlhcGDB5OamkqDBg3Oeg9bI2sf+eknE9i5ufDxx3DzzVZXJGK9tDSIjzdtehcsgB49rK5IgoTPR9ZhYWHExMSUPM477zwcDgcxMTFabGYnLVrA22+b5wMGwJ491tYjYrWCAujd2wT1Qw8pqMVW1MEs2D34ILz4InTqBCtWgH6hkmCVlATTp8OVV5rvBU1/iw/pIA85s8JCs9Bs7Vrzw+of/7C6IhHfe+89s/r7vPNML4LoaKsrkiCjsJaz27MH/vAH+OUXs580MdHqikR8JzXVrPo+cgQ+/dR0KhPxMZ26JWfXpAn861+mccrQoWZkIRIMcnIgIcG04h0/XkEttqWwFuO66+Dvf4f8fLOwZv9+qysS8a7iYrjrLti+3QS22vCKjSms5YQHH4S+fU2bxf79zQ8zkUD15JNm22KbNub2j/p+i43pnrWc6tAh6NjR3McbPRqee87qikQ879//hp49TeOTdevgwgutrkiCnBaYScX99BNcdpnZbzprlukjLhIotmwx27MOHYIPP4TbbrO6IhEtMJNKaNHCHA14fMFZSorVFYl4xr59cPvtJqjHj1dQi99QWEvprr8eXnrJ7MO+8051OBP/V1BgFk+mpcGf/gTjxlldkUi5KaylbMOGwT33QFYW3HGH2d4i4o/cbjNLtHo1XH45vPUW6Ehe8SMKaymbwwHTpsE115i913fdpRXi4p+ee86s+I6JgYULITTU6opEKkQLzOTs9u83vcO3bTPbu154weqKRE7jcrlZvDmTOSm7SM/JIyYilMROzei+Yy3O3r1MQK9aZU7VErEZrQYXz9i+3Wzp2r/fHHYwfLjVFYmUcLncJM3bwNLULFwuN27AAbT/+QfmzXuU6kWFOBYsMOsvRGxIq8HFM1q2hEWLoGZNGDkSliyxuiKREos3Z7I0NYviY0EN0DQ7k9fmP0WNowVsGfWkglr8msJayq9zZ5g9G1wus5p2/XqrKxIBYE7KLlyuE6OSyCMHmTX/Serl5fJmhzt4qvmNFlYnUnUKa6mYvn3hmWfMyvBbbjHT4yIWS8/JKxlR1zxawBsLnub87J/5pNWVTLzur2RkH7G0PpGqUlhLxY0ZAyNGmAYTf/wj7N1rdUUS5GIiQnEAIa5ipi9+lj9kfs+GqAt54LZRuJ0hREeGWV2iSJUorKXiHA548UXo3Rt27ICbb4bcXKurkiCW2KkZIQ43z37yD27cvo7tdWMY1PMJCqrXxOl0kNgx1uoSRapEq8GDTJnbW+KicDor2CSioMBMhX/+uTli85NPzAI0ER9zFbv44vY/c8Mn75JR+zx6Dfg7e+uch9PpoFvbhkzr177i/75FfEhbt6REWdtbqvQDLTfXNE3ZtMmcCfz++1C9uueLFzmTyZNh7FgKIiJ5eOQM1tU8j+jIMBI7xlbuF1ERH1NYS4mFGzMYNX8zxa7T/35DnA6m9I4jIT664i+8dy9cfbVZbNa/v+kUFRLigYpFyuHVV+Hee6FWLTPLc/nlVlckUmHaZy0lfr+95WQul5s5a9Iq98KNGsHy5dC0KcydC/fdZ3oxi3jb7NkmqGvUgP/8R0EtAUthHURO3t7ye26o2vaWpk1NYDduDK+/Dg89pMAW75o3D/76V6hWzRzpeqP2UkvgUlgHkePbW0rjgKpvb2nZEpYtg3r1zGrxxx5TYIt3/PvfkJhodia89545o1okgCmsg0hip2ZlLrTx2PaWiy6Czz6DiAjTPOXRRxXY4lkffmg66LlcZn1Ez55WVyTidQrrINI9LopubRsS4nSUjLAdmMVl3do2pHtclGcuFB9vRtgRESWrdBXY4hH/+Y8J56NH4c03zYJGkSCg1eBBpmSf9Zo0MrKPeHd7y4YN0LUrZGfDww/Ds8+aaUuRynj/fRPOLpcJ6oEDra5IxGO0dUusdXJgP/ggTJmiwJaKe/dd+POfzfPZs2HAAGvrEfEwbd0Sa7Vvb1aJ16sHU6fCkCFQXGx1VeJP3n77xGKyuXMV1BKUFNbiffHx8OWXZlvX8fuMhYVWVyX+YMoUsz0rJAT+9S9z6ptIENI0uPjOjh1mSnznTnP4xwcfQJhOQ5JSuN1m698zz0BoqNmq1a2b1VWJeI3uWYu9ZGaa5hVbt8JVV8GiRVC3rtVViZ0UF8OwYfDaa2ZHwUcfwZVXWl2ViFf5/J51QUEBQ4YM4fzzz6d27dq0bt2at956y9OXEX8VFQVffQWXXQarVkHnzrBrl9VViV3k5Zmp7tdeM7dNvvpKQS0CVPP0CxYVFdG4cWOWLVtG8+bNWbt2LTfffDMxMTHcdNNNnr6c+KN69eCLL0xjiyVLoFMn+Phjc28bDx/jKf7jl1+ge3dYswZatIBPP4Xmza2uSsQWfDIN3qNHDy6++GLGjx9/9oI0DR48iopg+HAzigoPhw8+wHXjTZ4/xlPs78cfzTqGHTvML2+LFsF551ldlYjPWL51Kz8/n3Xr1nHppZeW+vHk5GQcDkfJQ4JItWrwyiswYQIcOgS33sqWRyex9H97KT4W1GAOGSl2uVmamsXizZlWVizesHKlCegdO6BXL7PVT0EtcgqvjqzdbjeJiYlkZGSwfPlynM6z/26gkbV/8diU9TvvwKBBUFjIO+1uJrnrPRSFnHqXxgG0j41kwX26hxkw3njDLCY7etR0uZs8Gcrxc0Ik0Fi2GtztdjNs2DC++eYbli1bxrnnnluuP6ew9h8ul9uzU9YpKey/6VbqHcrm66aXMizhb+SE1jnlUxrVqcmaR7t69P9DLHD0qOloN2OGmWGZMQOGDrW6KhHLWDIN7na7GT58OGvXruXTTz8td1CLf1m8OZOlqVmem7Lu1IlHx7xOaoPmXLn7Wxb98yEuytpR8mGPHOMp1vv1V7jpJhPQ550Hn3+uoBY5C6+E9YgRI1i9ejWfffYZkZGR3riE2MCclF24XKX/JuhyuZmzJq3Cr3nzrR3pm/gcH13Ymdicvfz7ndH03LIc8OAxnmKddeugQwdYscKs/v/mG7j6aqurErE9j4d1WloaM2fO5IcffiA2Npbw8HDCw8O59957PX0psVh6Th5lTdq4gYzsIxV+ze5xUVwTH8vIO8cy6dq/Uq24iCkfT+WZ/5vObRdEeO4YT/EttxumTTONcNLSoF8/s8++aVOrKxPxC+pgJpXWc+ZqNuzOKTWwq7IY7ORjPBtsSGHS+5OIzD2A+w9/wPHee9CyZZVrFx/KzYXBg2H+fKhRA158Ee69V6eviZxE7UbFaxZuzGDU/M0UlzIVHuJ0MKV3HAnx0VW/0M8/m65WK1ea/djTp5vjEvXD3v7WrjWnZG3fDs2amcDu0MHqqkRsx/J91hK4usdF0a1tQ0KcDo7HpgMT1N3aNvTclHXjxmYR0hNPwJEjcPfdcNddcPCgZ16/glwuNws3ZtBz5mqumLSMnjNXs3BjRpn374NSURGMH2/ayW7fDnfcYc42V1CLVIpG1lIlJ09ZZ2QfIToyjMSOsd5rDbpypQnqPXsgNtacdXzddZ6/Thk8vl0tEP30kzl/OiXFnKp2/BxzzYSIlEnT4BJ4srPNPc/33zf/PWwYPPusmSL3Mp9N/fsjlwtefhn+9jfTke6yy0yzm1atrK6s0tSnXnxFYS2Bye02YT18OOzfb+6HvvkmXH+9Vy/rrUV1fu+HH8wislWrICQExo41ty2qV7e6skrTLIr4ku5ZS2ByOMyis9RU6NHDHLN5ww0wcKA5vclLvLFdza8dPWpahMbFmaCOj4f//heeftqvgxq80PRHpAoU1uLfGjaEDz6A996DBg1g1iy48EJzkpfL5fHLxUSEUtZYKug6rC1fbkJ67Fjz3888Y1Z/Hzvq1N95o+mPSGUprMX/HR9l//CDmRbPyYF77oErrzQdszwosVOzMqc+g6bD2u7d0KcPdO0K331nZjQ2bzb3qv18NH0yzaKInSisJXBERJg92P/9r1nctHYtXHGF6Za1a5dHLuGz7Wp2lJtr7kO3aWP2SzdpYmY1PvvMzGYEGM2iiJ1ogZkEpuJimD0bxo0zTVVq1ID77zejv7p1q/TSPt+uZrWCAnj1VXMf+tdfoWZNGD3aTH/XqmV1dV6jlf/iS1oNLsHt8GGYMgX+/nfzvHZtE9oPPljl0A54R4/CnDkwYQLs3GluN/zlL6bZSZMmVlfndVoNLr6ksBYBM7p++mmzvauw8ERoP/AA1KtndXX2kp9vms1MnmzuTwPcdhtMmgSXXGJtbT4WdLMoYhmFtcjJ9uwxq5bfeMOMHENDTfvSBx7w6+YdHrF/v/l7eekl88sNwK23wmOPQadO1tYmEuAU1iKl2bPHTI2/9ZbpN+5wmNFjUpJZ3ewMorWX335rjq985x0zqgbo2dOEdIBswxKxO4W1yJkcOGD2ZE+bBpnHmlw0awaDBpkRd0yMldV5z8GDpgPcrFnw9dfmfeHh5v95xIiAXN0tYmcKa5HyKCw025Befx1WrDDvczrNXuK+fSEhwf8XpBUUmEYm774L//73iVF0y5YmoO++G84919ISRYKVwlqkorZtMwvRZs2CrCzzvurV4cYbTWvTbt0g2k+27Bw6BP/3fyaclywxe6XBLLDr08cEdOfOOhFLxGIKa5HKKiqCL78008ULFpgFWMddcokJ7a5doWNHqFPHujpPVlRkmsIsW2YeKSlmIR2YxXTdupn70QkJAb1HWsTfKKxFPKGoCL74Aj76CJYuNa1Nj3M4THhfeaXpmHbJJXDRRSYcvam42Ox/3rDBtFVdtw7WrzcL5o6rXx9uuunEjIACWsSWFNYi3rBzpwntr74yC7SO70c+zuEw94LbtDEL1po2NY1EYmLMve+ICPM455zTX9vtNvfQDx8209ZZWWbxW2YmZGSYafrvv4cffzSfd7I6dcw2q65dzePSS4NrZbuIn1JYi/hCeroJ7fXr4X//M4/fB3hpqleHatVMoDqdJuSPHDEj+bOpXx9atzaBfMUVcPnlZq+4wlnE7yisRaxy8KAZ/e7ZY4J7924T6jk55nHwoHkUF5vRtMtlHmFhZhtVeLiZtm7YEKKizKNxYzNiv/BCE9ZlKOm8lbKL9Jw8YiJCSezUTJ23RGxKYS0SZNTTWsT/nC37NF8mEmAWb85kaWoWxceCGsz5y8UuN0tTs1i8OdPK8kSkEhTWIgFmTsouXKUc6whm1D1nTZqPKxKRqlJYiwSY9Jw8yppMcwMZ2UfK+KiI2FU1qwsQEc+KiQhlX25BqYHtAKIjwyr8mlqwJmIthbVIgEns1IxN6ZspLmUq3Ol0kNgxtkKvV9qCtX25BWxK38xnW/dqwZqID2gaXCTAdI+LolvbhoQ4HRyPUAcQcmw1ePe4qAq9nhasiVhPW7dEAlDJtPWaNDKyjxAdGUZix9hKTVv3nLmaDbtzypxWbx8byYL7rvRI3SLB6mzZp2lwkQDkdDpIiI8mIb7qp4NpwZqI9bwyDX706FFGjBhBZGQkdevWJSkpiaLytE8UEduJiQilrLF4ZResiUjFeCWsJ0yYwKpVq9i6dSupqamsXLmSSZMmeeNSIuJliZ2alTl1XpkFayJScV4J67feeotx48bRuHFjGjduzGOPPcabb77pjUuJiJd5esGaiFScxxeYZWdnU7duXbZt20bLli0B2LZtG61atSInJ4dzzz33zAVpgZmI7XhywZqInM7nC8wOHToEQERERMn7jj//7bffTgvr5ORknnrqKU+XISIe5MkFayJScR6fBg8PDwfg4MGDJe87/rx27dqnfX5ycjJut7vkISIiIqfy+Mg6MjKSmJgYNm3aRIsWLQDYtGkTTZo0OesUuIg3+EOrTH+oUUSs45WmKE888QRLlizh448/BuCWW24hISGBJ5544uwF6Z61eJA/nO3sDzWKiHdZcp71448/TqdOnWjTpg1t2rShc+fOPProo964lMgZ+UOrTH+oUUSspXajEtD8oVWmP9QoIt5lychaxC78oVWmP9QoItZSWEtA84dWmf5Qo4hYS2EtAc0fWmX6Q40iYi2FtQQ0f2iV6Q81ioi1tMBMAp4/tMr0hxpFxHvOln0KaxEREYtpNbiIiIifU1iLiIjYnMJaRETE5hTWIiIiNqewFhERsTmFtYiIiM0prEVERGxOYS0iImJzCmsRERGbU1iLiIjYnMJaRETE5hTWIiIiNqewFhERsTmFtYiIiM0prEVERGxOYS0iImJzCmsRERGbU1iLiIjYnMJaRETE5hTWIiIiNqewFhERsTmFtYiIiM0prEVERGxOYS0iImJzCmsRERGbU1iLiIjYnEfD+qOPPqJLly5ERkbSoEEDevXqRXp6uicvISIiEnQ8GtYHDx5kzJgx7Nmzh507d1KnTh369OnjyUuIiIgEHYfb7XZ768W//fZb4uPjKSgooFq1auUryOHAiyWJiIjYztmyz6v3rL/88kvatGlzxqBOTk7G4XCUPERERORU5R5Z33bbbXz00Udlfnznzp00a9as5L83btzIddddx/z587nxxhvLX5BG1iIiEmTOln3lDuvc3FwKCwvL/HjdunVxOs1AfcuWLdx44408//zzDBgwwKMFi4iIBBqPhXV5bdmyha5duzJ58mQGDhxY4T+vsBYRkWDj03vWqampdO3alQkTJlQqqEVEROR0Hh1ZDxw4kNmzZxMWFnbK+7du3UrTpk3LV5BG1iIiEmR8Pg1eVQprEREJNpZu3RIREZGqU1iLiIjYnMJaRETE5hTWIiIiNqewFhERsTmFtYiIiM0prEVERGxOYS0iImJzCmsRERGbU1iLiIjYnMJaRETE5hTWIiIiNqewFhERsTmFtYiIiM1Vs7qA0jgcDqtLEBERsQ3bhbVVZ1nrHG3r6WtgLf39W09fA+vZ9WugaXARERGbU1iLiIjYnML6mCeffNLqEoKevgbW0t+/9fQ1sJ5dvwYOtx0n50VERKSERtYiIiI2p7AWERGxOYW1iIiIzSmsRUREbE5hfZKPPvqILl26EBkZSYMGDejVqxfp6elWlxVUfv75Z7p3705UVBQOh4NNmzZZXVLAO3r0KCNGjCAyMpK6deuSlJREUVGR1WUFjenTp9OhQwdq1qxJQkKC1eUEpYKCAoYMGcL5559P7dq1ad26NW+99ZbVZZ1CYX2SgwcPMmbMGPbs2cPOnTupU6cOffr0sbqsoOJ0OunWrRsLFy60upSgMWHCBFatWsXWrVtJTU1l5cqVTJo0yeqygkZUVBTjxo1jyJAhVpcStIqKimjcuDHLli0jNzeXWbNmMWrUKD799FOrSyuhrVtn8O233xIfH09BQQHVqtmuM2vAczgcbNy4kXbt2lldSkBr0qQJU6dOpVevXgDMnz+f0aNHk5aWZnFlwSU5OZlNmzbpF1Wb6NGjBxdffDHjx4+3uhRAI+sz+vLLL2nTpo2CWgJWdnY26enpp/xC1K5dO3bv3s3BgwetK0zEQvn5+axbt45LL73U6lJKBE1Y33bbbTgcjjIfu3btOuXzN27cyOOPP87UqVOtKTgAVfRrIN536NAhACIiIkred/z5b7/9ZkFFItZyu90MHjyYCy64gB49elhdTomgGTLOnTuXwsLCMj9et27dkudbtmzh5ptvZvr06dx4442+KC8oVORrIL4RHh4OmPUa9evXL3kOULt2bcvqErGC2+1m2LBh/PDDDyxbtgyn0z7j2aAJ6zp16pTr87Zs2ULXrl2ZPHkyAwYM8HJVwaW8XwPxncjISGJiYti0aRMtWrQAYNOmTTRp0oRzzz3X4upEfMftdjN8+HDWrl3L8uXLbffv3z6/NthAamoqXbt2ZcKECQwcONDqcoJWfn4++fn5ABQWFpKfn4/L5bK4qsA1cOBAJk6cyN69e9m7dy+TJk1i8ODBVpcVNIqKisjPz6eoqAiXy0V+fv4ZZ6DEO0aMGMHq1av57LPPiIyMtLqc02g1+EkGDhzI7NmzCQsLO+X9W7dupWnTphZVFXwcDsdp7/viiy+49tprfV9MEDh69CgPPPAAc+fOBWDAgAFMnTpVCyt9JDk5maeeeuqU911zzTWsWLHCmoKCUFpaGs2aNaNmzZqn/LsfMGAAr7zyioWVnaCwFhERsTlNg4uIiNicwlpERMTmFNYiIiI2p7AWERGxOYW1iIiIzSmsRUREbE5hLSIiYnMKaxEREZtTWIuIiNicwlpERMTmFNYiIiI29//ELwqzEWKMKgAAAABJRU5ErkJggg==\n"
                },
                "metadata": {}
              }
            ]
          }
        },
        "8bcc2bfcbbeb47ce904136c31adfc36c": {
          "model_module": "@jupyter-widgets/base",
          "model_name": "LayoutModel",
          "model_module_version": "1.2.0",
          "state": {
            "_model_module": "@jupyter-widgets/base",
            "_model_module_version": "1.2.0",
            "_model_name": "LayoutModel",
            "_view_count": null,
            "_view_module": "@jupyter-widgets/base",
            "_view_module_version": "1.2.0",
            "_view_name": "LayoutView",
            "align_content": null,
            "align_items": null,
            "align_self": null,
            "border": null,
            "bottom": null,
            "display": null,
            "flex": null,
            "flex_flow": null,
            "grid_area": null,
            "grid_auto_columns": null,
            "grid_auto_flow": null,
            "grid_auto_rows": null,
            "grid_column": null,
            "grid_gap": null,
            "grid_row": null,
            "grid_template_areas": null,
            "grid_template_columns": null,
            "grid_template_rows": null,
            "height": null,
            "justify_content": null,
            "justify_items": null,
            "left": null,
            "margin": null,
            "max_height": null,
            "max_width": null,
            "min_height": null,
            "min_width": null,
            "object_fit": null,
            "object_position": null,
            "order": null,
            "overflow": null,
            "overflow_x": null,
            "overflow_y": null,
            "padding": null,
            "right": null,
            "top": null,
            "visibility": null,
            "width": null
          }
        },
        "5aa0fc9f51e348db944c1faad3d27342": {
          "model_module": "@jupyter-widgets/base",
          "model_name": "LayoutModel",
          "model_module_version": "1.2.0",
          "state": {
            "_model_module": "@jupyter-widgets/base",
            "_model_module_version": "1.2.0",
            "_model_name": "LayoutModel",
            "_view_count": null,
            "_view_module": "@jupyter-widgets/base",
            "_view_module_version": "1.2.0",
            "_view_name": "LayoutView",
            "align_content": null,
            "align_items": null,
            "align_self": null,
            "border": null,
            "bottom": null,
            "display": null,
            "flex": null,
            "flex_flow": null,
            "grid_area": null,
            "grid_auto_columns": null,
            "grid_auto_flow": null,
            "grid_auto_rows": null,
            "grid_column": null,
            "grid_gap": null,
            "grid_row": null,
            "grid_template_areas": null,
            "grid_template_columns": null,
            "grid_template_rows": null,
            "height": null,
            "justify_content": null,
            "justify_items": null,
            "left": null,
            "margin": null,
            "max_height": null,
            "max_width": null,
            "min_height": null,
            "min_width": null,
            "object_fit": null,
            "object_position": null,
            "order": null,
            "overflow": null,
            "overflow_x": null,
            "overflow_y": null,
            "padding": null,
            "right": null,
            "top": null,
            "visibility": null,
            "width": null
          }
        },
        "d0ee963a6fc84cf2b74a1cc8cc7a05e2": {
          "model_module": "@jupyter-widgets/controls",
          "model_name": "SliderStyleModel",
          "model_module_version": "1.5.0",
          "state": {
            "_model_module": "@jupyter-widgets/controls",
            "_model_module_version": "1.5.0",
            "_model_name": "SliderStyleModel",
            "_view_count": null,
            "_view_module": "@jupyter-widgets/base",
            "_view_module_version": "1.2.0",
            "_view_name": "StyleView",
            "description_width": "",
            "handle_color": null
          }
        },
        "b4915fc992334d9fbbb7f5b90c0ea1c9": {
          "model_module": "@jupyter-widgets/base",
          "model_name": "LayoutModel",
          "model_module_version": "1.2.0",
          "state": {
            "_model_module": "@jupyter-widgets/base",
            "_model_module_version": "1.2.0",
            "_model_name": "LayoutModel",
            "_view_count": null,
            "_view_module": "@jupyter-widgets/base",
            "_view_module_version": "1.2.0",
            "_view_name": "LayoutView",
            "align_content": null,
            "align_items": null,
            "align_self": null,
            "border": null,
            "bottom": null,
            "display": null,
            "flex": null,
            "flex_flow": null,
            "grid_area": null,
            "grid_auto_columns": null,
            "grid_auto_flow": null,
            "grid_auto_rows": null,
            "grid_column": null,
            "grid_gap": null,
            "grid_row": null,
            "grid_template_areas": null,
            "grid_template_columns": null,
            "grid_template_rows": null,
            "height": null,
            "justify_content": null,
            "justify_items": null,
            "left": null,
            "margin": null,
            "max_height": null,
            "max_width": null,
            "min_height": null,
            "min_width": null,
            "object_fit": null,
            "object_position": null,
            "order": null,
            "overflow": null,
            "overflow_x": null,
            "overflow_y": null,
            "padding": null,
            "right": null,
            "top": null,
            "visibility": null,
            "width": null
          }
        },
        "b80c474effd6430c94bee2efde6bc0dc": {
          "model_module": "@jupyter-widgets/controls",
          "model_name": "SliderStyleModel",
          "model_module_version": "1.5.0",
          "state": {
            "_model_module": "@jupyter-widgets/controls",
            "_model_module_version": "1.5.0",
            "_model_name": "SliderStyleModel",
            "_view_count": null,
            "_view_module": "@jupyter-widgets/base",
            "_view_module_version": "1.2.0",
            "_view_name": "StyleView",
            "description_width": "",
            "handle_color": null
          }
        },
        "75d72e9f99ef481fb6f03a97ae14f97c": {
          "model_module": "@jupyter-widgets/base",
          "model_name": "LayoutModel",
          "model_module_version": "1.2.0",
          "state": {
            "_model_module": "@jupyter-widgets/base",
            "_model_module_version": "1.2.0",
            "_model_name": "LayoutModel",
            "_view_count": null,
            "_view_module": "@jupyter-widgets/base",
            "_view_module_version": "1.2.0",
            "_view_name": "LayoutView",
            "align_content": null,
            "align_items": null,
            "align_self": null,
            "border": null,
            "bottom": null,
            "display": null,
            "flex": null,
            "flex_flow": null,
            "grid_area": null,
            "grid_auto_columns": null,
            "grid_auto_flow": null,
            "grid_auto_rows": null,
            "grid_column": null,
            "grid_gap": null,
            "grid_row": null,
            "grid_template_areas": null,
            "grid_template_columns": null,
            "grid_template_rows": null,
            "height": null,
            "justify_content": null,
            "justify_items": null,
            "left": null,
            "margin": null,
            "max_height": null,
            "max_width": null,
            "min_height": null,
            "min_width": null,
            "object_fit": null,
            "object_position": null,
            "order": null,
            "overflow": null,
            "overflow_x": null,
            "overflow_y": null,
            "padding": null,
            "right": null,
            "top": null,
            "visibility": null,
            "width": null
          }
        },
        "7c6b5cd6a4884a5182df36417af425d9": {
          "model_module": "@jupyter-widgets/controls",
          "model_name": "SliderStyleModel",
          "model_module_version": "1.5.0",
          "state": {
            "_model_module": "@jupyter-widgets/controls",
            "_model_module_version": "1.5.0",
            "_model_name": "SliderStyleModel",
            "_view_count": null,
            "_view_module": "@jupyter-widgets/base",
            "_view_module_version": "1.2.0",
            "_view_name": "StyleView",
            "description_width": "",
            "handle_color": null
          }
        },
        "14674847ea7e4705aa2ee6aa48157f94": {
          "model_module": "@jupyter-widgets/base",
          "model_name": "LayoutModel",
          "model_module_version": "1.2.0",
          "state": {
            "_model_module": "@jupyter-widgets/base",
            "_model_module_version": "1.2.0",
            "_model_name": "LayoutModel",
            "_view_count": null,
            "_view_module": "@jupyter-widgets/base",
            "_view_module_version": "1.2.0",
            "_view_name": "LayoutView",
            "align_content": null,
            "align_items": null,
            "align_self": null,
            "border": null,
            "bottom": null,
            "display": null,
            "flex": null,
            "flex_flow": null,
            "grid_area": null,
            "grid_auto_columns": null,
            "grid_auto_flow": null,
            "grid_auto_rows": null,
            "grid_column": null,
            "grid_gap": null,
            "grid_row": null,
            "grid_template_areas": null,
            "grid_template_columns": null,
            "grid_template_rows": null,
            "height": null,
            "justify_content": null,
            "justify_items": null,
            "left": null,
            "margin": null,
            "max_height": null,
            "max_width": null,
            "min_height": null,
            "min_width": null,
            "object_fit": null,
            "object_position": null,
            "order": null,
            "overflow": null,
            "overflow_x": null,
            "overflow_y": null,
            "padding": null,
            "right": null,
            "top": null,
            "visibility": null,
            "width": null
          }
        },
        "a44a75d86bf046b8b83b98a013aff47e": {
          "model_module": "@jupyter-widgets/controls",
          "model_name": "VBoxModel",
          "model_module_version": "1.5.0",
          "state": {
            "_dom_classes": [
              "widget-interact"
            ],
            "_model_module": "@jupyter-widgets/controls",
            "_model_module_version": "1.5.0",
            "_model_name": "VBoxModel",
            "_view_count": null,
            "_view_module": "@jupyter-widgets/controls",
            "_view_module_version": "1.5.0",
            "_view_name": "VBoxView",
            "box_style": "",
            "children": [
              "IPY_MODEL_9a085a9821e44803ab386bcbf7737305",
              "IPY_MODEL_596cb65c0d7a476b8238912068854197",
              "IPY_MODEL_d394f6efea1e4ed9be9e52f9f37022d4",
              "IPY_MODEL_d4222151df424cc5869547d517caa366"
            ],
            "layout": "IPY_MODEL_66d66218e04e4d18b11c32a3aedd33df"
          }
        },
        "9a085a9821e44803ab386bcbf7737305": {
          "model_module": "@jupyter-widgets/controls",
          "model_name": "FloatSliderModel",
          "model_module_version": "1.5.0",
          "state": {
            "_dom_classes": [],
            "_model_module": "@jupyter-widgets/controls",
            "_model_module_version": "1.5.0",
            "_model_name": "FloatSliderModel",
            "_view_count": null,
            "_view_module": "@jupyter-widgets/controls",
            "_view_module_version": "1.5.0",
            "_view_name": "FloatSliderView",
            "continuous_update": true,
            "description": "a",
            "description_tooltip": null,
            "disabled": false,
            "layout": "IPY_MODEL_f269ad6fa27e42f384ebebb4cd55c75f",
            "max": 3.3000000000000003,
            "min": -1.1,
            "orientation": "horizontal",
            "readout": true,
            "readout_format": ".2f",
            "step": 0.1,
            "style": "IPY_MODEL_c6a9c5ad4487489489a77a84d633dbb5",
            "value": 1.1
          }
        },
        "596cb65c0d7a476b8238912068854197": {
          "model_module": "@jupyter-widgets/controls",
          "model_name": "FloatSliderModel",
          "model_module_version": "1.5.0",
          "state": {
            "_dom_classes": [],
            "_model_module": "@jupyter-widgets/controls",
            "_model_module_version": "1.5.0",
            "_model_name": "FloatSliderModel",
            "_view_count": null,
            "_view_module": "@jupyter-widgets/controls",
            "_view_module_version": "1.5.0",
            "_view_name": "FloatSliderView",
            "continuous_update": true,
            "description": "b",
            "description_tooltip": null,
            "disabled": false,
            "layout": "IPY_MODEL_3c559da128884734b1a452c4f2c55936",
            "max": 3.3000000000000003,
            "min": -1.1,
            "orientation": "horizontal",
            "readout": true,
            "readout_format": ".2f",
            "step": 0.1,
            "style": "IPY_MODEL_0f1a533e7c5241b5814e0701accae2d4",
            "value": 1.1
          }
        },
        "d394f6efea1e4ed9be9e52f9f37022d4": {
          "model_module": "@jupyter-widgets/controls",
          "model_name": "FloatSliderModel",
          "model_module_version": "1.5.0",
          "state": {
            "_dom_classes": [],
            "_model_module": "@jupyter-widgets/controls",
            "_model_module_version": "1.5.0",
            "_model_name": "FloatSliderModel",
            "_view_count": null,
            "_view_module": "@jupyter-widgets/controls",
            "_view_module_version": "1.5.0",
            "_view_name": "FloatSliderView",
            "continuous_update": true,
            "description": "c",
            "description_tooltip": null,
            "disabled": false,
            "layout": "IPY_MODEL_44fc48b78b0d4290864e19b96d64ba41",
            "max": 3.3000000000000003,
            "min": -1.1,
            "orientation": "horizontal",
            "readout": true,
            "readout_format": ".2f",
            "step": 0.1,
            "style": "IPY_MODEL_9f58656c222e47b6b83597cb1d298a15",
            "value": 1.1
          }
        },
        "d4222151df424cc5869547d517caa366": {
          "model_module": "@jupyter-widgets/output",
          "model_name": "OutputModel",
          "model_module_version": "1.0.0",
          "state": {
            "_dom_classes": [],
            "_model_module": "@jupyter-widgets/output",
            "_model_module_version": "1.0.0",
            "_model_name": "OutputModel",
            "_view_count": null,
            "_view_module": "@jupyter-widgets/output",
            "_view_module_version": "1.0.0",
            "_view_name": "OutputView",
            "layout": "IPY_MODEL_e2881c4fa6cf46a5a305bfa9e87e75ba",
            "msg_id": "",
            "outputs": [
              {
                "output_type": "display_data",
                "data": {
                  "text/plain": "<Figure size 576x432 with 1 Axes>",
                  "image/png": "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\n"
                },
                "metadata": {}
              }
            ]
          }
        },
        "66d66218e04e4d18b11c32a3aedd33df": {
          "model_module": "@jupyter-widgets/base",
          "model_name": "LayoutModel",
          "model_module_version": "1.2.0",
          "state": {
            "_model_module": "@jupyter-widgets/base",
            "_model_module_version": "1.2.0",
            "_model_name": "LayoutModel",
            "_view_count": null,
            "_view_module": "@jupyter-widgets/base",
            "_view_module_version": "1.2.0",
            "_view_name": "LayoutView",
            "align_content": null,
            "align_items": null,
            "align_self": null,
            "border": null,
            "bottom": null,
            "display": null,
            "flex": null,
            "flex_flow": null,
            "grid_area": null,
            "grid_auto_columns": null,
            "grid_auto_flow": null,
            "grid_auto_rows": null,
            "grid_column": null,
            "grid_gap": null,
            "grid_row": null,
            "grid_template_areas": null,
            "grid_template_columns": null,
            "grid_template_rows": null,
            "height": null,
            "justify_content": null,
            "justify_items": null,
            "left": null,
            "margin": null,
            "max_height": null,
            "max_width": null,
            "min_height": null,
            "min_width": null,
            "object_fit": null,
            "object_position": null,
            "order": null,
            "overflow": null,
            "overflow_x": null,
            "overflow_y": null,
            "padding": null,
            "right": null,
            "top": null,
            "visibility": null,
            "width": null
          }
        },
        "f269ad6fa27e42f384ebebb4cd55c75f": {
          "model_module": "@jupyter-widgets/base",
          "model_name": "LayoutModel",
          "model_module_version": "1.2.0",
          "state": {
            "_model_module": "@jupyter-widgets/base",
            "_model_module_version": "1.2.0",
            "_model_name": "LayoutModel",
            "_view_count": null,
            "_view_module": "@jupyter-widgets/base",
            "_view_module_version": "1.2.0",
            "_view_name": "LayoutView",
            "align_content": null,
            "align_items": null,
            "align_self": null,
            "border": null,
            "bottom": null,
            "display": null,
            "flex": null,
            "flex_flow": null,
            "grid_area": null,
            "grid_auto_columns": null,
            "grid_auto_flow": null,
            "grid_auto_rows": null,
            "grid_column": null,
            "grid_gap": null,
            "grid_row": null,
            "grid_template_areas": null,
            "grid_template_columns": null,
            "grid_template_rows": null,
            "height": null,
            "justify_content": null,
            "justify_items": null,
            "left": null,
            "margin": null,
            "max_height": null,
            "max_width": null,
            "min_height": null,
            "min_width": null,
            "object_fit": null,
            "object_position": null,
            "order": null,
            "overflow": null,
            "overflow_x": null,
            "overflow_y": null,
            "padding": null,
            "right": null,
            "top": null,
            "visibility": null,
            "width": null
          }
        },
        "c6a9c5ad4487489489a77a84d633dbb5": {
          "model_module": "@jupyter-widgets/controls",
          "model_name": "SliderStyleModel",
          "model_module_version": "1.5.0",
          "state": {
            "_model_module": "@jupyter-widgets/controls",
            "_model_module_version": "1.5.0",
            "_model_name": "SliderStyleModel",
            "_view_count": null,
            "_view_module": "@jupyter-widgets/base",
            "_view_module_version": "1.2.0",
            "_view_name": "StyleView",
            "description_width": "",
            "handle_color": null
          }
        },
        "3c559da128884734b1a452c4f2c55936": {
          "model_module": "@jupyter-widgets/base",
          "model_name": "LayoutModel",
          "model_module_version": "1.2.0",
          "state": {
            "_model_module": "@jupyter-widgets/base",
            "_model_module_version": "1.2.0",
            "_model_name": "LayoutModel",
            "_view_count": null,
            "_view_module": "@jupyter-widgets/base",
            "_view_module_version": "1.2.0",
            "_view_name": "LayoutView",
            "align_content": null,
            "align_items": null,
            "align_self": null,
            "border": null,
            "bottom": null,
            "display": null,
            "flex": null,
            "flex_flow": null,
            "grid_area": null,
            "grid_auto_columns": null,
            "grid_auto_flow": null,
            "grid_auto_rows": null,
            "grid_column": null,
            "grid_gap": null,
            "grid_row": null,
            "grid_template_areas": null,
            "grid_template_columns": null,
            "grid_template_rows": null,
            "height": null,
            "justify_content": null,
            "justify_items": null,
            "left": null,
            "margin": null,
            "max_height": null,
            "max_width": null,
            "min_height": null,
            "min_width": null,
            "object_fit": null,
            "object_position": null,
            "order": null,
            "overflow": null,
            "overflow_x": null,
            "overflow_y": null,
            "padding": null,
            "right": null,
            "top": null,
            "visibility": null,
            "width": null
          }
        },
        "0f1a533e7c5241b5814e0701accae2d4": {
          "model_module": "@jupyter-widgets/controls",
          "model_name": "SliderStyleModel",
          "model_module_version": "1.5.0",
          "state": {
            "_model_module": "@jupyter-widgets/controls",
            "_model_module_version": "1.5.0",
            "_model_name": "SliderStyleModel",
            "_view_count": null,
            "_view_module": "@jupyter-widgets/base",
            "_view_module_version": "1.2.0",
            "_view_name": "StyleView",
            "description_width": "",
            "handle_color": null
          }
        },
        "44fc48b78b0d4290864e19b96d64ba41": {
          "model_module": "@jupyter-widgets/base",
          "model_name": "LayoutModel",
          "model_module_version": "1.2.0",
          "state": {
            "_model_module": "@jupyter-widgets/base",
            "_model_module_version": "1.2.0",
            "_model_name": "LayoutModel",
            "_view_count": null,
            "_view_module": "@jupyter-widgets/base",
            "_view_module_version": "1.2.0",
            "_view_name": "LayoutView",
            "align_content": null,
            "align_items": null,
            "align_self": null,
            "border": null,
            "bottom": null,
            "display": null,
            "flex": null,
            "flex_flow": null,
            "grid_area": null,
            "grid_auto_columns": null,
            "grid_auto_flow": null,
            "grid_auto_rows": null,
            "grid_column": null,
            "grid_gap": null,
            "grid_row": null,
            "grid_template_areas": null,
            "grid_template_columns": null,
            "grid_template_rows": null,
            "height": null,
            "justify_content": null,
            "justify_items": null,
            "left": null,
            "margin": null,
            "max_height": null,
            "max_width": null,
            "min_height": null,
            "min_width": null,
            "object_fit": null,
            "object_position": null,
            "order": null,
            "overflow": null,
            "overflow_x": null,
            "overflow_y": null,
            "padding": null,
            "right": null,
            "top": null,
            "visibility": null,
            "width": null
          }
        },
        "9f58656c222e47b6b83597cb1d298a15": {
          "model_module": "@jupyter-widgets/controls",
          "model_name": "SliderStyleModel",
          "model_module_version": "1.5.0",
          "state": {
            "_model_module": "@jupyter-widgets/controls",
            "_model_module_version": "1.5.0",
            "_model_name": "SliderStyleModel",
            "_view_count": null,
            "_view_module": "@jupyter-widgets/base",
            "_view_module_version": "1.2.0",
            "_view_name": "StyleView",
            "description_width": "",
            "handle_color": null
          }
        },
        "e2881c4fa6cf46a5a305bfa9e87e75ba": {
          "model_module": "@jupyter-widgets/base",
          "model_name": "LayoutModel",
          "model_module_version": "1.2.0",
          "state": {
            "_model_module": "@jupyter-widgets/base",
            "_model_module_version": "1.2.0",
            "_model_name": "LayoutModel",
            "_view_count": null,
            "_view_module": "@jupyter-widgets/base",
            "_view_module_version": "1.2.0",
            "_view_name": "LayoutView",
            "align_content": null,
            "align_items": null,
            "align_self": null,
            "border": null,
            "bottom": null,
            "display": null,
            "flex": null,
            "flex_flow": null,
            "grid_area": null,
            "grid_auto_columns": null,
            "grid_auto_flow": null,
            "grid_auto_rows": null,
            "grid_column": null,
            "grid_gap": null,
            "grid_row": null,
            "grid_template_areas": null,
            "grid_template_columns": null,
            "grid_template_rows": null,
            "height": null,
            "justify_content": null,
            "justify_items": null,
            "left": null,
            "margin": null,
            "max_height": null,
            "max_width": null,
            "min_height": null,
            "min_width": null,
            "object_fit": null,
            "object_position": null,
            "order": null,
            "overflow": null,
            "overflow_x": null,
            "overflow_y": null,
            "padding": null,
            "right": null,
            "top": null,
            "visibility": null,
            "width": null
          }
        },
        "80d1380d2a4b4b35bbd36b6dd58727f8": {
          "model_module": "@jupyter-widgets/controls",
          "model_name": "VBoxModel",
          "model_module_version": "1.5.0",
          "state": {
            "_dom_classes": [
              "widget-interact"
            ],
            "_model_module": "@jupyter-widgets/controls",
            "_model_module_version": "1.5.0",
            "_model_name": "VBoxModel",
            "_view_count": null,
            "_view_module": "@jupyter-widgets/controls",
            "_view_module_version": "1.5.0",
            "_view_name": "VBoxView",
            "box_style": "",
            "children": [
              "IPY_MODEL_52a8093614cf4a95b38e26a7059f47b4",
              "IPY_MODEL_125c7b1660c04283807328ae873d8b70",
              "IPY_MODEL_e0098a0f282444d085a62502cb113b27"
            ],
            "layout": "IPY_MODEL_b24c9f63cadc4563b17b339822fa9853"
          }
        },
        "52a8093614cf4a95b38e26a7059f47b4": {
          "model_module": "@jupyter-widgets/controls",
          "model_name": "FloatSliderModel",
          "model_module_version": "1.5.0",
          "state": {
            "_dom_classes": [],
            "_model_module": "@jupyter-widgets/controls",
            "_model_module_version": "1.5.0",
            "_model_name": "FloatSliderModel",
            "_view_count": null,
            "_view_module": "@jupyter-widgets/controls",
            "_view_module_version": "1.5.0",
            "_view_name": "FloatSliderView",
            "continuous_update": true,
            "description": "m",
            "description_tooltip": null,
            "disabled": false,
            "layout": "IPY_MODEL_1215b3895e2342be8e5a5c8f815187a0",
            "max": 4.5,
            "min": -1.5,
            "orientation": "horizontal",
            "readout": true,
            "readout_format": ".2f",
            "step": 0.1,
            "style": "IPY_MODEL_35fd2c429ef04b4fa294c45f4a91834e",
            "value": 2.3
          }
        },
        "125c7b1660c04283807328ae873d8b70": {
          "model_module": "@jupyter-widgets/controls",
          "model_name": "FloatSliderModel",
          "model_module_version": "1.5.0",
          "state": {
            "_dom_classes": [],
            "_model_module": "@jupyter-widgets/controls",
            "_model_module_version": "1.5.0",
            "_model_name": "FloatSliderModel",
            "_view_count": null,
            "_view_module": "@jupyter-widgets/controls",
            "_view_module_version": "1.5.0",
            "_view_name": "FloatSliderView",
            "continuous_update": true,
            "description": "b",
            "description_tooltip": null,
            "disabled": false,
            "layout": "IPY_MODEL_17e3fddbedbe4c36a173300604528ae8",
            "max": 4.5,
            "min": -1.5,
            "orientation": "horizontal",
            "readout": true,
            "readout_format": ".2f",
            "step": 0.1,
            "style": "IPY_MODEL_32b5666d1c1e4afa9d50857528c06294",
            "value": 1.5
          }
        },
        "e0098a0f282444d085a62502cb113b27": {
          "model_module": "@jupyter-widgets/output",
          "model_name": "OutputModel",
          "model_module_version": "1.0.0",
          "state": {
            "_dom_classes": [],
            "_model_module": "@jupyter-widgets/output",
            "_model_module_version": "1.0.0",
            "_model_name": "OutputModel",
            "_view_count": null,
            "_view_module": "@jupyter-widgets/output",
            "_view_module_version": "1.0.0",
            "_view_name": "OutputView",
            "layout": "IPY_MODEL_412cacaa6b3c469f8334811984411048",
            "msg_id": "",
            "outputs": [
              {
                "output_type": "display_data",
                "data": {
                  "text/plain": "<Figure size 576x432 with 1 Axes>",
                  "image/png": "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\n"
                },
                "metadata": {}
              }
            ]
          }
        },
        "b24c9f63cadc4563b17b339822fa9853": {
          "model_module": "@jupyter-widgets/base",
          "model_name": "LayoutModel",
          "model_module_version": "1.2.0",
          "state": {
            "_model_module": "@jupyter-widgets/base",
            "_model_module_version": "1.2.0",
            "_model_name": "LayoutModel",
            "_view_count": null,
            "_view_module": "@jupyter-widgets/base",
            "_view_module_version": "1.2.0",
            "_view_name": "LayoutView",
            "align_content": null,
            "align_items": null,
            "align_self": null,
            "border": null,
            "bottom": null,
            "display": null,
            "flex": null,
            "flex_flow": null,
            "grid_area": null,
            "grid_auto_columns": null,
            "grid_auto_flow": null,
            "grid_auto_rows": null,
            "grid_column": null,
            "grid_gap": null,
            "grid_row": null,
            "grid_template_areas": null,
            "grid_template_columns": null,
            "grid_template_rows": null,
            "height": null,
            "justify_content": null,
            "justify_items": null,
            "left": null,
            "margin": null,
            "max_height": null,
            "max_width": null,
            "min_height": null,
            "min_width": null,
            "object_fit": null,
            "object_position": null,
            "order": null,
            "overflow": null,
            "overflow_x": null,
            "overflow_y": null,
            "padding": null,
            "right": null,
            "top": null,
            "visibility": null,
            "width": null
          }
        },
        "1215b3895e2342be8e5a5c8f815187a0": {
          "model_module": "@jupyter-widgets/base",
          "model_name": "LayoutModel",
          "model_module_version": "1.2.0",
          "state": {
            "_model_module": "@jupyter-widgets/base",
            "_model_module_version": "1.2.0",
            "_model_name": "LayoutModel",
            "_view_count": null,
            "_view_module": "@jupyter-widgets/base",
            "_view_module_version": "1.2.0",
            "_view_name": "LayoutView",
            "align_content": null,
            "align_items": null,
            "align_self": null,
            "border": null,
            "bottom": null,
            "display": null,
            "flex": null,
            "flex_flow": null,
            "grid_area": null,
            "grid_auto_columns": null,
            "grid_auto_flow": null,
            "grid_auto_rows": null,
            "grid_column": null,
            "grid_gap": null,
            "grid_row": null,
            "grid_template_areas": null,
            "grid_template_columns": null,
            "grid_template_rows": null,
            "height": null,
            "justify_content": null,
            "justify_items": null,
            "left": null,
            "margin": null,
            "max_height": null,
            "max_width": null,
            "min_height": null,
            "min_width": null,
            "object_fit": null,
            "object_position": null,
            "order": null,
            "overflow": null,
            "overflow_x": null,
            "overflow_y": null,
            "padding": null,
            "right": null,
            "top": null,
            "visibility": null,
            "width": null
          }
        },
        "35fd2c429ef04b4fa294c45f4a91834e": {
          "model_module": "@jupyter-widgets/controls",
          "model_name": "SliderStyleModel",
          "model_module_version": "1.5.0",
          "state": {
            "_model_module": "@jupyter-widgets/controls",
            "_model_module_version": "1.5.0",
            "_model_name": "SliderStyleModel",
            "_view_count": null,
            "_view_module": "@jupyter-widgets/base",
            "_view_module_version": "1.2.0",
            "_view_name": "StyleView",
            "description_width": "",
            "handle_color": null
          }
        },
        "17e3fddbedbe4c36a173300604528ae8": {
          "model_module": "@jupyter-widgets/base",
          "model_name": "LayoutModel",
          "model_module_version": "1.2.0",
          "state": {
            "_model_module": "@jupyter-widgets/base",
            "_model_module_version": "1.2.0",
            "_model_name": "LayoutModel",
            "_view_count": null,
            "_view_module": "@jupyter-widgets/base",
            "_view_module_version": "1.2.0",
            "_view_name": "LayoutView",
            "align_content": null,
            "align_items": null,
            "align_self": null,
            "border": null,
            "bottom": null,
            "display": null,
            "flex": null,
            "flex_flow": null,
            "grid_area": null,
            "grid_auto_columns": null,
            "grid_auto_flow": null,
            "grid_auto_rows": null,
            "grid_column": null,
            "grid_gap": null,
            "grid_row": null,
            "grid_template_areas": null,
            "grid_template_columns": null,
            "grid_template_rows": null,
            "height": null,
            "justify_content": null,
            "justify_items": null,
            "left": null,
            "margin": null,
            "max_height": null,
            "max_width": null,
            "min_height": null,
            "min_width": null,
            "object_fit": null,
            "object_position": null,
            "order": null,
            "overflow": null,
            "overflow_x": null,
            "overflow_y": null,
            "padding": null,
            "right": null,
            "top": null,
            "visibility": null,
            "width": null
          }
        },
        "32b5666d1c1e4afa9d50857528c06294": {
          "model_module": "@jupyter-widgets/controls",
          "model_name": "SliderStyleModel",
          "model_module_version": "1.5.0",
          "state": {
            "_model_module": "@jupyter-widgets/controls",
            "_model_module_version": "1.5.0",
            "_model_name": "SliderStyleModel",
            "_view_count": null,
            "_view_module": "@jupyter-widgets/base",
            "_view_module_version": "1.2.0",
            "_view_name": "StyleView",
            "description_width": "",
            "handle_color": null
          }
        },
        "412cacaa6b3c469f8334811984411048": {
          "model_module": "@jupyter-widgets/base",
          "model_name": "LayoutModel",
          "model_module_version": "1.2.0",
          "state": {
            "_model_module": "@jupyter-widgets/base",
            "_model_module_version": "1.2.0",
            "_model_name": "LayoutModel",
            "_view_count": null,
            "_view_module": "@jupyter-widgets/base",
            "_view_module_version": "1.2.0",
            "_view_name": "LayoutView",
            "align_content": null,
            "align_items": null,
            "align_self": null,
            "border": null,
            "bottom": null,
            "display": null,
            "flex": null,
            "flex_flow": null,
            "grid_area": null,
            "grid_auto_columns": null,
            "grid_auto_flow": null,
            "grid_auto_rows": null,
            "grid_column": null,
            "grid_gap": null,
            "grid_row": null,
            "grid_template_areas": null,
            "grid_template_columns": null,
            "grid_template_rows": null,
            "height": null,
            "justify_content": null,
            "justify_items": null,
            "left": null,
            "margin": null,
            "max_height": null,
            "max_width": null,
            "min_height": null,
            "min_width": null,
            "object_fit": null,
            "object_position": null,
            "order": null,
            "overflow": null,
            "overflow_x": null,
            "overflow_y": null,
            "padding": null,
            "right": null,
            "top": null,
            "visibility": null,
            "width": null
          }
        },
        "966fb7fee472477489da0ae046bc39a9": {
          "model_module": "@jupyter-widgets/controls",
          "model_name": "VBoxModel",
          "model_module_version": "1.5.0",
          "state": {
            "_dom_classes": [
              "widget-interact"
            ],
            "_model_module": "@jupyter-widgets/controls",
            "_model_module_version": "1.5.0",
            "_model_name": "VBoxModel",
            "_view_count": null,
            "_view_module": "@jupyter-widgets/controls",
            "_view_module_version": "1.5.0",
            "_view_name": "VBoxView",
            "box_style": "",
            "children": [
              "IPY_MODEL_ec0cf7ad01e347d3a1e0b0f10005dd72",
              "IPY_MODEL_d7509c84701e47a3b442f79c7ffbf0b2",
              "IPY_MODEL_868d632b80d14e6091b19d82b3fbbbb3",
              "IPY_MODEL_38433924a4a4416691900f4ba36da26f",
              "IPY_MODEL_435e54a719c84172bf7cb8cf3e5da91f"
            ],
            "layout": "IPY_MODEL_9b2b5767a1b6435a988e45450b388651"
          }
        },
        "ec0cf7ad01e347d3a1e0b0f10005dd72": {
          "model_module": "@jupyter-widgets/controls",
          "model_name": "FloatSliderModel",
          "model_module_version": "1.5.0",
          "state": {
            "_dom_classes": [],
            "_model_module": "@jupyter-widgets/controls",
            "_model_module_version": "1.5.0",
            "_model_name": "FloatSliderModel",
            "_view_count": null,
            "_view_module": "@jupyter-widgets/controls",
            "_view_module_version": "1.5.0",
            "_view_name": "FloatSliderView",
            "continuous_update": true,
            "description": "m1",
            "description_tooltip": null,
            "disabled": false,
            "layout": "IPY_MODEL_b9d4c9dfbc584facaecff4eb0c05deb9",
            "max": 1.5,
            "min": -4.5,
            "orientation": "horizontal",
            "readout": true,
            "readout_format": ".2f",
            "step": 0.1,
            "style": "IPY_MODEL_b2af428eeca94861baeb9b3dbd2504bb",
            "value": -2.6
          }
        },
        "d7509c84701e47a3b442f79c7ffbf0b2": {
          "model_module": "@jupyter-widgets/controls",
          "model_name": "FloatSliderModel",
          "model_module_version": "1.5.0",
          "state": {
            "_dom_classes": [],
            "_model_module": "@jupyter-widgets/controls",
            "_model_module_version": "1.5.0",
            "_model_name": "FloatSliderModel",
            "_view_count": null,
            "_view_module": "@jupyter-widgets/controls",
            "_view_module_version": "1.5.0",
            "_view_name": "FloatSliderView",
            "continuous_update": true,
            "description": "b1",
            "description_tooltip": null,
            "disabled": false,
            "layout": "IPY_MODEL_058849635e2840fbabe3157982dfba79",
            "max": 1.5,
            "min": -4.5,
            "orientation": "horizontal",
            "readout": true,
            "readout_format": ".2f",
            "step": 0.1,
            "style": "IPY_MODEL_c94129692dc84f3c979dfc14bcebe08c",
            "value": -1.1
          }
        },
        "868d632b80d14e6091b19d82b3fbbbb3": {
          "model_module": "@jupyter-widgets/controls",
          "model_name": "FloatSliderModel",
          "model_module_version": "1.5.0",
          "state": {
            "_dom_classes": [],
            "_model_module": "@jupyter-widgets/controls",
            "_model_module_version": "1.5.0",
            "_model_name": "FloatSliderModel",
            "_view_count": null,
            "_view_module": "@jupyter-widgets/controls",
            "_view_module_version": "1.5.0",
            "_view_name": "FloatSliderView",
            "continuous_update": true,
            "description": "m2",
            "description_tooltip": null,
            "disabled": false,
            "layout": "IPY_MODEL_7f4a280bea414942b028e4c8f102c1db",
            "max": 4.5,
            "min": -1.5,
            "orientation": "horizontal",
            "readout": true,
            "readout_format": ".2f",
            "step": 0.1,
            "style": "IPY_MODEL_4b63ae30eff647689213b1e71038ba02",
            "value": 2.5
          }
        },
        "38433924a4a4416691900f4ba36da26f": {
          "model_module": "@jupyter-widgets/controls",
          "model_name": "FloatSliderModel",
          "model_module_version": "1.5.0",
          "state": {
            "_dom_classes": [],
            "_model_module": "@jupyter-widgets/controls",
            "_model_module_version": "1.5.0",
            "_model_name": "FloatSliderModel",
            "_view_count": null,
            "_view_module": "@jupyter-widgets/controls",
            "_view_module_version": "1.5.0",
            "_view_name": "FloatSliderView",
            "continuous_update": true,
            "description": "b2",
            "description_tooltip": null,
            "disabled": false,
            "layout": "IPY_MODEL_b57beafc53ee439c821fea6a6a3f6f1c",
            "max": 4.5,
            "min": -1.5,
            "orientation": "horizontal",
            "readout": true,
            "readout_format": ".2f",
            "step": 0.1,
            "style": "IPY_MODEL_0e1465c455df4b229a0ed8a041305551",
            "value": 0.7
          }
        },
        "435e54a719c84172bf7cb8cf3e5da91f": {
          "model_module": "@jupyter-widgets/output",
          "model_name": "OutputModel",
          "model_module_version": "1.0.0",
          "state": {
            "_dom_classes": [],
            "_model_module": "@jupyter-widgets/output",
            "_model_module_version": "1.0.0",
            "_model_name": "OutputModel",
            "_view_count": null,
            "_view_module": "@jupyter-widgets/output",
            "_view_module_version": "1.0.0",
            "_view_name": "OutputView",
            "layout": "IPY_MODEL_b8481e896d2d458eb0a36cc484441644",
            "msg_id": "",
            "outputs": [
              {
                "output_type": "display_data",
                "data": {
                  "text/plain": "<Figure size 576x432 with 1 Axes>",
                  "image/png": "iVBORw0KGgoAAAANSUhEUgAAAesAAAF5CAYAAAC/XQLpAAAAOnRFWHRTb2Z0d2FyZQBNYXRwbG90bGliIHZlcnNpb24zLjEwLjAsIGh0dHBzOi8vbWF0cGxvdGxpYi5vcmcvlHJYcgAAAAlwSFlzAAAN1wAADdcBQiibeAAAL/dJREFUeJzt3XmczuX+x/H3PQnJnpRlikI5lSSSylJICxpjkOXI2mIpymlVDQdpVUppIWRLm6hOJEu2SBJHfo4cRKKsM4MZs9y/Pz6HUpjBfd/X976/r+fjMY8zSfP9nNB7rut7XZ9PIBgMBgUAADwrznUBAADg+AhrAAA8jrAGAMDjCGsAADyOsAYAwOMIawAAPI6wBgDA4whrAAA8jrAGAMDjwhbW06ZNU/Xq1XXmmWeqbNmyGjlyZLgeBQBATMsXji/6+eefq0ePHho/frzq1q2rlJQUbd++PRyPAgAg5gXC0Ru8Vq1a6t69u+68885Qf2kAAHwn5Nvg+/bt07fffquff/5ZVapU0bnnnqtWrVrpl19+CfWjAADwh2CIbd68OSgpWK1ateDGjRuDqampwfbt2wdvuOGGo/78J598MiiJDz744IMPPnz9cTwh3wbfs2ePSpQoobfeektdu3aVJK1fv16VK1dWamqqzjzzzOP+84FAQGHYmQcA4NT17Cl9+KH0ySfSlVeG7Mvmln0h3wYvXry4zjvvvKP+PUIYABC13nhDevVVKSdHOvvsiD46LFe37rzzTr388sv6+eefdeDAAQ0cOFANGzZU4cKFw/E4AADCa8ECqVcv6fTTpQ8+kI6xKA2XsFzdevjhh7Vr1y5dfvnlkqTrr79e77zzTjgeBQBAeP30k5SYKGVmSq+/Ll13XcRLCMvVrVPBO2sAgGfs3y/VrSstXy7dc49tg4dBxN9ZAwAQE4JBqVs3C+p69aSXXnJWCmENAMDRPPOMNGmSvZ9+/317X+0I2+AAAPzZZ59JTZtKZ5whLVwoVa8e1sexDQ4AwIlYu1Zq29a2wceMCXtQ5wVhDQDAIXv2SM2bSykp0mOPSa1aua5IEtvgAACY7GwL6s8+k5o1k6ZOleIis6ZlGxwAgLzo39+CumpVafz4iAV1XrCyBgBg0iSpXTupeHFp6VKpcuWIPj637COsAQD+tny5dSXLyLCVdZMmES8ht+wLS7tRAACiwq+/SgkJ0oED0nPPOQnqvPDOhjwAAJF08KCUlCRt3ix16CDdf7/rio6JsAYA+NO990rz50s1a9r4y0DAdUXHRFgDAPxn5EiboHXOOdJHH1mnMg/jgBkAwF/mzZMaNbKV9Ny50jXXuK6IA2YAABy2aZO9p87Kkt56yxNBnRdsgwMA/GHfPjv5vWOH1Lu31LWr64ryjG1wAEDsCwal22+XpkyRrr9emjHD6cjLP6PdKAAATz1lQV2hgv2vh4I6L1hZAwBi2/Tp0m23SYUKSYsWSdWqua7oL1hZAwD8a80aqX172wYfO9aTQZ0XhDUAIDbt3m0r6tRU6YknpJYtXVd00tgGBwDEnuxs6dZb7SBZQoL0wQeeGnn5Z2yDAwD855FHLKgvuUQaN87TQZ0XrKwBALFlwgQbzFGihPTNN9KFF7quKFfMswYA+MeyZVLdujZRa8YMaysaBWg3CgDwh23bpBYtpPR0adiwqAnqvIjuTXwAACQpI8NOe2/ZIt1xh3Tffa4rCinCGgAQ3YJBqWdPa3hSu7aNv/TwbOqTQVgDAKLbq69Ko0ZJZcpIH34oFSzouqKQ44AZACB6zZkjNW4snXaa9NVXtrKOQhwwAwDEpg0bpFatrAHKqFFRG9R5wTY4ACD6pKVZZ7KdO6U+fexQWQxjGxwAEF2CQVtRf/CBXc/617+kfNG9UUy7UQBAbBk0yIL6ggukd9+N+qDOC1bWAIDo8fHHtv1duLD09dfW+zsGsLIGAMSG1aut57ckvfNOzAR1XhDWAADv27XLZlOnpUkDBtjq2kfYBgcAeFtWlnTzzdKsWdZSdMqUqB95+WcR3wbv1KmT8ufPr8KFCx/+WLx4cagfAwDwiwcftKC+7DJpzJiYC+q8CMv/4x49eigtLe3wR506dcLxGABArBs71iZolSxph8sKF3ZdkRP++/YEABAdliyR7rrLWom+955UsaLripwJS1iPGzdOJUuW1CWXXKLnn39eOTk5x/y5ycnJCgQChz8AANDWrTabOiPDVtY33OC6IqdCfsBs+fLlio+PV8mSJfXNN9+odevW6tu3r/r27Zu3gjhgBgD+lp4uNWhgK+uuXaU334y5kZd/llv2hf00+Kuvvqpx48bp66+/ztPPJ6wBwMeCQalzZ3tXXaeOTdUqUMB1VWHnvClKnA9P7QEATtLw4RbU5crZbGofBHVehDxJp0yZopSUFAWDQS1btkxDhw5Vy5YtQ/0YAECsmTVLeuABqWBBaepU6dxzXVfkGSHfBq9Xr55WrlyprKwslStXTl27dlW/fv3yvMJmGxwAfGj9eqlWLWn3bmsleqitqE84f2d9oghrAPCZ1FR7P716tdSvn/Tss64rijjCGgDgXTk51kJ06lTpppukTz6xe9U+4/yAGQAAxzRwoAV15crSxIm+DOq8YGUNAHDjww9tVV2kiN2prlrVdUXOsLIGAHjPypVSx47W7GTCBF8HdV7kc10AAMBnduyw2dT79kmDBknNmrmuyPPYBgcARE5mptSkiXUma91amjw55luJ5gXb4AAA7+jXz4K6enVp9GiCOo9YWQMAImP0aBvMUaqUtGyZdP75rivyDO5ZAwDcW7TIJmkFg9ZWtH591xV5Sm7ZxwEzAEB4bdkiJSba++oRIwjqk8A7awBA+Bw4ILVoIW3fLt15p3TPPa4rikqENQAgPIJBC+hly6TrrpNefpkDZSeJsAYAhMewYdL48VJ8vPT++1L+/K4rilocMAMAhN6MGdItt1hAL1wo1ajhuiJP4541ACCy1q2Tbr/dJmqNHk1QhwBhDQAInZQUayW6Z4/00ENS27auK4oJbIMDAEIjJ8eC+pNPbAt82jRGXuYR2+AAgMh44gkL6osuYjZ1iLGyBgCcuilTpDZtpKJFpaVLLbCRZ6ysAQDhtWKF1Lmz3aGeNImgDgPajQIATt5vv0kJCdL+/dLQofauGiHHNjgA4ORkZkqNG0vz5tmp7wkT6FB2kvy9Db5rl/Tww9LBg64rAYDY07evBXWNGtJbbxHUYRTb2+D33GOHHvbvl4YPd10NAMSON9+0CVqlS0tTp0qFCrmuKKbF9jb45s32Hd+OHdI770gdOoTm6wKAny1YIN1wg30+e7YN6cAp8fc2eHy8NHmyFBdnk19WrnRdEQBEt59+klq2/H02NUEdEbEd1pLUsKE0ZIjNVE1MtBZ4AIATt3+/zab+9VepRw+pe3fXFflGbG+DHxIM2neCH30kNWtm71fiYv/7FAAImWBQat/e7lHXry998YV0+umuq4oZ/t4GPyQQkMaMkapUkaZPt5U2ACDvnn3Wgvr886X33iOoI8wfK+tDVq+Wate2rZzPP5duvDE8zwGAWPLZZ1LTplLBgtKiRVL16q4rijmsrP/okkukUaNsO6dtW2njRtcVAYC3rV1r/70MBqWxYwlqR/wV1pI1mu/b1xqmJCVJ6emuKwIAb9qzR2re3GZUP/aY1KqV64p8y1/b4IdkZtop8fnzpa5drfMOAOB32dkW1J99xsHcCGAb/GhOP906m5UpY9vib77puiIA8Jb+/S2oq1aVxo8nqB3z58r6kIULpQYN7DfhggVSrVqReS4AeNmkSVK7dlKxYjabukoV1xXFPFbWx3PttdILL9igj6Qka0sKAH62fLm9HoyLk959l6D2CH+HtST16mXfQf70k514zM52XREAuLF9u3Tbbdbx8ZlnpCZNXFeE/wlrWB84cECVKlVS8eLFw/mYUxMISG+8IV12mTRrlvTEE64rAoDIO7TDuGWLDT26/37XFeEPwhrWTzzxhM4///xwPiI0zjxT+vBDez8zZIj08ceuKwKAyLr3Xju7U7OmLWCYTe0pYQvrb7/9Vp9//rkeeuihcD0itCpVsjGaktSxo7Rundt6ACBSRo6UXn9dOuccm6FwxhmuK8KfhCWss7Ky1L17d40YMUL58+cPxyPCo1kzu66QkmITuvbtc10RAITXvHlS795S/vwW1OXLu64IRxGWsH722Wd1xRVXqF69ern+3OTkZAUCgcMfziUnW8/wf//bxr9562YbAITOpk32njorS3rtNalOHdcV4RhCfs/6xx9/VMOGDfXdd9+pZMmSmjt3rhISErQnj3OkI3rP+lh27pSuvNJ+I7/0kr3LAYBYsm+fdN110ooVtrIePtx1Rb4W8XvWCxYs0Pbt21WlShWVKlVKt912m1JSUlSqVCktWbIk1I8Lj7POkt5/XypQQHrgATt0AQCxIhiUunSxoL7+eun5511XhFyEfGW9f/9+7dq16/BfL168WN26ddPq1atVunTpXN9he2JlfcioUVK3btK551qjgDJlXFcEAKfuqaekRx+VKlSQvvlGKlXKdUW+l1v25Qv1AwsVKqRChQod/uuzzz5bgUBA5aPx0ELXrtLXX9ugjzZtpC+/ZOA6gOj2ySc2QevMM6Vp0wjqKOHv3uB5kZ4u1a0rLVsm9ekjDRvmuiIAODlr1ki1a0upqfaqr2VL1xXhf+gNfqoKFrTf1GedJb34ojR5suuKAODE7d5trURTU61TI0EdVVhZ59UXX1if3DPOsCk0l1ziuiIAyJvsbKlpU+nzz6WEBOmDDxh56TGsrEOlcWNp0CBp/36pRQtp717XFQFA3jzyiAX1JZdI48YR1FGIlfWJyMmxoJ42je9OAUSHCRNsMEeJEnby+8ILXVeEo2BlHUpxcdLYsdZHfOpUGyEHAF61bJldP42Lk6ZMIaijGCvrk7FqlXT11XZSfMYMqVEj1xUBwJG2bbMJWj//bLdY+vRxXRGOg5V1OFx2md29zsmR2raVfvrJdUUA8LuMDDvt/fPP0h13SPfd57oinCLC+mS1bWs9w3fssD8U6emuKwIAayXas6e0aJF01VU2/tILQ5JwSgjrU/Hss9K119p7Ib5zBeAFI0ZYq+QyZWzkZcGCritCCPDO+lRt3WoTurZtsz8gXbq4rgiAX82ZY9dMTztN+uor61aGqJBb9hHWoTB/vk2uyZfPtp5q1HBdEQC/2bBBqlXLRvyOGWPvqhE1OGAWCXXrSs899/uhjp07XVcEwE/S0qyV6M6dduqboI45rKxDJRi0Q2fvvmttST/91LaiACCccnKk1q2tSVPDhtapLF/IByoizFhZR0ogYNe5/vY3u3s9YIDrigD4weDBFtQXXGCNTwjqmMTKOtTWrrX3Rqmp0vTp1jwfAMLh44+t9XHhwtLXXzNgKIqxso60iy6ylqSS9eP98Ue39QCITatX239jJGn8eII6xhHW4dCihfTwwzaZq2VLm9QFAKGya5cdKEtLkwYOtM8R09gGD5esLOmmm6Qvv5Tat5feeYcuQgBOXVaWdMst0hdf2GJgyhSm/8UAtsFdyZdPmjRJio+3EXWvvuq6IgCx4MEHLagvu8zuUxPUvsDKOtyWLrV72Dk50rx50jXXuK4IQLQaO1bq1EkqWdLaHFes6LoihAgra9euukp6+WXbumrVStq+3XVFAKLRkiXSXXdZ/4b33iOofYawjoTu3aXOna2PeJs2FtwAkFdbt9rB1YwMm019ww2uK0KEEdaREAjYJJwaNWwr/JFHXFcEIFqkp0uJidIvv9igoF69XFcEB3hnHUkbN9qErl277ARnq1auKwLgZcGg7cqNHSvVqWNTtQoUcF0VwoB31l5SoYKdDA8E7DvkNWtcVwTAy4YPt6AuV85aihLUvkVYR9pNN1nf8LQ0eweVkuK6IgBeNGuW9MADFtAffSSVKeO6IjhEWLvw2GPSrbdaH/EuXWyrCwAOWb/eDqNmZ9uAoFq1XFcExwhrF+LirKPZBRfY1tbzz7uuCIBXpKZa+9Bdu2xlfaj/N3yNA2Yuff+9dPXV0sGDtuV1/fWuKwLgUk6OtRCdOlW68Ubps8/sXjViHgfMvOzyy6U33rA/oG3aSFu2uK4IgEsDB1pQV64sTZ5MUOMwVtZe0KuX3cOuXdvuYXPiE/CfDz+0VXWRItatrGpV1xUhglhZR4MXXrDt8CVLpL59XVcDINJWrZI6drRrnRMmENT4C8LaC/Lnl95/XypdWnrtNbtXCcAfduyQmjeX9u2T/vlPqVkz1xXBg9gG95K5c6VGjaTTT5cWLZKuuMJ1RQDCKTNTatLEOpO1aiW9+y5z732KbfBo0qCB9PTT1gu4ZUtp927XFQEIpwcesKCuXl16+22CGsfEytprgkGpdWvbFr/lFmn6dIbLA7Fo1CipWzepVCmbTX3++a4rgkOsrKNNICCNHi1dfLHdsfznP11XBCDUFi+W7rlHypfPvjEnqJELVtZetWaNdNVVdujkk09slQ0g+m3ZItWsKW3fblc2e/RwXRE8wMnKunfv3oqPj1fRokVVrlw59enTRwcPHgzHo2JX1ar2DisYlNq3l/77X9cVAThVBw7YAJ/t26U777TVNZAHYQnrHj166P/+7/+UkpKi77//Xt9//72eeeaZcDwqtiUlSf36SXv22IGzAwdcVwTgZAWDFtDLlknXXiu9/DIHypBnYQnrqlWr6swzz5QkBYNBxcXFad26deF4VOx76ik7Jb5ihX0XzisCIDoNGyaNHy/Fx9sAn/z5XVeEKBK2A2ZDhw5V4cKFVbp0aX3//ffq3bv3UX9ecnKyAoHA4Q/8Sb581iO4XDlrlvL6664rAnCiZs6U/vEPqWBB6/19zjmuK0KUCfsBszVr1mjChAm6++67Vb58+dwL4oDZ0S1eLNWvb5/Pn299xAF437p1dlh0zx5p4kSpbVvXFcGDnF/dqlq1qi6//HJ16tQp3I+KbXXqSC++aB2PkpKkX391XRGA3KSk2GzqPXukhx4iqHHSInLPOjMzk3fWoXDPPdLf/25XP26/XcrKcl0RgGPJyZE6dLBrmDffLA0e7LoiRLGQh3VaWprefvtt7dmzR8FgUKtWrdKgQYPUpEmTUD/KfwIBaeRIqVo1a1H42GOuKwJwLE88YR0IL7rItr+ZTY1TEPJ31vv27VNCQoKWL1+ujIwMlS5dWi1bttSAAQNUqFCh3AvinXXu1q+3pgp79lj3o5YtXVcE4I/ee8/aBhctKi1daoENHEdu2UcHs2j16adS06Y2qH7pUmtPCsC9FSvsHvWBA3QfRJ45P2CGMLn1VttmS02VEhOltDTXFQH47TcpIUHav996JBDUCBFW1tEsO9tW159/bltukyfTEQlwJTPT5tF/9ZWd+p4wgT+PyDNW1rHstNPsPwgVKkhTptjVLgBu9OljQV2jhvTWWwQ1QoqVdSz47jvpmmvsO/vZs6V69VxXBPjLm29a3+/Spa33d3y864oQZThg5hdjxkidO1sbw+XLpbJlXVcE+MOCBdINN9jns2dL113nth5EJbbB/aJTJ+muu2z0XqtWEiNJgfDbvNmuTmZm2mxqghphQljHkpdekmrVkhYtstGaAMJn/347+f3rr1KPHlL37q4rQgxjGzzWbN5sB1x27LBxfO3bu64IiD3BoP3ZmjTJzojMmiWdfrrrqhDF2Ab3m/h4u8IVF2ff6a9c6boiIPY8+6wF9fnnWxdBghphRljHooYNpSFDrINSYqK1JQUQGp99Jj38sHTGGTab+uyzXVcEHyCsY9WDD0otWlgf8Y4dbQIQgFOzdq3Urp1tg48dK1Wv7roi+ARhHasCAbvOVaWKTf4ZMsR1RUB027vXZlPv3WsT71q1cl0RfIQDZrHuhx+kq66yk6uffy7deKPrioDok50tNW9uW+DNmtn2dxxrHYQOB8z87m9/k0aPtm27tm2ljRtdVwREn/79LairVrVbFgQ1IozfcX7QurV0//3Srl1SUpKUnu66IiB6TJokDR0qFStmK+qiRV1XBB9iG9wv/jgRqGtXGzQA4PiWL7euZBkZtrJu0sR1RYhRbIPDnH669O67Upky0qhRhDWQm+3brUPZgQPS008T1HCKlbXfLFwoNWhg79wWLLD2pACOdPCg9StYsEDq0EEaN46RlwgrVtY40rXXSi+8YP8xSkqytqQAjnTvvRbUNWtKb7xBUMM5wtqPevWyxg4//WQnxLOzXVcEeMfIkdLrr9u42Y8+sk5lgGNsg/vVvn3S1VdL//639Oij0uDBrisC3PvqK9v+jouT5s6V6tRxXRF8IrfsI6z9bN062+ZLSbErKbfd5roiwJ1Nm+wMx2+/2SHMLl1cVwQf4Z01jq1yZemdd+zzjh2l//zHbT2AK/v22cnv336TevcmqOE5hLXfNW9ufY5TUmxC1759risCIisYtN4DK1ZI118vPf+864qAvyCsIQ0YIDVuLK1ebTOweQ0BPxk61HoQVKggTZnCbGp4Eu+sYXbssPfXmzZJL74o3Xef64qA8Js+3c5qFCokLV4sXXaZ64rgUxwwQ94tW2atFbOzpdmzpbp1XVcEhM+aNVLt2lJqqvT++1LLlq4rgo9xwAx5V7OmNGKElJVlwz9++cV1RUB47N5tK+rUVOmJJwhqeB5hjSN17Sp16yZt22aBnZnpuiIgtLKzrRnQunUW2E8+6boiIFeENf7q5ZelK6+0dosPPui6GiC0Hn5YmjHDZr2/8w6zqREVeGeNo9u0SapRw2ZgT5xoKxEg2o0fL/3971KJEtI330gXXui6IkASB8xwKmbOlG66yXojL10qXXKJ64qAk3foAGVmpq2sGzVyXRFwGAfMcPJuvFEaNEjav19q0ULau9d1RcDJ2bbNOpRlZFjTE4IaUYawxvE9/LB1OVu3TurUiYYpiD4ZGXba++efpTvuoIcAohJhjeOLi5PGjpUqVbJhH08/7boiIO+CQalnT2nRIrtTPXIks6kRlXhnjbxZtcr+Y5eRwfs+RI8RI2x+e5ky9s66bFnXFQFHxQEzhM7EiVL79lKpUtK330rnnee6IuDY5syxnvennWZzqmvXdl0RcEwRP2CWkZGh7t27q2LFiipSpIguvvhijR49OtSPgQvt2kn33mt9xJOSpPR01xUBR7dhg9SqlTVAeeMNghpRL+RhnZWVpTJlymjWrFlKSUnRmDFj9MADD2jmzJmhfhRcePZZ6dpr7Y7qvfe6rgb4q7Q0O/m9c6fUp48dKgOiXES2wRMTE3XppZdq4MCBuRfENrj3bd1qHc62bZNGjZK6dHFdEWBycqxN7gcfSA0bSp9/LuXL57oqIFfO71mnp6dr6dKlqlatWrgfhUgpW9bm/p52mtSjh7R8ueuKADN4sAX1BRfYjGqCGjEirGEdDAbVrVs3Va5cWYmJiUf9OcnJyQoEAoc/ECXq1pWee+73O6w7d7quCH738cc2QatwYWnaNOmss1xXBIRM2LbBg8GgevTooWXLlmnWrFkqVqxY3gpiGzx6BIPWM/zdd6UmTaRPP7XVNhBpq1dLV19t76s/+sjeWQNRxMk2eDAYVM+ePbVkyRLNnDkzz0GNKBMISG+9ZT3DZ8yQBgxwXRH8aNcuG3WZlma/BwlqxKCwrKx79uypBQsWaPbs2TrrBLeiWFlHof/8R6pZU0pNlaZPl5o2dV0R/CIrS7r5ZmnWLHsdM2UKIy8RlSLeFGXTpk2qUKGCChQooHx/ONzRoUMHjRw5Mtd/nrCOUh99JCUmSsWLW6coRg8iEu6/Xxo2TLrsMmspWriw64qAk0IHM0TOI49IQ4dK1apJixdLhQq5rgixbOxYGy5z1ll2779iRdcVASeNsEbkZGXZ/Osvv5Q6dJDGjWNoAsJjyRKpfn37PffFF9L117uuCDglzu9Zw0fy5ZMmTZLKl5fGj5defdV1RYhFW7fafPWMDOnFFwlq+AIra4Te0qV2DzsYlObNk+rUcV0RYkV6utSgga2su3aV3nyT3RvEBFbWiLyrrpKGD5cyM23gx/btritCLAgGpXvusaCuU8fGXxLU8AnCGuFx551S5862Zdmmjb1bBE7F8OHSmDFSuXLWUrRAAdcVARHDNjjC58ABm9D13XdSv342sQs4GbNm2eHFfPmk+fOlWrVcVwSEFKfB4daGDTaha/dua1jRqpXrihBt1q+3cN69W3rnHbtpAMQY3lnDrYoV7YR4IGCjNNescV0RoklqqrUS3b3bdmcIavgUYY3wa9LEejanpdmVm5QU1xUhGuTkSB072pCOG2+0hjuATxHWiIzHHpNuvVVau9ZW2LzqQG4GDpSmTpUqVZImT2aiG3yNd9aInN27beDHf/9rh8369XNdEbzqww9tMEeRInZVq2pV1xUBYcUBM3jL99/b3OGDB+2EL92n8GerVtk96v37pY8/lpo1c10REHYcMIO3XH659MYb9j6yTRtpyxbXFcFLdu60A2X79kmDBhHUwP8Q1oi8v/9d6tlT+u0363CWkeG6InhBZqZd7duwwf73kUdcVwR4BmENN154wbbDlyyxmcRAv37SnDm2+/L227QSBf6Ad9ZwZ8sWa5jy66/WRvKOO1xXBFdGj7bBHKVK2WzqChVcVwREFAfM4G1z50qNGkmnny4tXixVr+66IkTaokU2SSsYtEOH9eu7rgiIOA6YwdsaNJCeftpGHyYm2vUu+MeWLXZFKzPTBnUQ1MBREdZw7/777aDZhg3WTjInx3VFiIQDB6yj3bZtUvfu0t13u64I8CzCGu4FAvbO8uKLpc8+k/75T9cVIdyCQRujumyZdN110iuvcKAMOA7eWcM71qyRrrrK7th+8ol0yy2uK0K4PP+8nf6Oj7cDZeec47oiwCkOmCG6vP++3bEtXlz69lvpggtcV4RQmzHDvhHLn19auFCqUcN1RYBzHDBDdElKshXXnj128OjAAdcVIZTWrZNuv93OJYweTVADeURYw3ueespOia9YId1zDxO6YkVKirUS3bNHeughqW1b1xUBUYNtcHjT9u3WMOXnn6WRI6W77nJdEU5FTo6UkCBNn25b4NOmMfIS+APeWSN6LV78+73b+fOl2rXd1oOT9/jjNpjjoousxWyxYq4rAjyFd9aIXnXqSC++aA0zkpJs8Aeiz3vvWVAXLWojLwlq4IQR1vC2e+6xKV1bttjBpKws1xXhRHz/vdSpk92hnjTJVtYAThhhDW8LBOyddbVq0uzZUv/+ritCXv32mx0o27/fDg1ybx44abyzRnRYv16qWdNOEn/wgfURh3dlZkqNG0vz5tmp7wkT6FAGHAfvrBEbLrxQGj/ePu/USVq71mk5yEXfvhbUNWpIb71FUAOniLBG9Lj1VumJJ6TUVFtZp6W5rghH8+ab0ogRUunS0kcfSYUKua4IiHpsgyO65ORITZtK//qXtSV9911WbV6yYIF0ww32+ezZNqQDQK7YBkdsiYuz7fAKFexK0Isvuq4Ih2ze/Pts6pdfJqiBEGJljej03XfSNddYMMyeLdWr57oif9u/X6pbV1q+3K7bvfqq64qAqMLKGrHpiivsSld2ttS6tbR1q+uK/CsYlLp1s6CuV4/dDiAMCGtErzvukO6+2/qIt2olHTzouiJ/evZZa3hy3nk24jR/ftcVATGHbXBEt4wMW80tXSr17i0NH+66In/517/slH7BgtKiRVL16q4rAqKSk23wV155RTVr1lSBAgWUkJAQjkcApkABW82VKmWHmiZMcF2Rf6xdaw1PgkFpzBiCGgijsIR12bJl1b9/f3Xv3j0cXx44Uny8NHmynRTv3l1audJ1RbFv715rJbp3r/TYY3ZuAEDYhCWsExMTlZCQoFKlSoXjywN/1bChNGSIdOCANUzZs8d1RbErO1tq185W1s2aSQMHuq4IiHnOD5glJycrEAgc/gBO2oMPSi1aWB/xjh2tgQpC77HHpM8+k6pWtTvvcc7/MwLEPOd/ypKTkxUMBg9/ACctEJDefluqUkWaPt1W2gitSZOkp5+Wihe32dRFi7quCPAF52ENhFSxYtKHH0pnnml9xGfMcF1R7Pj2W6lLF1tJT54sVa7suiLANwhrxJ5LLpFGjbJTyu3aSRs3uq4o+m3fLiUkSOnp0jPPSE2auK4I8JWwhHVWVpbS09OVlZWlnJwcpaen6yANKxBJbdrYmMZdu6xfdXq664qi18GDUlKStGWL1KGDdP/9risCfCcsTVGSk5M1YMCAI36sfv36mjt3bu4F0RQFoZKZaafE58+Xuna1uco4cXffLb3+ulSzpvTVV9IZZ7iuCIg5uWUfHcwQ27Ztk2rUkH75xeYsd+vmuqLo8tprUo8e0rnnSsuWSeXKua4IiEmENbBwodSggR2MWrBAqlXLdUXRYd48qVEj+/c2Z45NOQMQFkzdAq69Vnrhhd/fve7Y4boi79u0yf5dZWXZ6pqgBpwirOEPvXrZyfCffrJ+1tnZrivyrn377OT3jh02HKVLF9cVAb5HWMMfAgHpjTekSy+VZs2yO9j4q2DQwnnFCun666Xnn3ddEQDxzhp+s26dnWpOSZGmTrVhFPjdU09Jjz4qVaggffONTTMDEHYcMAP+bNo0C+miRe2EM524zCefSM2b29WsxYulatVcVwT4BgfMgD9r3tyGUaSk2ISufftcV+TemjX2Tj8YlMaNI6gBjyGs4U8DBkiNG0v//rfNwPbzbs7u3bbTkJpq7/JbtnRdEYA/YRsc/rVjh3TllXZC/KWXpHvvdV1R5GVnS7feagNPbrvNhqAw8hKION5ZA8ezbJl03XUWWnPm2Od+8o9/SM89Z8NPFi+WihRxXRHgS7yzBo6nZk1pxAhr/tGqlbUl9Yvx4y2oS5Swk/EENeBZhDXQtav1DN+2TWrd2gaAxLply+z/c1yc9O67UqVKrisCcByENSBJL79s768XLJAefNB1NeG1bZt1KMvIsKYnjRu7rghALnhnDRyyaZNN6Nq1S5o0Sbr9dtcVhV5GhnTDDdKiRdIdd0hvv23d3QA4xQEz4ETMnCnddJM1Blm61A5exYpgULrzTpvrXbu2NHeuVLCg66oAiANmwIm58UZp0CBp/35rmLJ3r+uKQmfECAvqMmXsihZBDUQNVtbAn+XkSC1aWFvShAQLtmjfKp4zx95Nn3aa9NVXtrIG4BmsrIETFRcnjR1rJ6SnTpWeftp1Radmwwa7lpadbZPHCGog6rCyBo5l1SoLtowM6/DVqJHrik5cWpp07bXSypVS377SCy+4rgjAUbCyBk7WZZdJb75p2+Jt21pb0mgSDEqdO1tQN2okPfOM64oAnCTCGjie9u2l3r2tj3hSkq2yo8WgQdL770sXXGCNT/Llc10RgJPENjiQm4MH7W7ywoV29en1111XlLuPP7bDcYULS19/HVtX0IAYxD1rIBS2brWGKdu3S6NGSV26uK7o2Favlq6+2t5Xf/SRhTYAT+OdNRAKZctKU6bY1acePaTly11XdHS7dtmoy7Q0m9lNUAMxgbAG8qpePZtSlZEhtWwp7dzpuqIjZWVZi9T1662hS//+risCECKENXAi7rtPatNG2rjRDp9lZ7uu6HcPPih98YV06aV2TzyOP95ArOBPM3AiAgFr2fm3v9nd6wEDXFdkxo6Vhg2TSpa0w2WFC7uuCEAIccAMOBlr10q1akmpqdL06VLTpu5qWbJEql/ftsFnzrST6wCiCgfMgHC46CJp3Dj7vEMH6ccf3dSxdav1Mc/IsJU1QQ3EJMIaOFkJCdLDD9tkrpYtbVJXJKWn23N/+cWukvXqFdnnA4gYtsGBU5GVZfOvv/zSVtjjxkVmQlcwaAE9ZoxUp45N1SpQIPzPBRAWbIMD4ZQvnzRpklS+vDR+vPTqq5F57vDhFtTlykkffEBQAzGOlTUQCkuXSnXr2tCPefOka64J37NmzbLVfL580vz5dtANQFRjZQ1EwlVX2Wo3K8tmR2/fHp7nrF8vtW5t97vfeougBnyCsAZC5c47bSTl1q3WOCUrK7RfPzXVWonu3i3162fvyAH4AmENhEogII0YIV1xhW2FP/JI6L52To7UsaMN6bjxRmno0NB9bQCexztrINQ2bJCuvNJWwFOm2Lb4qUpOtm5plSrZ+/ESJU79awLwDCfvrDMzM9WrVy+VKFFCJUuWVO/evZUV6i1BwKsqVpQmTrSVdufOdlr8VL4B/eADC+oiRaRp0whqwIfCEtaDBg3SggUL9MMPP2j16tWaP3++hgwZEo5HAd50003SM89I+/ZJ7drZ6vrXX0/866xcKd1xhwX/hAlS1aqhrxWA54VlGzw+Pl7Dhg1TUlKSJOm9995Tv379tGnTptwLYhscsWTuXFtdb9wonX229MIL1qr0WLKypC1bpE2b7J/5+GP768GDpUcfjVDRACItt+wLeVjv3r1bJUuW1Lp161SpUiVJ0rp161SlShXt2bNHxYoVO6WCgaiTmmrjK0eOPLl/vl07a7gSic5oAJzILfvyhfqBaWlpkqTixYsf/rFDn6empv4lrJOTkzXAK2MGgXAoUkR67TUpMVF6+20pM/PYPzcuTipbVjr/fKlCBXv/Xa0aQQ34XNhW1j/++KMuvPBCSdKPP/6oypUrs7IGAOAoIn4avESJEipfvrxWrFhx+MdWrFih+Pj4XIMaAAD8VVhOg3fu3FmDBw/Wtm3btG3bNg0ZMkTdunULx6MAAIh5IX9nLUmPP/64du7cqar/u2bSoUMHPcpJVgAATgodzAAAcIypWwAARDnCGgAAjyOsAQDwOMIaAACPI6wBAPA4whoAAI8jrAEA8DjCGgAAjyOsAQDwOMIaAACPI6wBAPA4whoAAI8jrAEA8DjCGgAAjyOsAQDwOMIaAACPI6wBAPA4whoAAI8jrAEA8DjCGgAAjyOsAQDwOMIaAACPI6wBAPA4whoAAI8jrAEA8DjCGgAAjyOsAQDwOMIaAACPI6wBAPA4whoAAI8jrAEA8DjCGgAAjyOsAQDwOMIaAACPI6wBAPA4whoAAI8jrAEA8DjCGgAAjwtpWP/yyy9q3ry5ypYtq0AgoBUrVoTyywMA4EshDeu4uDjddNNNmjp1aii/LAAAvhYIBoPBsHzhQEDfffedqlevfsL/XJhKAgDAk3LLvnwRrOWokpOTNWDAgCN+LBAIOKoGAADvyfPKumnTpvr000+P+fc3bNigChUq/P6FT3Jl7Qorevf4NXCLf//u8Wvgnld/DfK8sp44caIOHjx4zL9fsmTJkBQEAACOlOewLlq0aDjrAAAAxxDyd9bp6emHPz948KDS09OVP39+xcV5+0r3k08+6boE3+PXwC3+/bvHr4F7Xv01CPlp8KMdDpszZ44aNGgQyscAAOAbIV9Ze/HFPAAA0czbe9MAAICwBgDA6whrAAA8jrD+g08//VT16tVTiRIlVLp0aSUlJWnLli2uy/IVhsFEXmZmpnr16qUSJUqoZMmS6t27t7KyslyX5RuvvPKKatasqQIFCighIcF1Ob6UkZGh7t27q2LFiipSpIguvvhijR492nVZRyCs/2Dv3r166KGHtHnzZm3YsEFFixZV69atXZflKwyDibxBgwZpwYIF+uGHH7R69WrNnz9fQ4YMcV2Wb5QtW1b9+/dX9+7dXZfiW1lZWSpTpoxmzZqllJQUjRkzRg888IBmzpzpurTDwjbIIxasXLlSV1xxhTIyMpQvn/M26r4TbS1ro1V8fLyGDRumpKQkSdJ7772nfv36adOmTY4r85fk5GStWLGCb1Q9IjExUZdeeqkGDhzouhRJrKyPa968eapatSpBjZi1e/dubdmy5YhviKpXr66ffvpJe/fudVcY4FB6erqWLl2qatWquS7lMN+EddOmTRUIBI75sXHjxiN+/nfffafHH39cw4YNc1NwDDrRXwOEX1pamiSpePHih3/s0OepqakOKgLcCgaD6tatmypXrqzExETX5RzmmyXjiQwiWbVqlW6++Wa98soraty4cSTK8wWGwXhP4cKFJdl5jVKlSh3+XJKKFCnirC7AhWAwqB49emjt2rWaNWuWp9pk+yas8zqIZNWqVWrUqJGGDh2qDh06hLkqf2EYjPeUKFFC5cuX14oVK3ThhRdKklasWKH4+HgVK1bMcXVA5ASDQfXs2VNLlizRl19+6bnf/975tsEDVq9erUaNGmnQoEHq3Lmz63J8Kz09/fBAmEPDYHJychxXFbs6d+6swYMHa9u2bdq2bZuGDBmibt26uS7LN7KyspSenq6srCzl5OQoPT39uDtQCI9evXpp4cKF+uKLL1SiRAnX5fwFp8H/oHPnzho7dqwKFSp0xI//8MMPOu+88xxV5T8Mg4mszMxM9enTRxMnTpQkdejQQcOGDeNgZYQkJydrwIABR/xY/fr1NXfuXDcF+dCmTZtUoUIFFShQ4Ijf9x06dNDIkSMdVvY7whoAAI9jGxwAAI8jrAEA8DjCGgAAjyOsAQDwOMIaAACPI6wBAPA4whoAAI8jrAEA8DjCGgAAjyOsAQDwOMIaAACP+38RfAvScBtG8QAAAABJRU5ErkJggg==\n"
                },
                "metadata": {}
              }
            ]
          }
        },
        "9b2b5767a1b6435a988e45450b388651": {
          "model_module": "@jupyter-widgets/base",
          "model_name": "LayoutModel",
          "model_module_version": "1.2.0",
          "state": {
            "_model_module": "@jupyter-widgets/base",
            "_model_module_version": "1.2.0",
            "_model_name": "LayoutModel",
            "_view_count": null,
            "_view_module": "@jupyter-widgets/base",
            "_view_module_version": "1.2.0",
            "_view_name": "LayoutView",
            "align_content": null,
            "align_items": null,
            "align_self": null,
            "border": null,
            "bottom": null,
            "display": null,
            "flex": null,
            "flex_flow": null,
            "grid_area": null,
            "grid_auto_columns": null,
            "grid_auto_flow": null,
            "grid_auto_rows": null,
            "grid_column": null,
            "grid_gap": null,
            "grid_row": null,
            "grid_template_areas": null,
            "grid_template_columns": null,
            "grid_template_rows": null,
            "height": null,
            "justify_content": null,
            "justify_items": null,
            "left": null,
            "margin": null,
            "max_height": null,
            "max_width": null,
            "min_height": null,
            "min_width": null,
            "object_fit": null,
            "object_position": null,
            "order": null,
            "overflow": null,
            "overflow_x": null,
            "overflow_y": null,
            "padding": null,
            "right": null,
            "top": null,
            "visibility": null,
            "width": null
          }
        },
        "b9d4c9dfbc584facaecff4eb0c05deb9": {
          "model_module": "@jupyter-widgets/base",
          "model_name": "LayoutModel",
          "model_module_version": "1.2.0",
          "state": {
            "_model_module": "@jupyter-widgets/base",
            "_model_module_version": "1.2.0",
            "_model_name": "LayoutModel",
            "_view_count": null,
            "_view_module": "@jupyter-widgets/base",
            "_view_module_version": "1.2.0",
            "_view_name": "LayoutView",
            "align_content": null,
            "align_items": null,
            "align_self": null,
            "border": null,
            "bottom": null,
            "display": null,
            "flex": null,
            "flex_flow": null,
            "grid_area": null,
            "grid_auto_columns": null,
            "grid_auto_flow": null,
            "grid_auto_rows": null,
            "grid_column": null,
            "grid_gap": null,
            "grid_row": null,
            "grid_template_areas": null,
            "grid_template_columns": null,
            "grid_template_rows": null,
            "height": null,
            "justify_content": null,
            "justify_items": null,
            "left": null,
            "margin": null,
            "max_height": null,
            "max_width": null,
            "min_height": null,
            "min_width": null,
            "object_fit": null,
            "object_position": null,
            "order": null,
            "overflow": null,
            "overflow_x": null,
            "overflow_y": null,
            "padding": null,
            "right": null,
            "top": null,
            "visibility": null,
            "width": null
          }
        },
        "b2af428eeca94861baeb9b3dbd2504bb": {
          "model_module": "@jupyter-widgets/controls",
          "model_name": "SliderStyleModel",
          "model_module_version": "1.5.0",
          "state": {
            "_model_module": "@jupyter-widgets/controls",
            "_model_module_version": "1.5.0",
            "_model_name": "SliderStyleModel",
            "_view_count": null,
            "_view_module": "@jupyter-widgets/base",
            "_view_module_version": "1.2.0",
            "_view_name": "StyleView",
            "description_width": "",
            "handle_color": null
          }
        },
        "058849635e2840fbabe3157982dfba79": {
          "model_module": "@jupyter-widgets/base",
          "model_name": "LayoutModel",
          "model_module_version": "1.2.0",
          "state": {
            "_model_module": "@jupyter-widgets/base",
            "_model_module_version": "1.2.0",
            "_model_name": "LayoutModel",
            "_view_count": null,
            "_view_module": "@jupyter-widgets/base",
            "_view_module_version": "1.2.0",
            "_view_name": "LayoutView",
            "align_content": null,
            "align_items": null,
            "align_self": null,
            "border": null,
            "bottom": null,
            "display": null,
            "flex": null,
            "flex_flow": null,
            "grid_area": null,
            "grid_auto_columns": null,
            "grid_auto_flow": null,
            "grid_auto_rows": null,
            "grid_column": null,
            "grid_gap": null,
            "grid_row": null,
            "grid_template_areas": null,
            "grid_template_columns": null,
            "grid_template_rows": null,
            "height": null,
            "justify_content": null,
            "justify_items": null,
            "left": null,
            "margin": null,
            "max_height": null,
            "max_width": null,
            "min_height": null,
            "min_width": null,
            "object_fit": null,
            "object_position": null,
            "order": null,
            "overflow": null,
            "overflow_x": null,
            "overflow_y": null,
            "padding": null,
            "right": null,
            "top": null,
            "visibility": null,
            "width": null
          }
        },
        "c94129692dc84f3c979dfc14bcebe08c": {
          "model_module": "@jupyter-widgets/controls",
          "model_name": "SliderStyleModel",
          "model_module_version": "1.5.0",
          "state": {
            "_model_module": "@jupyter-widgets/controls",
            "_model_module_version": "1.5.0",
            "_model_name": "SliderStyleModel",
            "_view_count": null,
            "_view_module": "@jupyter-widgets/base",
            "_view_module_version": "1.2.0",
            "_view_name": "StyleView",
            "description_width": "",
            "handle_color": null
          }
        },
        "7f4a280bea414942b028e4c8f102c1db": {
          "model_module": "@jupyter-widgets/base",
          "model_name": "LayoutModel",
          "model_module_version": "1.2.0",
          "state": {
            "_model_module": "@jupyter-widgets/base",
            "_model_module_version": "1.2.0",
            "_model_name": "LayoutModel",
            "_view_count": null,
            "_view_module": "@jupyter-widgets/base",
            "_view_module_version": "1.2.0",
            "_view_name": "LayoutView",
            "align_content": null,
            "align_items": null,
            "align_self": null,
            "border": null,
            "bottom": null,
            "display": null,
            "flex": null,
            "flex_flow": null,
            "grid_area": null,
            "grid_auto_columns": null,
            "grid_auto_flow": null,
            "grid_auto_rows": null,
            "grid_column": null,
            "grid_gap": null,
            "grid_row": null,
            "grid_template_areas": null,
            "grid_template_columns": null,
            "grid_template_rows": null,
            "height": null,
            "justify_content": null,
            "justify_items": null,
            "left": null,
            "margin": null,
            "max_height": null,
            "max_width": null,
            "min_height": null,
            "min_width": null,
            "object_fit": null,
            "object_position": null,
            "order": null,
            "overflow": null,
            "overflow_x": null,
            "overflow_y": null,
            "padding": null,
            "right": null,
            "top": null,
            "visibility": null,
            "width": null
          }
        },
        "4b63ae30eff647689213b1e71038ba02": {
          "model_module": "@jupyter-widgets/controls",
          "model_name": "SliderStyleModel",
          "model_module_version": "1.5.0",
          "state": {
            "_model_module": "@jupyter-widgets/controls",
            "_model_module_version": "1.5.0",
            "_model_name": "SliderStyleModel",
            "_view_count": null,
            "_view_module": "@jupyter-widgets/base",
            "_view_module_version": "1.2.0",
            "_view_name": "StyleView",
            "description_width": "",
            "handle_color": null
          }
        },
        "b57beafc53ee439c821fea6a6a3f6f1c": {
          "model_module": "@jupyter-widgets/base",
          "model_name": "LayoutModel",
          "model_module_version": "1.2.0",
          "state": {
            "_model_module": "@jupyter-widgets/base",
            "_model_module_version": "1.2.0",
            "_model_name": "LayoutModel",
            "_view_count": null,
            "_view_module": "@jupyter-widgets/base",
            "_view_module_version": "1.2.0",
            "_view_name": "LayoutView",
            "align_content": null,
            "align_items": null,
            "align_self": null,
            "border": null,
            "bottom": null,
            "display": null,
            "flex": null,
            "flex_flow": null,
            "grid_area": null,
            "grid_auto_columns": null,
            "grid_auto_flow": null,
            "grid_auto_rows": null,
            "grid_column": null,
            "grid_gap": null,
            "grid_row": null,
            "grid_template_areas": null,
            "grid_template_columns": null,
            "grid_template_rows": null,
            "height": null,
            "justify_content": null,
            "justify_items": null,
            "left": null,
            "margin": null,
            "max_height": null,
            "max_width": null,
            "min_height": null,
            "min_width": null,
            "object_fit": null,
            "object_position": null,
            "order": null,
            "overflow": null,
            "overflow_x": null,
            "overflow_y": null,
            "padding": null,
            "right": null,
            "top": null,
            "visibility": null,
            "width": null
          }
        },
        "0e1465c455df4b229a0ed8a041305551": {
          "model_module": "@jupyter-widgets/controls",
          "model_name": "SliderStyleModel",
          "model_module_version": "1.5.0",
          "state": {
            "_model_module": "@jupyter-widgets/controls",
            "_model_module_version": "1.5.0",
            "_model_name": "SliderStyleModel",
            "_view_count": null,
            "_view_module": "@jupyter-widgets/base",
            "_view_module_version": "1.2.0",
            "_view_name": "StyleView",
            "description_width": "",
            "handle_color": null
          }
        },
        "b8481e896d2d458eb0a36cc484441644": {
          "model_module": "@jupyter-widgets/base",
          "model_name": "LayoutModel",
          "model_module_version": "1.2.0",
          "state": {
            "_model_module": "@jupyter-widgets/base",
            "_model_module_version": "1.2.0",
            "_model_name": "LayoutModel",
            "_view_count": null,
            "_view_module": "@jupyter-widgets/base",
            "_view_module_version": "1.2.0",
            "_view_name": "LayoutView",
            "align_content": null,
            "align_items": null,
            "align_self": null,
            "border": null,
            "bottom": null,
            "display": null,
            "flex": null,
            "flex_flow": null,
            "grid_area": null,
            "grid_auto_columns": null,
            "grid_auto_flow": null,
            "grid_auto_rows": null,
            "grid_column": null,
            "grid_gap": null,
            "grid_row": null,
            "grid_template_areas": null,
            "grid_template_columns": null,
            "grid_template_rows": null,
            "height": null,
            "justify_content": null,
            "justify_items": null,
            "left": null,
            "margin": null,
            "max_height": null,
            "max_width": null,
            "min_height": null,
            "min_width": null,
            "object_fit": null,
            "object_position": null,
            "order": null,
            "overflow": null,
            "overflow_x": null,
            "overflow_y": null,
            "padding": null,
            "right": null,
            "top": null,
            "visibility": null,
            "width": null
          }
        }
      }
    }
  },
  "nbformat_minor": 0,
  "nbformat": 4,
  "cells": [
    {
      "cell_type": "markdown",
      "source": [
        "## Fitting a function with *gradient descent*"
      ],
      "metadata": {
        "id": "enKpP6Ccp_3V"
      }
    },
    {
      "cell_type": "markdown",
      "source": [
        "A neural network is just a mathematical function. In the most standard kind of neural network, the function:\n",
        "\n",
        "1. Multiplies each input by a number of values. These values are known as *parameters*\n",
        "1. Adds them up for each group of values\n",
        "1. Replaces the negative numbers with zeros\n",
        "\n",
        "This represents one \"layer\". Then these three steps are repeated, using the outputs of the previous layer as the inputs to the next layer. Initially, the parameters in this function are selected randomly. Therefore a newly created neural network doesn't do anything useful at all -- it's just random!\n",
        "\n",
        "To get the function to \"learn\" to do something useful, we have to change the parameters to make them \"better\" in some way. We do this using *gradient descent*. Let's see how this works..."
      ],
      "metadata": {
        "id": "9WOn5MjUp_3V"
      }
    },
    {
      "cell_type": "code",
      "source": [
        "from ipywidgets import interact\n",
        "from fastai.basics import *\n",
        "\n",
        "plt.rc('figure', dpi=90)\n",
        "\n",
        "def plot_function(f, title=None, min=-2.1, max=2.1, color='r', ylim=None):\n",
        "    x = torch.linspace(min,max, 100)[:,None]\n",
        "    if ylim: plt.ylim(ylim)\n",
        "    plt.plot(x, f(x), color)\n",
        "    if title is not None: plt.title(title)"
      ],
      "metadata": {
        "_kg_hide-input": true,
        "execution": {
          "iopub.status.busy": "2022-04-23T08:54:34.585263Z",
          "iopub.execute_input": "2022-04-23T08:54:34.587766Z",
          "iopub.status.idle": "2022-04-23T08:54:36.961606Z",
          "shell.execute_reply.started": "2022-04-23T08:54:34.587646Z",
          "shell.execute_reply": "2022-04-23T08:54:36.960846Z"
        },
        "trusted": true,
        "id": "aeBKX12Xp_3W"
      },
      "execution_count": 1,
      "outputs": []
    },
    {
      "cell_type": "markdown",
      "source": [
        "To learn how gradient descent works, we're going to start by fitting a quadratic, since that's a function most of us are probably more familiar with than a neural network. Here's the quadratic we're going to try to fit:"
      ],
      "metadata": {
        "id": "4sPDGjpHp_3X"
      }
    },
    {
      "cell_type": "code",
      "source": [
        "def f(x): return 3*x**2 + 2*x + 1\n",
        "\n",
        "plot_function(f, \"$3x^2 + 2x + 1$\")"
      ],
      "metadata": {
        "execution": {
          "iopub.status.busy": "2022-04-23T08:54:36.963135Z",
          "iopub.execute_input": "2022-04-23T08:54:36.96361Z",
          "iopub.status.idle": "2022-04-23T08:54:37.603953Z",
          "shell.execute_reply.started": "2022-04-23T08:54:36.963574Z",
          "shell.execute_reply": "2022-04-23T08:54:37.60309Z"
        },
        "trusted": true,
        "colab": {
          "base_uri": "https://localhost:8080/",
          "height": 412
        },
        "id": "7IUMqRjcp_3Y",
        "outputId": "963363fe-f646-4a28-e075-e1a2aef5c4ea"
      },
      "execution_count": 2,
      "outputs": [
        {
          "output_type": "display_data",
          "data": {
            "text/plain": [
              "<Figure size 576x432 with 1 Axes>"
            ],
            "image/png": "[encoded data removed]"
          },
          "metadata": {}
        }
      ]
    },
    {
      "cell_type": "markdown",
      "source": [
        "This quadratic is of the form $ax^2+bx+c$, with parameters $a=3$, $b=2$, $c=1$. To make it easier to try out different quadratics for fitting a model to the data we'll create, let's create a function that calculates the value of a point on any quadratic:"
      ],
      "metadata": {
        "id": "9yM4Cs8np_3Y"
      }
    },
    {
      "cell_type": "code",
      "source": [
        "def quad(a, b, c, x): return a*x**2 + b*x + c"
      ],
      "metadata": {
        "execution": {
          "iopub.status.busy": "2022-04-23T08:54:37.605073Z",
          "iopub.execute_input": "2022-04-23T08:54:37.605295Z",
          "iopub.status.idle": "2022-04-23T08:54:37.610024Z",
          "shell.execute_reply.started": "2022-04-23T08:54:37.605268Z",
          "shell.execute_reply": "2022-04-23T08:54:37.609103Z"
        },
        "trusted": true,
        "id": "WrS7M55Xp_3Z"
      },
      "execution_count": 3,
      "outputs": []
    },
    {
      "cell_type": "markdown",
      "source": [
        "If we fix some particular values of a, b, and c, then we'll have made a quadratic. To fix values passed to a function in python, we use the `partial` function, like so:"
      ],
      "metadata": {
        "id": "fxmokAYBp_3Z"
      }
    },
    {
      "cell_type": "code",
      "source": [
        "def mk_quad(a,b,c): return partial(quad, a,b,c)"
      ],
      "metadata": {
        "execution": {
          "iopub.status.busy": "2022-04-23T08:54:37.611932Z",
          "iopub.execute_input": "2022-04-23T08:54:37.612415Z",
          "iopub.status.idle": "2022-04-23T08:54:37.622926Z",
          "shell.execute_reply.started": "2022-04-23T08:54:37.612377Z",
          "shell.execute_reply": "2022-04-23T08:54:37.622077Z"
        },
        "trusted": true,
        "id": "tUah-MIop_3Z"
      },
      "execution_count": 4,
      "outputs": []
    },
    {
      "cell_type": "markdown",
      "source": [
        "So for instance, we can recreate our previous quadratic:"
      ],
      "metadata": {
        "id": "qT2iIywop_3a"
      }
    },
    {
      "cell_type": "code",
      "source": [
        "f2 = mk_quad(3,2,1)\n",
        "plot_function(f2)"
      ],
      "metadata": {
        "execution": {
          "iopub.status.busy": "2022-04-23T08:54:37.624649Z",
          "iopub.execute_input": "2022-04-23T08:54:37.625357Z",
          "iopub.status.idle": "2022-04-23T08:54:37.829696Z",
          "shell.execute_reply.started": "2022-04-23T08:54:37.62531Z",
          "shell.execute_reply": "2022-04-23T08:54:37.828997Z"
        },
        "trusted": true,
        "colab": {
          "base_uri": "https://localhost:8080/",
          "height": 389
        },
        "id": "gWVV7J7Pp_3a",
        "outputId": "8461d7d2-dd95-4c33-cb77-6607bbfaae0c"
      },
      "execution_count": 5,
      "outputs": [
        {
          "output_type": "display_data",
          "data": {
            "text/plain": [
              "<Figure size 576x432 with 1 Axes>"
            ],
            "image/png": "[encoded data removed]"
          },
          "metadata": {}
        }
      ]
    },
    {
      "cell_type": "markdown",
      "source": [
        "Now let's simulate making some noisy measurements of our quadratic `f`. We'll then use gradient descent to see if we can recreate the original function from the data.\n",
        "\n",
        "Here's a couple of functions to add some random noise to data:"
      ],
      "metadata": {
        "id": "L3kcEfrgp_3a"
      }
    },
    {
      "cell_type": "code",
      "source": [
        "def noise(x, scale):\n",
        "    return torch.tensor(np.random.normal(scale=scale, size=x.shape), dtype=x.dtype)\n",
        "def add_noise(x, mult, add): return x * (1+noise(x,mult)) + noise(x,add)"
      ],
      "metadata": {
        "execution": {
          "iopub.status.busy": "2022-04-23T08:54:37.831069Z",
          "iopub.execute_input": "2022-04-23T08:54:37.831627Z",
          "iopub.status.idle": "2022-04-23T08:54:37.838391Z",
          "shell.execute_reply.started": "2022-04-23T08:54:37.831581Z",
          "shell.execute_reply": "2022-04-23T08:54:37.837454Z"
        },
        "trusted": true,
        "id": "QDqdOamAp_3a"
      },
      "execution_count": 8,
      "outputs": []
    },
    {
      "cell_type": "markdown",
      "source": [
        "Let's use the now to create our noisy measurements based on the quadratic above:"
      ],
      "metadata": {
        "id": "zLQ4bvEOp_3a"
      }
    },
    {
      "cell_type": "code",
      "source": [
        "np.random.seed(42)\n",
        "\n",
        "x = torch.linspace(-2, 2, steps=20)[:,None]\n",
        "y = add_noise(f(x), 0.15, 1.5)"
      ],
      "metadata": {
        "execution": {
          "iopub.status.busy": "2022-04-23T08:54:37.839727Z",
          "iopub.execute_input": "2022-04-23T08:54:37.83997Z",
          "iopub.status.idle": "2022-04-23T08:54:37.86166Z",
          "shell.execute_reply.started": "2022-04-23T08:54:37.839939Z",
          "shell.execute_reply": "2022-04-23T08:54:37.861067Z"
        },
        "trusted": true,
        "id": "Z3zs4lKJp_3b"
      },
      "execution_count": 9,
      "outputs": []
    },
    {
      "cell_type": "markdown",
      "source": [
        "Here's the first few values of each of `x` and `y`:"
      ],
      "metadata": {
        "id": "CWojs9FLp_3b"
      }
    },
    {
      "cell_type": "code",
      "source": [
        "x[:5],y[:5]"
      ],
      "metadata": {
        "execution": {
          "iopub.status.busy": "2022-04-23T08:54:37.862576Z",
          "iopub.execute_input": "2022-04-23T08:54:37.863311Z",
          "iopub.status.idle": "2022-04-23T08:54:37.901746Z",
          "shell.execute_reply.started": "2022-04-23T08:54:37.863275Z",
          "shell.execute_reply": "2022-04-23T08:54:37.9009Z"
        },
        "trusted": true,
        "colab": {
          "base_uri": "https://localhost:8080/",
          "height": 0
        },
        "id": "HcUEz24ip_3b",
        "outputId": "1a9567ed-59e4-4b43-cb57-11755cde5274"
      },
      "execution_count": 10,
      "outputs": [
        {
          "output_type": "execute_result",
          "data": {
            "text/plain": [
              "(tensor([[-2.0000],\n",
              "         [-1.7895],\n",
              "         [-1.5789],\n",
              "         [-1.3684],\n",
              "         [-1.1579]]),\n",
              " tensor([[11.8690],\n",
              "         [ 6.5433],\n",
              "         [ 5.9396],\n",
              "         [ 2.6304],\n",
              "         [ 1.7947]]))"
            ]
          },
          "metadata": {},
          "execution_count": 10
        }
      ]
    },
    {
      "cell_type": "markdown",
      "source": [
        "As you can see, they're *tensors*. A tensor is just like an `array` in numpy (if you're not familiar with numpy, I strongly recommend reading [this great book](https://wesmckinney.com/book/), because it's a critical foundation for nearly all numeric programming in Python. Furthermore, PyTorch, which most researchers use for deep learning, is modeled closely on numpy.) A tensor can be a single number (a *scalar* or *rank-0 tensor*), a list of numbers (a *vector* or *rank-1 tensor*), a table of numbers (a *matrix* or *rank-2 tensor*), a table of tables of numbers (a *rank-3 tensor*), and so forth.\n",
        "\n",
        "We're not going to learn much about our data by just looking at the raw numbers, so let's draw a picture:"
      ],
      "metadata": {
        "id": "rv_-zc1hp_3b"
      }
    },
    {
      "cell_type": "code",
      "source": [
        "plt.scatter(x,y);"
      ],
      "metadata": {
        "execution": {
          "iopub.status.busy": "2022-04-23T08:54:37.903248Z",
          "iopub.execute_input": "2022-04-23T08:54:37.903736Z",
          "iopub.status.idle": "2022-04-23T08:54:38.141765Z",
          "shell.execute_reply.started": "2022-04-23T08:54:37.903689Z",
          "shell.execute_reply": "2022-04-23T08:54:38.140818Z"
        },
        "trusted": true,
        "colab": {
          "base_uri": "https://localhost:8080/",
          "height": 389
        },
        "id": "LtTMhzgCp_3b",
        "outputId": "7450f4fd-51cb-46d6-fafb-88f8f36669c3"
      },
      "execution_count": 11,
      "outputs": [
        {
          "output_type": "display_data",
          "data": {
            "text/plain": [
              "<Figure size 576x432 with 1 Axes>"
            ],
            "image/png": "[encoded data removed]"
          },
          "metadata": {}
        }
      ]
    },
    {
      "cell_type": "markdown",
      "source": [
        "How do we find values of a, b, and c which fit this data? One approach is to try a few values and see what fits. Here's a function which overlays a quadratic on top of our data, along with some sliders to change a, b, and c, and see how it looks:"
      ],
      "metadata": {
        "id": "9a7WEHNRp_3b"
      }
    },
    {
      "cell_type": "code",
      "source": [
        "@interact(a=1.1, b=1.1, c=1.1)\n",
        "def plot_quad(a, b, c):\n",
        "    plt.scatter(x,y)\n",
        "    plot_function(mk_quad(a,b,c), ylim=(-3,13))"
      ],
      "metadata": {
        "execution": {
          "iopub.status.busy": "2022-04-23T08:54:38.143544Z",
          "iopub.execute_input": "2022-04-23T08:54:38.143753Z",
          "iopub.status.idle": "2022-04-23T08:54:38.372553Z",
          "shell.execute_reply.started": "2022-04-23T08:54:38.143725Z",
          "shell.execute_reply": "2022-04-23T08:54:38.37172Z"
        },
        "trusted": true,
        "colab": {
          "base_uri": "https://localhost:8080/",
          "height": 485,
          "referenced_widgets": [
            "e6fa7b4ad3a94c0fa577bf17df8af043",
            "fe46d8472d244fe99a1e25a81eccaa13",
            "f9712fe0e2b343afa8e42b5342c4fbbc",
            "0603cc1b0fed4c65aa7cb32aaca27cdb",
            "20bd59377e274abd827183053f9be831",
            "8bcc2bfcbbeb47ce904136c31adfc36c",
            "5aa0fc9f51e348db944c1faad3d27342",
            "d0ee963a6fc84cf2b74a1cc8cc7a05e2",
            "b4915fc992334d9fbbb7f5b90c0ea1c9",
            "b80c474effd6430c94bee2efde6bc0dc",
            "75d72e9f99ef481fb6f03a97ae14f97c",
            "7c6b5cd6a4884a5182df36417af425d9",
            "14674847ea7e4705aa2ee6aa48157f94"
          ]
        },
        "id": "_VXMOmwjp_3b",
        "outputId": "256d993a-727d-471f-d253-e08886093250"
      },
      "execution_count": 12,
      "outputs": [
        {
          "output_type": "display_data",
          "data": {
            "text/plain": [
              "interactive(children=(FloatSlider(value=1.1, description='a', max=3.3000000000000003, min=-1.1), FloatSlider(v…"
            ],
            "application/vnd.jupyter.widget-view+json": {
              "version_major": 2,
              "version_minor": 0,
              "model_id": "e6fa7b4ad3a94c0fa577bf17df8af043"
            }
          },
          "metadata": {}
        }
      ]
    },
    {
      "cell_type": "markdown",
      "source": [
        "Try moving slider `a` a bit to the left. Does that look better or worse? How about if you move it a bit to the right? Find out which direction seems to improve the fit of the quadratic to the data, and move the slider a bit in that direction. Next, do the same for slider `b`: first figure out which direction improves the fit, then move it a bit in that direction. Then do the same for `c`.\n",
        "\n",
        "OK, now go back to slider `a` and repeat the process. Do it again for `b` and `c` as well.\n",
        "\n",
        "Did you notice that by going back and doing the sliders a second time that you were able to improve things a bit further? That's an important insight -- it's only after changing `b` and `c`, for instance, that you realise that `a` actually needs some adjustment based on those new values.\n",
        "\n",
        "One thing that's making this tricky is that we don't really have a great sense of whether our fit is really better or worse. It would be easier if we had a numeric measure of that. One easy metric we could use is *mean absolute error* -- which is the distance from each data point to the curve:"
      ],
      "metadata": {
        "id": "rFCKiVDWp_3c"
      }
    },
    {
      "cell_type": "code",
      "source": [
        "def mae(preds, acts): return (torch.abs(preds-acts)).mean()"
      ],
      "metadata": {
        "execution": {
          "iopub.status.busy": "2022-04-23T08:55:06.428918Z",
          "iopub.execute_input": "2022-04-23T08:55:06.429237Z",
          "iopub.status.idle": "2022-04-23T08:55:06.433738Z",
          "shell.execute_reply.started": "2022-04-23T08:55:06.429205Z",
          "shell.execute_reply": "2022-04-23T08:55:06.432713Z"
        },
        "trusted": true,
        "id": "JVAA4lu5p_3c"
      },
      "execution_count": 13,
      "outputs": []
    },
    {
      "cell_type": "markdown",
      "source": [
        "We'll update our interactive function to print this at the top for us.\n",
        "\n",
        "Use this to repeat the approach we took before to try to find the best fit, but this time just use the value of the metric to decide which direction to move each slider, and how far to move it.\n",
        "\n",
        "This time around, try doing it in the opposite order: `c`, then `b`, then `a`.\n",
        "\n",
        "You'll probably find that you have to go through the set of sliders a couple of times to get the best fit."
      ],
      "metadata": {
        "id": "SkHIpnGYp_3c"
      }
    },
    {
      "cell_type": "code",
      "source": [
        "@interact(a=1.1, b=1.1, c=1.1)\n",
        "def plot_quad(a, b, c):\n",
        "    f = mk_quad(a,b,c)\n",
        "    plt.scatter(x,y)\n",
        "    loss = mae(f(x), y)\n",
        "    plot_function(f, ylim=(-3,12), title=f\"MAE: {loss:.2f}\")"
      ],
      "metadata": {
        "execution": {
          "iopub.status.busy": "2022-04-23T08:55:07.451295Z",
          "iopub.execute_input": "2022-04-23T08:55:07.452152Z",
          "iopub.status.idle": "2022-04-23T08:55:07.701428Z",
          "shell.execute_reply.started": "2022-04-23T08:55:07.452102Z",
          "shell.execute_reply": "2022-04-23T08:55:07.700643Z"
        },
        "trusted": true,
        "colab": {
          "base_uri": "https://localhost:8080/",
          "height": 504,
          "referenced_widgets": [
            "a44a75d86bf046b8b83b98a013aff47e",
            "9a085a9821e44803ab386bcbf7737305",
            "596cb65c0d7a476b8238912068854197",
            "d394f6efea1e4ed9be9e52f9f37022d4",
            "d4222151df424cc5869547d517caa366",
            "66d66218e04e4d18b11c32a3aedd33df",
            "f269ad6fa27e42f384ebebb4cd55c75f",
            "c6a9c5ad4487489489a77a84d633dbb5",
            "3c559da128884734b1a452c4f2c55936",
            "0f1a533e7c5241b5814e0701accae2d4",
            "44fc48b78b0d4290864e19b96d64ba41",
            "9f58656c222e47b6b83597cb1d298a15",
            "e2881c4fa6cf46a5a305bfa9e87e75ba"
          ]
        },
        "id": "EvO0q6IUp_3c",
        "outputId": "c106ce45-3ea7-47c3-caeb-67ec9d70ef23"
      },
      "execution_count": 17,
      "outputs": [
        {
          "output_type": "display_data",
          "data": {
            "text/plain": [
              "interactive(children=(FloatSlider(value=1.1, description='a', max=3.3000000000000003, min=-1.1), FloatSlider(v…"
            ],
            "application/vnd.jupyter.widget-view+json": {
              "version_major": 2,
              "version_minor": 0,
              "model_id": "a44a75d86bf046b8b83b98a013aff47e"
            }
          },
          "metadata": {}
        }
      ]
    },
    {
      "cell_type": "markdown",
      "source": [
        "In a modern neural network we'll often have tens of millions of parameters to fit, or more, and thousands or millions of data points to fit them to. We're not going to be able to do that by moving sliders around! We'll need to automate this process.\n",
        "\n",
        "Thankfully, that turns out to be pretty straightforward. We can use calculus to figure out, for each parameter, whether we should increase or decrease it.\n",
        "\n",
        "Uh oh, calculus! If you haven't touched calculus since school, you might be getting ready to run away at this point. But don't worry, we don't actually need much calculus at all. Just derivatives, which measure the rate of change of a function. We don't even need to calculate them ourselves, because the computer will do it for us! If you've forgotten what a derivitive is, then watch the first three of these fantastic [videos by Professor Dave](https://www.youtube.com/playlist?list=PLybg94GvOJ9ELZEe9s2NXTKr41Yedbw7M). It's only 15 minutes in total, so give it a go! Then come back here and we'll continue on our journey..."
      ],
      "metadata": {
        "id": "AmqTg9xQp_3c"
      }
    },
    {
      "cell_type": "markdown",
      "source": [
        "## Automating gradient descent"
      ],
      "metadata": {
        "id": "3-YxpjAwp_3c"
      }
    },
    {
      "cell_type": "markdown",
      "source": [
        "The basic idea is this: if we know the *gradient* of our `mae()` function *with respect to* our parameters, `a`, `b`, and `c`, then that means we know how adjusting (for instance) `a` will change the value of `mae()`. If, say, `a` has a *negative* gradient, then we know that increasing `a` will decrease `mae()`. Then we know that's what we need to do, since we trying to make `mae()` as low as possible.\n",
        "\n",
        "So, we find the gradient of `mae()` for each of our parameters, and then adjust our parameters a bit in the *opposite* direction to the sign of the gradient.\n",
        "\n",
        "To do this, first we need a function that takes all the parameters `a`, `b`, and `c` as a single vector input, and returns the value `mae()` based on those parameters:"
      ],
      "metadata": {
        "id": "4QMLWSemp_3d"
      }
    },
    {
      "cell_type": "code",
      "source": [
        "def quad_mae(params):\n",
        "    f = mk_quad(*params)\n",
        "    return mae(f(x), y)"
      ],
      "metadata": {
        "execution": {
          "iopub.status.busy": "2022-04-22T22:28:41.831976Z",
          "iopub.execute_input": "2022-04-22T22:28:41.832211Z",
          "iopub.status.idle": "2022-04-22T22:28:41.837761Z",
          "shell.execute_reply.started": "2022-04-22T22:28:41.832181Z",
          "shell.execute_reply": "2022-04-22T22:28:41.836892Z"
        },
        "trusted": true,
        "id": "oCsjqiF6p_3d"
      },
      "execution_count": 15,
      "outputs": []
    },
    {
      "cell_type": "markdown",
      "source": [
        "Let's try it:"
      ],
      "metadata": {
        "id": "4eRscwztp_3d"
      }
    },
    {
      "cell_type": "code",
      "source": [
        "quad_mae([1.1, 1.1, 1.1])"
      ],
      "metadata": {
        "execution": {
          "iopub.status.busy": "2022-04-22T22:28:41.839427Z",
          "iopub.execute_input": "2022-04-22T22:28:41.839663Z",
          "iopub.status.idle": "2022-04-22T22:28:41.853343Z",
          "shell.execute_reply.started": "2022-04-22T22:28:41.839635Z",
          "shell.execute_reply": "2022-04-22T22:28:41.852644Z"
        },
        "trusted": true,
        "colab": {
          "base_uri": "https://localhost:8080/"
        },
        "id": "IjW6wXu0p_3d",
        "outputId": "d920994f-972b-4cd4-ff19-71736a1a97c4"
      },
      "execution_count": 16,
      "outputs": [
        {
          "output_type": "execute_result",
          "data": {
            "text/plain": [
              "tensor(2.4219)"
            ]
          },
          "metadata": {},
          "execution_count": 16
        }
      ]
    },
    {
      "cell_type": "markdown",
      "source": [
        "Yup, that's the same as the starting `mae()` we had in our plot before.\n",
        "\n",
        "We're first going to do exactly the same thing as we did manually -- pick some arbritrary starting point for our parameters. We'll put them all into a single tensor:"
      ],
      "metadata": {
        "id": "Dznv5P09p_3d"
      }
    },
    {
      "cell_type": "code",
      "source": [
        "abc = torch.tensor([1.1,1.1,1.1])"
      ],
      "metadata": {
        "execution": {
          "iopub.status.busy": "2022-04-22T22:28:41.854708Z",
          "iopub.execute_input": "2022-04-22T22:28:41.855001Z",
          "iopub.status.idle": "2022-04-22T22:28:41.863677Z",
          "shell.execute_reply.started": "2022-04-22T22:28:41.854965Z",
          "shell.execute_reply": "2022-04-22T22:28:41.862424Z"
        },
        "trusted": true,
        "id": "bXwamIUDp_3d"
      },
      "execution_count": 18,
      "outputs": []
    },
    {
      "cell_type": "markdown",
      "source": [
        "To tell PyTorch that we want it to calculate gradients for these parameters, we need to call `requires_grad_()`:"
      ],
      "metadata": {
        "id": "SlF-el3Cp_3d"
      }
    },
    {
      "cell_type": "code",
      "source": [
        "abc.requires_grad_()"
      ],
      "metadata": {
        "execution": {
          "iopub.status.busy": "2022-04-22T22:28:41.865105Z",
          "iopub.execute_input": "2022-04-22T22:28:41.86557Z",
          "iopub.status.idle": "2022-04-22T22:28:41.881016Z",
          "shell.execute_reply.started": "2022-04-22T22:28:41.865497Z",
          "shell.execute_reply": "2022-04-22T22:28:41.879681Z"
        },
        "trusted": true,
        "colab": {
          "base_uri": "https://localhost:8080/"
        },
        "id": "PTr2WG5Fp_3e",
        "outputId": "22f1374f-5b44-4f58-a527-17f32dfbc8e8"
      },
      "execution_count": 19,
      "outputs": [
        {
          "output_type": "execute_result",
          "data": {
            "text/plain": [
              "tensor([1.1000, 1.1000, 1.1000], requires_grad=True)"
            ]
          },
          "metadata": {},
          "execution_count": 19
        }
      ]
    },
    {
      "cell_type": "markdown",
      "source": [
        "We can now calculate `mae()`. Generally, when doing gradient descent, the thing we're trying to minimise is called the *loss*:"
      ],
      "metadata": {
        "id": "5VS62ZX1p_3e"
      }
    },
    {
      "cell_type": "code",
      "source": [
        "loss = quad_mae(abc)\n",
        "loss"
      ],
      "metadata": {
        "execution": {
          "iopub.status.busy": "2022-04-22T22:28:41.882498Z",
          "iopub.execute_input": "2022-04-22T22:28:41.882908Z",
          "iopub.status.idle": "2022-04-22T22:28:41.894811Z",
          "shell.execute_reply.started": "2022-04-22T22:28:41.882865Z",
          "shell.execute_reply": "2022-04-22T22:28:41.893828Z"
        },
        "trusted": true,
        "colab": {
          "base_uri": "https://localhost:8080/"
        },
        "id": "oTEqvEm7p_3e",
        "outputId": "8524850f-c4e4-44b3-fafe-f1dc2472e469"
      },
      "execution_count": 20,
      "outputs": [
        {
          "output_type": "execute_result",
          "data": {
            "text/plain": [
              "tensor(2.4219, grad_fn=<MeanBackward0>)"
            ]
          },
          "metadata": {},
          "execution_count": 20
        }
      ]
    },
    {
      "cell_type": "markdown",
      "source": [
        "To get PyTorch to now calculate the gradients, we need to call `backward()`"
      ],
      "metadata": {
        "id": "MogOQfS-p_3j"
      }
    },
    {
      "cell_type": "code",
      "source": [
        "loss.backward()"
      ],
      "metadata": {
        "execution": {
          "iopub.status.busy": "2022-04-22T22:28:41.896144Z",
          "iopub.execute_input": "2022-04-22T22:28:41.896493Z",
          "iopub.status.idle": "2022-04-22T22:28:41.914719Z",
          "shell.execute_reply.started": "2022-04-22T22:28:41.896462Z",
          "shell.execute_reply": "2022-04-22T22:28:41.913717Z"
        },
        "trusted": true,
        "id": "EZJCvA4ap_3j"
      },
      "execution_count": 21,
      "outputs": []
    },
    {
      "cell_type": "markdown",
      "source": [
        "The gradients will be stored for us in an attribute called `grad`:"
      ],
      "metadata": {
        "id": "V2FbGSJ4p_3j"
      }
    },
    {
      "cell_type": "code",
      "source": [
        "abc.grad"
      ],
      "metadata": {
        "execution": {
          "iopub.status.busy": "2022-04-22T22:28:41.916372Z",
          "iopub.execute_input": "2022-04-22T22:28:41.91704Z",
          "iopub.status.idle": "2022-04-22T22:28:41.925299Z",
          "shell.execute_reply.started": "2022-04-22T22:28:41.916988Z",
          "shell.execute_reply": "2022-04-22T22:28:41.924407Z"
        },
        "trusted": true,
        "colab": {
          "base_uri": "https://localhost:8080/"
        },
        "id": "WZWkc1lip_3j",
        "outputId": "277847c3-21e6-47c9-9ffe-f6ada5605f79"
      },
      "execution_count": 22,
      "outputs": [
        {
          "output_type": "execute_result",
          "data": {
            "text/plain": [
              "tensor([-1.3529, -0.0316, -0.5000])"
            ]
          },
          "metadata": {},
          "execution_count": 22
        }
      ]
    },
    {
      "cell_type": "markdown",
      "source": [
        "According to these gradients, all our parameters are a little low. So let's increase them a bit. If we subtract the gradient, multiplied by a small number, that should improve them a bit:"
      ],
      "metadata": {
        "id": "DCVcJxQzp_3j"
      }
    },
    {
      "cell_type": "code",
      "source": [
        "with torch.no_grad():\n",
        "    abc -= abc.grad*0.01\n",
        "    loss = quad_mae(abc)\n",
        "\n",
        "print(f'loss={loss:.2f}')"
      ],
      "metadata": {
        "execution": {
          "iopub.status.busy": "2022-04-22T22:28:41.927221Z",
          "iopub.execute_input": "2022-04-22T22:28:41.927714Z",
          "iopub.status.idle": "2022-04-22T22:28:41.941471Z",
          "shell.execute_reply.started": "2022-04-22T22:28:41.927665Z",
          "shell.execute_reply": "2022-04-22T22:28:41.940784Z"
        },
        "trusted": true,
        "colab": {
          "base_uri": "https://localhost:8080/"
        },
        "id": "sMkdAfgxp_3j",
        "outputId": "e2aa41c5-dc45-4da8-fe41-bc6ea9f6fe98"
      },
      "execution_count": 23,
      "outputs": [
        {
          "output_type": "stream",
          "name": "stdout",
          "text": [
            "loss=2.40\n"
          ]
        }
      ]
    },
    {
      "cell_type": "markdown",
      "source": [
        "Yes, our loss has gone down!\n",
        "\n",
        "The \"small number\" we multiply is called the *learning rate*, and is the most important *hyper-parameter* to set when training a neural network.\n",
        "\n",
        "BTW, you'll see we had to wrap our calculation of the new parameters in `with torch.no_grad()`. That disables the calculation of gradients for any operations inside that context manager. We have to do that, because `abc -= abc.grad*0.01` isn't actually part of our quadratic model, so we don't want derivitives to include that calculation.\n",
        "\n",
        "We can use a loop to do a few more iterations of this:"
      ],
      "metadata": {
        "id": "SBM_3mzKp_3j"
      }
    },
    {
      "cell_type": "code",
      "source": [
        "for i in range(10):\n",
        "    loss = quad_mae(abc)\n",
        "    loss.backward()\n",
        "    with torch.no_grad(): abc -= abc.grad*0.01\n",
        "    print(f'step={i}; loss={loss:.2f}')"
      ],
      "metadata": {
        "execution": {
          "iopub.status.busy": "2022-04-22T22:28:41.942822Z",
          "iopub.execute_input": "2022-04-22T22:28:41.943242Z",
          "iopub.status.idle": "2022-04-22T22:28:41.968186Z",
          "shell.execute_reply.started": "2022-04-22T22:28:41.943202Z",
          "shell.execute_reply": "2022-04-22T22:28:41.967081Z"
        },
        "trusted": true,
        "colab": {
          "base_uri": "https://localhost:8080/"
        },
        "id": "Do9dT6jPp_3j",
        "outputId": "c8fc4d41-c972-434e-c7d2-7b88785f9c8b"
      },
      "execution_count": 24,
      "outputs": [
        {
          "output_type": "stream",
          "name": "stdout",
          "text": [
            "step=0; loss=2.40\n",
            "step=1; loss=2.36\n",
            "step=2; loss=2.30\n",
            "step=3; loss=2.21\n",
            "step=4; loss=2.11\n",
            "step=5; loss=1.98\n",
            "step=6; loss=1.85\n",
            "step=7; loss=1.72\n",
            "step=8; loss=1.58\n",
            "step=9; loss=1.46\n"
          ]
        }
      ]
    },
    {
      "cell_type": "markdown",
      "source": [
        "As you can see, our loss keeps going down!\n",
        "\n",
        "If you keep running this loop for long enough however, you'll see that the loss eventually starts increasing for a while. That's because once the parameters get close to the correct answer, our parameter updates will jump right over the correct answer! To avoid this, we need to decrease our learning rate as we train. This is done using a *learning rate schedule*, and can be automated in most deep learning frameworks, such as fastai and PyTorch."
      ],
      "metadata": {
        "id": "qWubyfWhp_3j"
      }
    },
    {
      "cell_type": "markdown",
      "source": [
        "## How a neural network approximates any given function"
      ],
      "metadata": {
        "id": "Z359J8MCp_3j"
      }
    },
    {
      "cell_type": "markdown",
      "source": [
        "But neural nets are much more convenient and powerful than this example showed, because we can learn much more than just a quadratic with them. How does *that* work?\n",
        "\n",
        "The trick is that a neural network is a very expressive function. In fact -- it's [infinitely expressive](https://en.wikipedia.org/wiki/Universal_approximation_theorem). A neural network can approximate any computable function, given enough parameters. A \"computable function\" can cover just about anything you can imagine: understand and translate human speech; paint a picture; diagnose a disease from medical imaging; write an essay; etc...\n",
        "\n",
        "The way a neural network approximates a function actually turns out to be very simple. The key trick is to combine two extremely basic steps:\n",
        "\n",
        "1. Matrix multiplication, which is just multiplying things together and then adding them up\n",
        "1. The function $max(x,0)$, which simply replaces all negative numbers with zero.\n",
        "\n",
        "In PyTorch, the function $max(x,0)$ is written as `np.clip(x,0)`. The combination of a linear function and this *max()* is called a *rectified linear function*, and it can be implemented like this:"
      ],
      "metadata": {
        "id": "-5SDlwPNp_3j"
      }
    },
    {
      "cell_type": "code",
      "source": [
        "def rectified_linear(m,b,x):\n",
        "    y = m*x+b\n",
        "    return torch.clip(y, 0.)"
      ],
      "metadata": {
        "execution": {
          "iopub.status.busy": "2022-04-22T22:28:41.970051Z",
          "iopub.execute_input": "2022-04-22T22:28:41.970814Z",
          "iopub.status.idle": "2022-04-22T22:28:41.976113Z",
          "shell.execute_reply.started": "2022-04-22T22:28:41.970763Z",
          "shell.execute_reply": "2022-04-22T22:28:41.975338Z"
        },
        "trusted": true,
        "id": "yRvtrDwwp_3j"
      },
      "execution_count": 25,
      "outputs": []
    },
    {
      "cell_type": "markdown",
      "source": [
        "Here's what it looks like:"
      ],
      "metadata": {
        "id": "1ZXtzlHJp_3j"
      }
    },
    {
      "cell_type": "code",
      "source": [
        "plot_function(partial(rectified_linear, 1,1))"
      ],
      "metadata": {
        "execution": {
          "iopub.status.busy": "2022-04-22T22:28:41.977336Z",
          "iopub.execute_input": "2022-04-22T22:28:41.978052Z",
          "iopub.status.idle": "2022-04-22T22:28:42.197682Z",
          "shell.execute_reply.started": "2022-04-22T22:28:41.978012Z",
          "shell.execute_reply": "2022-04-22T22:28:42.196709Z"
        },
        "trusted": true,
        "colab": {
          "base_uri": "https://localhost:8080/",
          "height": 389
        },
        "id": "77U04LcGp_3k",
        "outputId": "c0321bdf-2edd-4017-c444-2ce97dce5058"
      },
      "execution_count": 26,
      "outputs": [
        {
          "output_type": "display_data",
          "data": {
            "text/plain": [
              "<Figure size 576x432 with 1 Axes>"
            ],
            "image/png": "[encoded data removed]"
          },
          "metadata": {}
        }
      ]
    },
    {
      "cell_type": "markdown",
      "source": [
        "BTW, instead of `torch.clip(y, 0.)`, we can instead use `F.relu(x)`, which does exactly the same thing. In PyTorch, `F` refers to the `torch.nn.functional` module."
      ],
      "metadata": {
        "id": "_8AUbWSvp_3k"
      }
    },
    {
      "cell_type": "code",
      "source": [
        "import torch.nn.functional as F\n",
        "def rectified_linear2(m,b,x): return F.relu(m*x+b)\n",
        "plot_function(partial(rectified_linear2, 1,1))"
      ],
      "metadata": {
        "execution": {
          "iopub.status.busy": "2022-04-22T22:28:42.199561Z",
          "iopub.execute_input": "2022-04-22T22:28:42.200133Z",
          "iopub.status.idle": "2022-04-22T22:28:42.40433Z",
          "shell.execute_reply.started": "2022-04-22T22:28:42.200083Z",
          "shell.execute_reply": "2022-04-22T22:28:42.403323Z"
        },
        "trusted": true,
        "colab": {
          "base_uri": "https://localhost:8080/",
          "height": 389
        },
        "id": "-fkmhC7cp_3k",
        "outputId": "79bc03e9-6b44-45ba-ba94-343b55e3a976"
      },
      "execution_count": 27,
      "outputs": [
        {
          "output_type": "display_data",
          "data": {
            "text/plain": [
              "<Figure size 576x432 with 1 Axes>"
            ],
            "image/png": "[encoded data removed]"
          },
          "metadata": {}
        }
      ]
    },
    {
      "cell_type": "markdown",
      "source": [
        "To understand how this function works, try using this interactive version to play around with the parameters `m` and `b`:"
      ],
      "metadata": {
        "id": "SCZSECI-p_3k"
      }
    },
    {
      "cell_type": "code",
      "source": [
        "@interact(m=1.5, b=1.5)\n",
        "def plot_relu(m, b):\n",
        "    plot_function(partial(rectified_linear, m,b), ylim=(-1,4))"
      ],
      "metadata": {
        "execution": {
          "iopub.status.busy": "2022-04-22T22:28:42.405808Z",
          "iopub.execute_input": "2022-04-22T22:28:42.406108Z",
          "iopub.status.idle": "2022-04-22T22:28:42.61219Z",
          "shell.execute_reply.started": "2022-04-22T22:28:42.406071Z",
          "shell.execute_reply": "2022-04-22T22:28:42.61144Z"
        },
        "trusted": true,
        "colab": {
          "base_uri": "https://localhost:8080/",
          "height": 458,
          "referenced_widgets": [
            "80d1380d2a4b4b35bbd36b6dd58727f8",
            "52a8093614cf4a95b38e26a7059f47b4",
            "125c7b1660c04283807328ae873d8b70",
            "e0098a0f282444d085a62502cb113b27",
            "b24c9f63cadc4563b17b339822fa9853",
            "1215b3895e2342be8e5a5c8f815187a0",
            "35fd2c429ef04b4fa294c45f4a91834e",
            "17e3fddbedbe4c36a173300604528ae8",
            "32b5666d1c1e4afa9d50857528c06294",
            "412cacaa6b3c469f8334811984411048"
          ]
        },
        "id": "5R5bDypwp_3k",
        "outputId": "7df272cb-6d4a-4baf-f211-1854881bb3b3"
      },
      "execution_count": 28,
      "outputs": [
        {
          "output_type": "display_data",
          "data": {
            "text/plain": [
              "interactive(children=(FloatSlider(value=1.5, description='m', max=4.5, min=-1.5), FloatSlider(value=1.5, descr…"
            ],
            "application/vnd.jupyter.widget-view+json": {
              "version_major": 2,
              "version_minor": 0,
              "model_id": "80d1380d2a4b4b35bbd36b6dd58727f8"
            }
          },
          "metadata": {}
        }
      ]
    },
    {
      "cell_type": "markdown",
      "source": [
        "As you see, `m` changes the slope, and `b` changes where the \"hook\" appears. This function doesn't do much on its own, but look what happens when we add two of them together:"
      ],
      "metadata": {
        "id": "A5NDolS2p_3k"
      }
    },
    {
      "cell_type": "code",
      "source": [
        "def double_relu(m1,b1,m2,b2,x):\n",
        "    return rectified_linear(m1,b1,x) + rectified_linear(m2,b2,x)\n",
        "\n",
        "@interact(m1=-1.5, b1=-1.5, m2=1.5, b2=1.5)\n",
        "def plot_double_relu(m1, b1, m2, b2):\n",
        "    plot_function(partial(double_relu, m1,b1,m2,b2), ylim=(-1,6))"
      ],
      "metadata": {
        "execution": {
          "iopub.status.busy": "2022-04-22T22:28:42.613745Z",
          "iopub.execute_input": "2022-04-22T22:28:42.614042Z",
          "iopub.status.idle": "2022-04-22T22:28:42.851224Z",
          "shell.execute_reply.started": "2022-04-22T22:28:42.614007Z",
          "shell.execute_reply": "2022-04-22T22:28:42.85035Z"
        },
        "trusted": true,
        "colab": {
          "base_uri": "https://localhost:8080/",
          "height": 522,
          "referenced_widgets": [
            "966fb7fee472477489da0ae046bc39a9",
            "ec0cf7ad01e347d3a1e0b0f10005dd72",
            "d7509c84701e47a3b442f79c7ffbf0b2",
            "868d632b80d14e6091b19d82b3fbbbb3",
            "38433924a4a4416691900f4ba36da26f",
            "435e54a719c84172bf7cb8cf3e5da91f",
            "9b2b5767a1b6435a988e45450b388651",
            "b9d4c9dfbc584facaecff4eb0c05deb9",
            "b2af428eeca94861baeb9b3dbd2504bb",
            "058849635e2840fbabe3157982dfba79",
            "c94129692dc84f3c979dfc14bcebe08c",
            "7f4a280bea414942b028e4c8f102c1db",
            "4b63ae30eff647689213b1e71038ba02",
            "b57beafc53ee439c821fea6a6a3f6f1c",
            "0e1465c455df4b229a0ed8a041305551",
            "b8481e896d2d458eb0a36cc484441644"
          ]
        },
        "id": "TE0gfZ3hp_3k",
        "outputId": "0e6d9024-f58e-4288-8380-1f8120af84b4"
      },
      "execution_count": 29,
      "outputs": [
        {
          "output_type": "display_data",
          "data": {
            "text/plain": [
              "interactive(children=(FloatSlider(value=-1.5, description='m1', max=1.5, min=-4.5), FloatSlider(value=-1.5, de…"
            ],
            "application/vnd.jupyter.widget-view+json": {
              "version_major": 2,
              "version_minor": 0,
              "model_id": "966fb7fee472477489da0ae046bc39a9"
            }
          },
          "metadata": {}
        }
      ]
    },
    {
      "cell_type": "markdown",
      "source": [
        "If you play around with that for a while, you notice something quite profound: with enough of these rectified linear functions added together, you could approximate any function with a single input, to whatever accuracy you like! Any time the function doesn't quite match, you can just add a few more additions to the mix to make it a bit closer. As an experiment, perhaps you'd like to try creating your own `plot_triple_relu` interactive function, and maybe even include the scatter plot of our data from before, to see how close you can get?\n",
        "\n",
        "This exact same approach can be expanded to functions of 2, 3, or more parameters."
      ],
      "metadata": {
        "id": "QidjeFoyp_3k"
      }
    },
    {
      "cell_type": "markdown",
      "source": [
        "## How to recognise an owl"
      ],
      "metadata": {
        "id": "tHsxvDFfp_3k"
      }
    },
    {
      "cell_type": "markdown",
      "source": [
        "OK great, we've created a nifty little example showing that we can drawing squiggly lines that go through some points. So what?\n",
        "\n",
        "Well... the truth is that actually drawing squiggly lines (or planes, or high-dimensional hyperplanes...) through some points is literally *all that deep learning does*! If your data points are, say, the RGB values of pixels in photos of owls, then you can create an owl-recogniser model by following the exact steps above.\n",
        "\n",
        "This may, at first, sound about as useful as the classic \"how to draw an owl\" guide:"
      ],
      "metadata": {
        "id": "BWPZppV9p_3k"
      }
    },
    {
      "cell_type": "markdown",
      "source": [
        "![image.png](attachment:c66592d3-c997-4c72-aed4-2dea579b96e1.png)"
      ],
      "metadata": {
        "id": "px2oZrVdp_3k"
      }
    },
    {
      "cell_type": "markdown",
      "source": [
        "Students often ask me at this point \"OK Jeremy, but how do neural nets *actually work*\". But at a foundational level, there is no \"step 2\". We're done -- the above steps will, given enough time and enough data, create (for example) an owl recogniser, if you feed in enough owls (and non-owls).\n",
        "\n",
        "The devil, I guess, is in the \"given enough time and enough data\" part of the above sentence. There's a *lot* of tweaks we can make to reduce both of these things. For instance, instead of running our calculations on a normal CPU, as we've done above, we could do thousands of them simultaneously by taking advantage of a GPU. We could greatly reduce the amount of computation and data needed by using a convolution instead of a matrix multiplication, which basically means skipping over a bunch of the multiplications and additions for bits that you'd guess won't be important. We could make things much faster if, instead of starting with random parameters, we start with parameters of someone else's model that does something similar to what we want (this is called *transfer learning*).\n",
        "\n",
        "And, of course, there's lots of helpful software out there to do this stuff for you without too much fuss. Like, say, [fastai](https://docs.fast.ai).\n",
        "\n",
        "Learning these things is what we teach in our [course](https://course.fast.ai), which, like everything we make, is totally free. So if you're interested in learning more, do check it out!"
      ],
      "metadata": {
        "id": "fStVfIIhp_3k"
      }
    }
  ]
}